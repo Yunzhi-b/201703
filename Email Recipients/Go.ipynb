{
 "cells": [
  {
   "cell_type": "code",
   "execution_count": 13,
   "metadata": {
    "collapsed": true
   },
   "outputs": [],
   "source": [
    "import random\n",
    "import operator\n",
    "import pandas as pd\n",
    "from collections import Counter\n",
    "import numpy as np"
   ]
  },
  {
   "cell_type": "code",
   "execution_count": 48,
   "metadata": {
    "collapsed": true
   },
   "outputs": [],
   "source": [
    "training = pd.read_csv('training_set.csv', sep=',', header=0)\n",
    "\n",
    "training_info = pd.read_csv('training_info.csv', sep=',', header=0)\n",
    "\n",
    "test = pd.read_csv('test_set.csv', sep=',', header=0)\n",
    "\n",
    "test_info = pd.read_csv('test_info.csv', sep=',', header=0)"
   ]
  },
  {
   "cell_type": "code",
   "execution_count": 11,
   "metadata": {
    "collapsed": false
   },
   "outputs": [
    {
     "name": "stdout",
     "output_type": "stream",
     "text": [
      "(125, 2)\n",
      "(43613, 4)\n",
      "(125, 2)\n"
     ]
    }
   ],
   "source": [
    "print(training.shape)\n",
    "print(training_info.shape)\n",
    "print(test.shape)"
   ]
  },
  {
   "cell_type": "code",
   "execution_count": 16,
   "metadata": {
    "collapsed": false
   },
   "outputs": [
    {
     "name": "stdout",
     "output_type": "stream",
     "text": [
      "(43613,)\n",
      "404873\n",
      "60\n",
      "[    60     66     74 ..., 404870 404872 404873]\n"
     ]
    }
   ],
   "source": [
    "print(np.unique(training_info.mid.values).shape)\n",
    "print(max(training_info.mid.values))\n",
    "print(min(training_info.mid.values))\n",
    "print(np.unique(training_info.mid.values))"
   ]
  },
  {
   "cell_type": "code",
   "execution_count": 3,
   "metadata": {
    "collapsed": false
   },
   "outputs": [
    {
     "data": {
      "text/html": [
       "<div>\n",
       "<table border=\"1\" class=\"dataframe\">\n",
       "  <thead>\n",
       "    <tr style=\"text-align: right;\">\n",
       "      <th></th>\n",
       "      <th>sender</th>\n",
       "      <th>mids</th>\n",
       "    </tr>\n",
       "  </thead>\n",
       "  <tbody>\n",
       "    <tr>\n",
       "      <th>0</th>\n",
       "      <td>karen.buckley@enron.com</td>\n",
       "      <td>158713 158697 200301 158679 278595 298162 2002...</td>\n",
       "    </tr>\n",
       "    <tr>\n",
       "      <th>1</th>\n",
       "      <td>amr.ibrahim@enron.com</td>\n",
       "      <td>215241 3437 215640 3506 191790 3517 3520 3562 ...</td>\n",
       "    </tr>\n",
       "    <tr>\n",
       "      <th>2</th>\n",
       "      <td>andrea.ring@enron.com</td>\n",
       "      <td>270705 270706 270707 270708 270709 270710 2707...</td>\n",
       "    </tr>\n",
       "    <tr>\n",
       "      <th>3</th>\n",
       "      <td>sylvia.hu@enron.com</td>\n",
       "      <td>111444 111422 183084 111412 111347 110883 1105...</td>\n",
       "    </tr>\n",
       "    <tr>\n",
       "      <th>4</th>\n",
       "      <td>phillip.platter@enron.com</td>\n",
       "      <td>327074 327384 327385 264443 274124 274125 2741...</td>\n",
       "    </tr>\n",
       "  </tbody>\n",
       "</table>\n",
       "</div>"
      ],
      "text/plain": [
       "                      sender  \\\n",
       "0    karen.buckley@enron.com   \n",
       "1      amr.ibrahim@enron.com   \n",
       "2      andrea.ring@enron.com   \n",
       "3        sylvia.hu@enron.com   \n",
       "4  phillip.platter@enron.com   \n",
       "\n",
       "                                                mids  \n",
       "0  158713 158697 200301 158679 278595 298162 2002...  \n",
       "1  215241 3437 215640 3506 191790 3517 3520 3562 ...  \n",
       "2  270705 270706 270707 270708 270709 270710 2707...  \n",
       "3  111444 111422 183084 111412 111347 110883 1105...  \n",
       "4  327074 327384 327385 264443 274124 274125 2741...  "
      ]
     },
     "execution_count": 3,
     "metadata": {},
     "output_type": "execute_result"
    }
   ],
   "source": [
    "training.head()"
   ]
  },
  {
   "cell_type": "code",
   "execution_count": 4,
   "metadata": {
    "collapsed": false
   },
   "outputs": [
    {
     "name": "stdout",
     "output_type": "stream",
     "text": [
      "body:Legal has been assessing the risks of doing block forward trades as financial and for now, subject to future changes that may be required  as discussions with the CAPX legal experts continue,  we can state the basic rules as follows:It is okay to do up to 50% of  our Block Forward business as financial.It is very important to monitor this 50% level very closely and we should not exceed it. We should not rely on the PX to tell us what the level is. We should confirm it ourselves.  A skeptical regulator, looking at PX records should never be able to see that we ever did more than half our block forward business as financial.  One of the legal rules that we must comply with in this area is that there must be a bona fide commercial reason for going financial.  This dumbfoundingly simple sounding rule is important.  Somehow, when we communicate our decision to the PX to go from physical to financial, we should give our reason.  I m not sure whether our decision is expressed by phone, or electronically, but in either case,  the person making the change with the PX should get in an expression something like this:  \"we would like to change these trades to financial because we think the elimination of physical risk will benefit us commercially.\"  Please be patient with this self serving requirement and do it.  I have not worked out with any of the other back office groups how this new practice will be handled. Obviously any changes it will require in scheduling, settlements and accounting need to be dealt with too. Please call me with any questions.  ----cgy\n",
      "recipents:robert.badeer@enron.com murray.o neil@enron.com tim.belden@enron.com elizabeth.sager@enron.com carla.hoffman@enron.com jeff.richter@enron.com chris.stokley@enron.com valarie.sabo@enron.com\n"
     ]
    },
    {
     "data": {
      "text/html": [
       "<div>\n",
       "<table border=\"1\" class=\"dataframe\">\n",
       "  <thead>\n",
       "    <tr style=\"text-align: right;\">\n",
       "      <th></th>\n",
       "      <th>mid</th>\n",
       "      <th>date</th>\n",
       "      <th>body</th>\n",
       "      <th>recipients</th>\n",
       "    </tr>\n",
       "  </thead>\n",
       "  <tbody>\n",
       "    <tr>\n",
       "      <th>0</th>\n",
       "      <td>60</td>\n",
       "      <td>2000-07-25 08:14:00</td>\n",
       "      <td>Legal has been assessing the risks of doing bl...</td>\n",
       "      <td>robert.badeer@enron.com murray.o neil@enron.co...</td>\n",
       "    </tr>\n",
       "    <tr>\n",
       "      <th>1</th>\n",
       "      <td>66</td>\n",
       "      <td>2000-08-03 02:56:00</td>\n",
       "      <td>Attached is a spreadsheet to estimate export f...</td>\n",
       "      <td>kim.ward@enron.com robert.badeer@enron.com mur...</td>\n",
       "    </tr>\n",
       "    <tr>\n",
       "      <th>2</th>\n",
       "      <td>74</td>\n",
       "      <td>2000-08-15 05:37:00</td>\n",
       "      <td>Kevin/Bob: Here is a quick rundown on the cons...</td>\n",
       "      <td>robert.badeer@enron.com john.massey@enron.com ...</td>\n",
       "    </tr>\n",
       "    <tr>\n",
       "      <th>3</th>\n",
       "      <td>80</td>\n",
       "      <td>2000-08-20 14:12:00</td>\n",
       "      <td>check this out and let everyone know what s up...</td>\n",
       "      <td>robert.badeer@enron.com jeff.richter@enron.com</td>\n",
       "    </tr>\n",
       "    <tr>\n",
       "      <th>4</th>\n",
       "      <td>83</td>\n",
       "      <td>2000-08-22 08:17:00</td>\n",
       "      <td>Further to your letter to us (addressed to Mr....</td>\n",
       "      <td>pgillman@schiffhardin.com kamarlantes@calpx.co...</td>\n",
       "    </tr>\n",
       "  </tbody>\n",
       "</table>\n",
       "</div>"
      ],
      "text/plain": [
       "   mid                 date  \\\n",
       "0   60  2000-07-25 08:14:00   \n",
       "1   66  2000-08-03 02:56:00   \n",
       "2   74  2000-08-15 05:37:00   \n",
       "3   80  2000-08-20 14:12:00   \n",
       "4   83  2000-08-22 08:17:00   \n",
       "\n",
       "                                                body  \\\n",
       "0  Legal has been assessing the risks of doing bl...   \n",
       "1  Attached is a spreadsheet to estimate export f...   \n",
       "2  Kevin/Bob: Here is a quick rundown on the cons...   \n",
       "3  check this out and let everyone know what s up...   \n",
       "4  Further to your letter to us (addressed to Mr....   \n",
       "\n",
       "                                          recipients  \n",
       "0  robert.badeer@enron.com murray.o neil@enron.co...  \n",
       "1  kim.ward@enron.com robert.badeer@enron.com mur...  \n",
       "2  robert.badeer@enron.com john.massey@enron.com ...  \n",
       "3     robert.badeer@enron.com jeff.richter@enron.com  \n",
       "4  pgillman@schiffhardin.com kamarlantes@calpx.co...  "
      ]
     },
     "execution_count": 4,
     "metadata": {},
     "output_type": "execute_result"
    }
   ],
   "source": [
    "print(\"body:\"+training_info.body.values[0])\n",
    "print(\"recipents:\"+training_info.recipients.values[0])\n",
    "training_info.head()"
   ]
  },
  {
   "cell_type": "code",
   "execution_count": 5,
   "metadata": {
    "collapsed": false
   },
   "outputs": [
    {
     "data": {
      "text/html": [
       "<div>\n",
       "<table border=\"1\" class=\"dataframe\">\n",
       "  <thead>\n",
       "    <tr style=\"text-align: right;\">\n",
       "      <th></th>\n",
       "      <th>sender</th>\n",
       "      <th>mids</th>\n",
       "    </tr>\n",
       "  </thead>\n",
       "  <tbody>\n",
       "    <tr>\n",
       "      <th>0</th>\n",
       "      <td>karen.buckley@enron.com</td>\n",
       "      <td>298389 332383 298390 284071 366982 81773 81791...</td>\n",
       "    </tr>\n",
       "    <tr>\n",
       "      <th>1</th>\n",
       "      <td>amr.ibrahim@enron.com</td>\n",
       "      <td>48260 48465 50344 48268 50330 48237 189979 189...</td>\n",
       "    </tr>\n",
       "    <tr>\n",
       "      <th>2</th>\n",
       "      <td>andrea.ring@enron.com</td>\n",
       "      <td>366364 271168 271172 271167 271189</td>\n",
       "    </tr>\n",
       "    <tr>\n",
       "      <th>3</th>\n",
       "      <td>sylvia.hu@enron.com</td>\n",
       "      <td>134931 134856 233549 233517 134895 233584 3736...</td>\n",
       "    </tr>\n",
       "    <tr>\n",
       "      <th>4</th>\n",
       "      <td>phillip.platter@enron.com</td>\n",
       "      <td>274220 274225 274215 274223 274214 274207 2742...</td>\n",
       "    </tr>\n",
       "  </tbody>\n",
       "</table>\n",
       "</div>"
      ],
      "text/plain": [
       "                      sender  \\\n",
       "0    karen.buckley@enron.com   \n",
       "1      amr.ibrahim@enron.com   \n",
       "2      andrea.ring@enron.com   \n",
       "3        sylvia.hu@enron.com   \n",
       "4  phillip.platter@enron.com   \n",
       "\n",
       "                                                mids  \n",
       "0  298389 332383 298390 284071 366982 81773 81791...  \n",
       "1  48260 48465 50344 48268 50330 48237 189979 189...  \n",
       "2                 366364 271168 271172 271167 271189  \n",
       "3  134931 134856 233549 233517 134895 233584 3736...  \n",
       "4  274220 274225 274215 274223 274214 274207 2742...  "
      ]
     },
     "execution_count": 5,
     "metadata": {},
     "output_type": "execute_result"
    }
   ],
   "source": [
    "test.head()"
   ]
  },
  {
   "cell_type": "code",
   "execution_count": 34,
   "metadata": {
    "collapsed": false
   },
   "outputs": [
    {
     "name": "stdout",
     "output_type": "stream",
     "text": [
      "karen.buckley@enron.com\n",
      "['158713 158697 200301 158679 278595 298162 200215 256957 256959 268323 298186 276574 278639 392289 74640 200134 74643 74644 74646 266070 278585 392279 278578 392208 392209 158590 159537 200105 278567 286971 286972 278558 381038 382641 158594 159533 200094 158605 158607 159520 159522 161033 392155 161037 200085 200086 381013 392115 160998 286942 392151 158465 159486 159724 200061 200062 158472 159476 200049 159470 159712 278520 286935 392109 160694 278511 286926 391904 158517 298238 298277 380772 382593 298292 380773 292003 298313 79559 298320 335968 298326 286794 298353 94852 159335 286801 94855 87266 94831 94833 100629 160912 278463 285452 286812 298359 365562 27543 51586 53586 94560 94561 160943 266654 278483 286866 298370 27513 51577 93518 152890 152894 153164 153175 160952 266636 278487 286874 298371 298372 365542 366836 52116 81930 298374 152937 27453 52097 53547 86741 93505 100495 152973 152976 160973 253317 266602 278497 285582 286903 287507 365523 366395 366824 153012 159449 162615 169589 169590 200035 200613 274084 274708 390472 53532 285336']\n",
      "158713 158697 200301 158679 278595 298162 200215 256957 256959 268323 298186 276574 278639 392289 74640 200134 74643 74644 74646 266070 278585 392279 278578 392208 392209 158590 159537 200105 278567 286971 286972 278558 381038 382641 158594 159533 200094 158605 158607 159520 159522 161033 392155 161037 200085 200086 381013 392115 160998 286942 392151 158465 159486 159724 200061 200062 158472 159476 200049 159470 159712 278520 286935 392109 160694 278511 286926 391904 158517 298238 298277 380772 382593 298292 380773 292003 298313 79559 298320 335968 298326 286794 298353 94852 159335 286801 94855 87266 94831 94833 100629 160912 278463 285452 286812 298359 365562 27543 51586 53586 94560 94561 160943 266654 278483 286866 298370 27513 51577 93518 152890 152894 153164 153175 160952 266636 278487 286874 298371 298372 365542 366836 52116 81930 298374 152937 27453 52097 53547 86741 93505 100495 152973 152976 160973 253317 266602 278497 285582 286903 287507 365523 366395 366824 153012 159449 162615 169589 169590 200035 200613 274084 274708 390472 53532 285336\n",
      "158713 158697 200301 158679 278595 298162 200215 256957 256959 268323 298186 276574 278639 392289 74640 200134 74643 74644 74646 266070 278585 392279 278578 392208 392209 158590 159537 200105 278567 286971 286972 278558 381038 382641 158594 159533 200094 158605 158607 159520 159522 161033 392155 161037 200085 200086 381013 392115 160998 286942 392151 158465 159486 159724 200061 200062 158472 159476 200049 159470 159712 278520 286935 392109 160694 278511 286926 391904 158517 298238 298277 380772 382593 298292 380773 292003 298313 79559 298320 335968 298326 286794 298353 94852 159335 286801 94855 87266 94831 94833 100629 160912 278463 285452 286812 298359 365562 27543 51586 53586 94560 94561 160943 266654 278483 286866 298370 27513 51577 93518 152890 152894 153164 153175 160952 266636 278487 286874 298371 298372 365542 366836 52116 81930 298374 152937 27453 52097 53547 86741 93505 100495 152973 152976 160973 253317 266602 278497 285582 286903 287507 365523 366395 366824 153012 159449 162615 169589 169590 200035 200613 274084 274708 390472 53532 285336\n",
      "['158713', '158697', '200301', '158679', '278595', '298162', '200215', '256957', '256959', '268323', '298186', '276574', '278639', '392289', '74640', '200134', '74643', '74644', '74646', '266070', '278585', '392279', '278578', '392208', '392209', '158590', '159537', '200105', '278567', '286971', '286972', '278558', '381038', '382641', '158594', '159533', '200094', '158605', '158607', '159520', '159522', '161033', '392155', '161037', '200085', '200086', '381013', '392115', '160998', '286942', '392151', '158465', '159486', '159724', '200061', '200062', '158472', '159476', '200049', '159470', '159712', '278520', '286935', '392109', '160694', '278511', '286926', '391904', '158517', '298238', '298277', '380772', '382593', '298292', '380773', '292003', '298313', '79559', '298320', '335968', '298326', '286794', '298353', '94852', '159335', '286801', '94855', '87266', '94831', '94833', '100629', '160912', '278463', '285452', '286812', '298359', '365562', '27543', '51586', '53586', '94560', '94561', '160943', '266654', '278483', '286866', '298370', '27513', '51577', '93518', '152890', '152894', '153164', '153175', '160952', '266636', '278487', '286874', '298371', '298372', '365542', '366836', '52116', '81930', '298374', '152937', '27453', '52097', '53547', '86741', '93505', '100495', '152973', '152976', '160973', '253317', '266602', '278497', '285582', '286903', '287507', '365523', '366395', '366824', '153012', '159449', '162615', '169589', '169590', '200035', '200613', '274084', '274708', '390472', '53532', '285336']\n"
     ]
    }
   ],
   "source": [
    "# convert training set to dictionary\n",
    "emails_ids_per_sender = {}\n",
    "for index, series in training.iterrows():\n",
    "    row = series.tolist()\n",
    "    sender = row[0]\n",
    "    if index==0:\n",
    "        print(sender)\n",
    "        print(row[1:])\n",
    "        print(row[1])\n",
    "        print(row[1:][0])\n",
    "        print(row[1:][0].split(' '))\n",
    "    ids = row[1:][0].split(' ')\n",
    "    emails_ids_per_sender[sender] = ids"
   ]
  },
  {
   "cell_type": "code",
   "execution_count": 7,
   "metadata": {
    "collapsed": true
   },
   "outputs": [],
   "source": [
    "all_senders = emails_ids_per_sender.keys()"
   ]
  },
  {
   "cell_type": "code",
   "execution_count": 19,
   "metadata": {
    "collapsed": false
   },
   "outputs": [
    {
     "data": {
      "text/plain": [
       "['kim.ward@enron.com robert.badeer@enron.com murray.o neil@enron.com chris.foster@enron.com m..forney@enron.com tim.belden@enron.com tom.alonso@enron.com holli.krebs@enron.com mark.fischer@enron.com diana.scholtes@enron.com matt.motley@enron.com chris.mallory@enron.com portland.shift@enron.com phillip.platter@enron.com jeff.richter@enron.com chris.stokley@enron.com john.malowney@enron.com sean.crandall@enron.com paul.choi@enron.com stewart.rosman@enron.com smith.day@enron.com']"
      ]
     },
     "execution_count": 19,
     "metadata": {},
     "output_type": "execute_result"
    }
   ],
   "source": [
    "training_info[training_info['mid']==66]['recipients'].tolist()"
   ]
  },
  {
   "cell_type": "code",
   "execution_count": 32,
   "metadata": {
    "collapsed": false
   },
   "outputs": [
    {
     "name": "stdout",
     "output_type": "stream",
     "text": [
      "<class 'dict_keys'>\n"
     ]
    }
   ],
   "source": [
    "print(type(all_senders))"
   ]
  },
  {
   "cell_type": "code",
   "execution_count": 27,
   "metadata": {
    "collapsed": false
   },
   "outputs": [
    {
     "name": "stdout",
     "output_type": "stream",
     "text": [
      "[('greg.whalley@enron.com', 59), ('mark.frevert@enron.com', 58), ('kenneth.lay@enron.com', 58), ('steven.j.kean@enron.com', 58), ('david.w.delainey@enron.com', 57), ('james.derrick@enron.com', 57), ('louise.kitchen@enron.com', 56), ('jeffrey.mcmahon@enron.com', 56), ('richard.causey@enron.com', 56), ('andrew.fastow@enron.com', 56), ('jim.fallon@enron.com', 56), ('john.lavorato@enron.com', 56), ('john.sherriff@enron.com', 56), ('jeffrey.a.shankman@enron.com', 56), ('ben.glisan@enron.com', 56), ('mike.mcconnell@enron.com', 56), ('mark.koenig@enron.com', 56), ('rick.buy@enron.com', 56), ('stanley.horton@enron.com', 55), ('janet.dietrich@enron.com', 55), ('raymond.bowen@enron.com', 55), ('rosalee.fleming@enron.com', 54), ('liz.taylor@enron.com', 54), ('nicki.daw@enron.com', 54), ('e..haedicke@enron.com', 53), ('london.brown@enron.com', 53), ('maureen.mcvicker@enron.com', 52), ('cathy.phillips@enron.com', 51), ('connie.blackwood@enron.com', 51), ('inez.dauterive@enron.com', 51), ('bridget.maronge@enron.com', 51), ('lucy.marshall@enron.com', 51), ('sue.ford@enron.com', 51), ('tammie.schoppe@enron.com', 51), ('kimberly.hillis@enron.com', 51), ('kay.chapman@enron.com', 51), ('jennifer.burns@enron.com', 51), ('cindy.stark@enron.com', 51), ('laura.valencia@enron.com', 51), ('sharron.westbrook@enron.com', 51), ('marisa.rapacioli@enron.com', 50), ('kerry.ferrari@enron.com', 50), ('janette.elbertson@enron.com', 50), ('j.harris@enron.com', 50), ('marsha.schiller@enron.com', 50), ('k..heathman@enron.com', 44), ('a..hughes@enron.com', 41), ('joannie.williamson@enron.com', 36), ('wells.tori@enron.com', 32), ('cindy.olson@enron.com', 27), ('elizabeth.tilney@enron.com', 25), ('paula.rieker@enron.com', 18), ('ann.brown@enron.com', 18), ('rebecca.mcdonald@enron.com', 16), ('amelia.alder@enron.com', 16), ('jennifer.adams@enron.com', 15), ('jeremy.blachman@enron.com', 15), ('mark.metts@enron.com', 15), ('david.cox@enron.com', 15), ('nicole.scott@enron.com', 15), ('dan.leff@enron.com', 15), ('greg.piper@enron.com', 14), ('loretta.brelsford@enron.com', 14), ('jeffrey.sherrick@enron.com', 14), ('danny.mccarty@enron.com', 14), ('wade.cline@enron.com', 14), ('rod.hayslett@enron.com', 14), ('matthew.scrimshaw@enron.com', 14), ('ginger.dernehl@enron.com', 13), ('richard.shapiro@enron.com', 13), ('dolores.fisher@enron.com', 13), ('sharon.dick@enron.com', 13), ('kathy.dodgen@enron.com', 13), ('ina.rangel@enron.com', 13), ('binky.davidson@enron.com', 12), ('dortha.gray@enron.com', 12), ('a..lindholm@enron.com', 12), ('judy.zoch@enron.com', 12), ('julia.murray@enron.com', 12), ('linda.hawkins@enron.com', 12), ('richard.lewis@enron.com', 12), ('rex.shelby@enron.com', 12), ('debra.davidson@enron.com', 12), ('bob.butts@enron.com', 12), ('tracie.mccormack@enron.com', 12), ('hilda.bourgeois-galloway@enron.com', 12), ('jeff.donahue@enron.com', 12), ('j..detmering@enron.com', 12), ('adam.umanoff@enron.com', 12), ('nella.cappelletto@enron.com', 12), ('christina.valdez@enron.com', 12), ('cheryl.kuehl@enron.com', 12), ('phil.lowry@enron.com', 12), ('robert.hermann@enron.com', 12), ('sandy.lewelling@enron.com', 12), ('f..calger@enron.com', 12), ('connie.estrems@enron.com', 12), ('lorraine.telles@enron.com', 12), ('janice.hogan@enron.com', 12), ('joseph.deffner@enron.com', 12), ('michael.hutchinson@enron.com', 12), ('lillian.carroll@enron.com', 12), ('rob.walls@enron.com', 12), ('beena.pradhan@enron.com', 12), ('joyce.dorsey@enron.com', 12), ('yorleni.mendez@enron.com', 12), ('brian.redmond@enron.com', 12), ('wes.colwell@enron.com', 12), ('crissy.collett@enron.com', 12), ('tim.belden@enron.com', 12), ('esmeralda.hinojosa@enron.com', 12), ('l..cromwell@enron.com', 12), ('joe.gold@enron.com', 12), ('jim.prentice@enron.com', 12), ('julie.armstrong@enron.com', 12), ('megan.angelos@enron.com', 12), ('lila.holst@enron.com', 12), ('debra.hicks@enron.com', 12), ('john.gillis@enron.com', 12), ('david.duran@enron.com', 12), ('mollie.gustafson@enron.com', 12), ('susan.fallon@enron.com', 12), ('shirley.crenshaw@enron.com', 12), ('barbara.hooks@enron.com', 12), ('keith.dodson@enron.com', 12), ('tina.rode@enron.com', 12), ('robert.hayes@enron.com', 12), ('charlene.jackson@enron.com', 12), ('erica.braden@enron.com', 12), ('tina.spiller@enron.com', 12), ('rich.dimichele@enron.com', 12), ('martha.benner@enron.com', 12), ('gary.hickerson@enron.com', 12), ('bobbie.moody@enron.com', 12), ('joe.kishkill@enron.com', 12), ('colleen.sullivan@enron.com', 12), ('rob.milnthorp@enron.com', 12), ('george.wasaff@enron.com', 12), ('rosario.boling@enron.com', 12), ('edineth.santos@enron.com', 12), ('mitch.taylor@enron.com', 12), ('vicki.sharp@enron.com', 12), ('j.kaminski@enron.com', 12), ('sally.beck@enron.com', 12), ('carolyn.george@enron.com', 12), ('gloria.alvarez@enron.com', 12), ('kathy.campos@enron.com', 12), ('bill.cordes@enron.com', 12), ('phillip.k.ellen@enron.com', 12), ('kimberly.bates@enron.com', 12), ('fernley.dyson@enron.com', 12), ('nikki.slade@enron.com', 12), ('george.mcclellan@enron.com', 12), ('shirley.tijerina@enron.com', 12), ('kristina.mordaunt@enron.com', 12), ('debbie.foot@enron.com', 12), ('bay.frank@enron.com', 11), ('michael.farmer@enron.com', 11), ('gahn.scott@enron.com', 11), ('kevin.garland@enron.com', 11), ('frank.stabler@enron.com', 11), ('tammy.kovalcik@enron.com', 11), ('earle.joseph@enron.com', 11), ('s..muller@enron.com', 8), ('kelly.johnson@enron.com', 8), ('donna.teal@enron.com', 8), ('l..wells@enron.com', 8), ('jeff.messina@enron.com', 8), ('sherri.sera@enron.com', 7), ('mark.muller@enron.com', 6), ('hughes.james@enron.com', 6), ('stanmarek@marekbros.com', 6), ('mark.palmer@enron.com', 5), ('rachael.adams@enron.com', 4), ('jeff.skilling@enron.com', 4), ('carolyn.evans@enron.com', 3), ('dorothy.dalton@enron.com', 3), ('dottie@kerr-solutions.com', 3), ('kevin.hannon@enron.com', 3), ('philippe.bibi@enron.com', 3), ('marty.sunde@enron.com', 3), ('james.hughes@enron.com', 3), ('stuart.cichosz@enron.com', 3), ('lou.pai@enron.com', 3), ('ken.rice@enron.com', 3), ('teresa.benson@enron.com', 3), ('rebecca.carter@enron.com', 3), ('steve.elliott@enron.com', 2), ('kristi.monson@enron.com', 2), ('michael.brown@enron.com', 2), ('ursula.brenner@enron.com', 2), ('anna.harris@enron.com', 2), ('eharris@insightpartners.com', 2), ('christie.patrick@enron.com', 2), ('holfati@ispheres.com', 2), ('karen.denne@enron.com', 1), ('katherine.brown@enron.com', 1), ('knethercutt@houstontech.org', 1), ('kevinscott@onlinemailbox.net', 1), ('tony.kishindo@dewolffboberg.com', 1), ('judyaspen@aol.com', 1), ('elizabeth.ivers@enron.com', 1), ('karen.owens@enron.com', 1), ('jeff_hines@hines.com', 1), ('beverly.aden@enron.com', 1), ('no.address@enron.com', 1), ('jlfreeh@parkcity.net', 1), ('stephanie.harris@enron.com', 1), ('sgiridha@prismintl.com', 1), ('billy.dorsey@enron.com', 1), ('karen.heathman@enron.com', 1), ('mbkuntz@aol.com', 1), ('stan.horton@enron.com', 1), ('rhowe@availant.com', 1), ('judy.smith@enron.com', 1), ('simone.rose@enron.com', 1), ('carol.moffett@enron.com', 1), ('marian.salinas@enron.com', 1), ('gailg@morgangroup.com', 1), ('harold.buchanan@enron.com', 1), ('john.brindle@enron.com', 1), ('pmurphy@swbanktx.com', 1), ('ssoles@ziffenergy.com', 1), ('john.arnold@enron.com', 1), ('fiona.grant@enron.com', 1), ('peggy.mccurley@enron.com', 1), ('thomas.white@enron.com', 1), ('lwitt@netbotz.com', 1), ('kathryn.corbally@enron.com', 1), ('cliff.baxter@enron.com', 1), ('carol.brown@enron.com', 1), ('dlong@houstontech.org', 1), ('steven.bailey@enron.com', 1), ('tracy.geaccone@enron.com', 1), ('vanessa.groscrand@enron.com', 1), ('shawn.cumberland@enron.com', 1), ('freetrial@ptvnews.net', 1), ('kapoor@eurasiagroup.net', 1), ('tori.wells@enron.com', 1), ('lauren.urquhart@enron.com', 1), ('kirsten.nelz@enron.com', 1), ('scott.vonderheide@enron.com', 1)]\n",
      "<class 'list'>\n",
      "0\n",
      "10\n",
      "20\n",
      "30\n",
      "40\n",
      "50\n",
      "60\n",
      "70\n",
      "80\n",
      "90\n",
      "100\n",
      "110\n",
      "120\n"
     ]
    }
   ],
   "source": [
    "# create address book with frequency information for each user\n",
    "address_books = {}\n",
    "i = 0\n",
    "\n",
    "for sender, ids in emails_ids_per_sender.items():\n",
    "    recs_temp = []\n",
    "    for my_id in ids:\n",
    "        recipients = training_info[training_info['mid']==int(my_id)]['recipients'].tolist()\n",
    "        recipients = recipients[0].split(' ')\n",
    "        # keep only legitimate email addresses\n",
    "        recipients = [rec for rec in recipients if '@' in rec]\n",
    "        recs_temp.append(recipients)\n",
    "    # flatten    \n",
    "    recs_temp = [elt for sublist in recs_temp for elt in sublist]\n",
    "    # compute recipient counts\n",
    "    rec_occ = dict(Counter(recs_temp))\n",
    "    \n",
    "    # order by frequency\n",
    "    sorted_rec_occ = sorted(rec_occ.items(), key=operator.itemgetter(1), reverse = True)\n",
    "    if i==0:\n",
    "        print(sorted_rec_occ)\n",
    "        print(type(sorted_rec_occ))\n",
    "    # save\n",
    "    address_books[sender] = sorted_rec_occ\n",
    "    \n",
    "    if i % 10 == 0:\n",
    "        print(i)\n",
    "    i += 1"
   ]
  },
  {
   "cell_type": "code",
   "execution_count": 26,
   "metadata": {
    "collapsed": true
   },
   "outputs": [],
   "source": [
    "# save all unique recipient names    \n",
    "all_recs = list(set([elt[0] for sublist in address_books.values() for elt in sublist]))"
   ]
  },
  {
   "cell_type": "code",
   "execution_count": 28,
   "metadata": {
    "collapsed": true
   },
   "outputs": [],
   "source": [
    "all_users = []\n",
    "all_users.extend(all_senders)\n",
    "all_users.extend(all_recs)\n",
    "all_users = list(set(all_users))"
   ]
  },
  {
   "cell_type": "code",
   "execution_count": 33,
   "metadata": {
    "collapsed": false
   },
   "outputs": [
    {
     "name": "stdout",
     "output_type": "stream",
     "text": [
      "9779\n",
      "125\n",
      "9783\n"
     ]
    }
   ],
   "source": [
    "print(len(all_recs))\n",
    "print(len(all_senders))\n",
    "print(len(all_users))"
   ]
  },
  {
   "cell_type": "code",
   "execution_count": 37,
   "metadata": {
    "collapsed": false
   },
   "outputs": [],
   "source": [
    "# will contain email ids, predictions for random baseline, and predictions for frequency baseline\n",
    "predictions_per_sender = {}\n",
    "# number of recipients to predict\n",
    "k = 10\n",
    "\n",
    "for index, row in test.iterrows():\n",
    "    name_ids = row.tolist()\n",
    "    sender = name_ids[0]\n",
    "    # get IDs of the emails for which recipient prediction is needed\n",
    "    ids_predict = name_ids[1].split(' ')\n",
    "    ids_predict = [int(my_id) for my_id in ids_predict]\n",
    "    random_preds = []\n",
    "    freq_preds = []\n",
    "    # select k most frequent recipients for the user\n",
    "    k_most = [elt[0] for elt in address_books[sender][:k]]\n",
    "    for id_predict in ids_predict:\n",
    "        # select k users at random\n",
    "        random_preds.append(random.sample(all_users, k))\n",
    "        # for the frequency baseline, the predictions are always the same\n",
    "        freq_preds.append(k_most)\n",
    "    predictions_per_sender[sender] = [ids_predict,random_preds,freq_preds]"
   ]
  },
  {
   "cell_type": "code",
   "execution_count": 40,
   "metadata": {
    "collapsed": false
   },
   "outputs": [],
   "source": [
    "with open('predictions_random.txt', 'w') as my_file:\n",
    "    my_file.write('mid,recipients' + '\\n')\n",
    "    for sender, preds in predictions_per_sender.items():\n",
    "        ids = preds[0]\n",
    "        random_preds = preds[1]\n",
    "        for index, my_preds in enumerate(random_preds):\n",
    "            my_file.write(str(ids[index]) + ',' + ' '.join(my_preds) + '\\n')\n",
    "\n"
   ]
  },
  {
   "cell_type": "code",
   "execution_count": 43,
   "metadata": {
    "collapsed": false
   },
   "outputs": [
    {
     "name": "stdout",
     "output_type": "stream",
     "text": [
      "[['greg.whalley@enron.com', 'mark.frevert@enron.com', 'kenneth.lay@enron.com', 'steven.j.kean@enron.com', 'david.w.delainey@enron.com', 'james.derrick@enron.com', 'louise.kitchen@enron.com', 'jeffrey.mcmahon@enron.com', 'richard.causey@enron.com', 'andrew.fastow@enron.com'], ['greg.whalley@enron.com', 'mark.frevert@enron.com', 'kenneth.lay@enron.com', 'steven.j.kean@enron.com', 'david.w.delainey@enron.com', 'james.derrick@enron.com', 'louise.kitchen@enron.com', 'jeffrey.mcmahon@enron.com', 'richard.causey@enron.com', 'andrew.fastow@enron.com'], ['greg.whalley@enron.com', 'mark.frevert@enron.com', 'kenneth.lay@enron.com', 'steven.j.kean@enron.com', 'david.w.delainey@enron.com', 'james.derrick@enron.com', 'louise.kitchen@enron.com', 'jeffrey.mcmahon@enron.com', 'richard.causey@enron.com', 'andrew.fastow@enron.com'], ['greg.whalley@enron.com', 'mark.frevert@enron.com', 'kenneth.lay@enron.com', 'steven.j.kean@enron.com', 'david.w.delainey@enron.com', 'james.derrick@enron.com', 'louise.kitchen@enron.com', 'jeffrey.mcmahon@enron.com', 'richard.causey@enron.com', 'andrew.fastow@enron.com'], ['greg.whalley@enron.com', 'mark.frevert@enron.com', 'kenneth.lay@enron.com', 'steven.j.kean@enron.com', 'david.w.delainey@enron.com', 'james.derrick@enron.com', 'louise.kitchen@enron.com', 'jeffrey.mcmahon@enron.com', 'richard.causey@enron.com', 'andrew.fastow@enron.com'], ['greg.whalley@enron.com', 'mark.frevert@enron.com', 'kenneth.lay@enron.com', 'steven.j.kean@enron.com', 'david.w.delainey@enron.com', 'james.derrick@enron.com', 'louise.kitchen@enron.com', 'jeffrey.mcmahon@enron.com', 'richard.causey@enron.com', 'andrew.fastow@enron.com'], ['greg.whalley@enron.com', 'mark.frevert@enron.com', 'kenneth.lay@enron.com', 'steven.j.kean@enron.com', 'david.w.delainey@enron.com', 'james.derrick@enron.com', 'louise.kitchen@enron.com', 'jeffrey.mcmahon@enron.com', 'richard.causey@enron.com', 'andrew.fastow@enron.com'], ['greg.whalley@enron.com', 'mark.frevert@enron.com', 'kenneth.lay@enron.com', 'steven.j.kean@enron.com', 'david.w.delainey@enron.com', 'james.derrick@enron.com', 'louise.kitchen@enron.com', 'jeffrey.mcmahon@enron.com', 'richard.causey@enron.com', 'andrew.fastow@enron.com'], ['greg.whalley@enron.com', 'mark.frevert@enron.com', 'kenneth.lay@enron.com', 'steven.j.kean@enron.com', 'david.w.delainey@enron.com', 'james.derrick@enron.com', 'louise.kitchen@enron.com', 'jeffrey.mcmahon@enron.com', 'richard.causey@enron.com', 'andrew.fastow@enron.com'], ['greg.whalley@enron.com', 'mark.frevert@enron.com', 'kenneth.lay@enron.com', 'steven.j.kean@enron.com', 'david.w.delainey@enron.com', 'james.derrick@enron.com', 'louise.kitchen@enron.com', 'jeffrey.mcmahon@enron.com', 'richard.causey@enron.com', 'andrew.fastow@enron.com'], ['greg.whalley@enron.com', 'mark.frevert@enron.com', 'kenneth.lay@enron.com', 'steven.j.kean@enron.com', 'david.w.delainey@enron.com', 'james.derrick@enron.com', 'louise.kitchen@enron.com', 'jeffrey.mcmahon@enron.com', 'richard.causey@enron.com', 'andrew.fastow@enron.com'], ['greg.whalley@enron.com', 'mark.frevert@enron.com', 'kenneth.lay@enron.com', 'steven.j.kean@enron.com', 'david.w.delainey@enron.com', 'james.derrick@enron.com', 'louise.kitchen@enron.com', 'jeffrey.mcmahon@enron.com', 'richard.causey@enron.com', 'andrew.fastow@enron.com'], ['greg.whalley@enron.com', 'mark.frevert@enron.com', 'kenneth.lay@enron.com', 'steven.j.kean@enron.com', 'david.w.delainey@enron.com', 'james.derrick@enron.com', 'louise.kitchen@enron.com', 'jeffrey.mcmahon@enron.com', 'richard.causey@enron.com', 'andrew.fastow@enron.com'], ['greg.whalley@enron.com', 'mark.frevert@enron.com', 'kenneth.lay@enron.com', 'steven.j.kean@enron.com', 'david.w.delainey@enron.com', 'james.derrick@enron.com', 'louise.kitchen@enron.com', 'jeffrey.mcmahon@enron.com', 'richard.causey@enron.com', 'andrew.fastow@enron.com'], ['greg.whalley@enron.com', 'mark.frevert@enron.com', 'kenneth.lay@enron.com', 'steven.j.kean@enron.com', 'david.w.delainey@enron.com', 'james.derrick@enron.com', 'louise.kitchen@enron.com', 'jeffrey.mcmahon@enron.com', 'richard.causey@enron.com', 'andrew.fastow@enron.com'], ['greg.whalley@enron.com', 'mark.frevert@enron.com', 'kenneth.lay@enron.com', 'steven.j.kean@enron.com', 'david.w.delainey@enron.com', 'james.derrick@enron.com', 'louise.kitchen@enron.com', 'jeffrey.mcmahon@enron.com', 'richard.causey@enron.com', 'andrew.fastow@enron.com'], ['greg.whalley@enron.com', 'mark.frevert@enron.com', 'kenneth.lay@enron.com', 'steven.j.kean@enron.com', 'david.w.delainey@enron.com', 'james.derrick@enron.com', 'louise.kitchen@enron.com', 'jeffrey.mcmahon@enron.com', 'richard.causey@enron.com', 'andrew.fastow@enron.com'], ['greg.whalley@enron.com', 'mark.frevert@enron.com', 'kenneth.lay@enron.com', 'steven.j.kean@enron.com', 'david.w.delainey@enron.com', 'james.derrick@enron.com', 'louise.kitchen@enron.com', 'jeffrey.mcmahon@enron.com', 'richard.causey@enron.com', 'andrew.fastow@enron.com'], ['greg.whalley@enron.com', 'mark.frevert@enron.com', 'kenneth.lay@enron.com', 'steven.j.kean@enron.com', 'david.w.delainey@enron.com', 'james.derrick@enron.com', 'louise.kitchen@enron.com', 'jeffrey.mcmahon@enron.com', 'richard.causey@enron.com', 'andrew.fastow@enron.com'], ['greg.whalley@enron.com', 'mark.frevert@enron.com', 'kenneth.lay@enron.com', 'steven.j.kean@enron.com', 'david.w.delainey@enron.com', 'james.derrick@enron.com', 'louise.kitchen@enron.com', 'jeffrey.mcmahon@enron.com', 'richard.causey@enron.com', 'andrew.fastow@enron.com']]\n"
     ]
    }
   ],
   "source": [
    "i = 0\n",
    "with open('predictions_frequency.txt', 'w') as my_file:\n",
    "    my_file.write('mid,recipients' + '\\n')\n",
    "    for sender, preds in predictions_per_sender.items():\n",
    "        ids = preds[0]\n",
    "        freq_preds = preds[2]\n",
    "        if i==0:\n",
    "            print(freq_preds)\n",
    "        \n",
    "        for index, my_preds in enumerate(freq_preds):\n",
    "            my_file.write(str(ids[index]) + ',' + ' '.join(my_preds) + '\\n')\n",
    "        i=i+1"
   ]
  },
  {
   "cell_type": "code",
   "execution_count": 44,
   "metadata": {
    "collapsed": false
   },
   "outputs": [
    {
     "data": {
      "text/plain": [
       "set()"
      ]
     },
     "execution_count": 44,
     "metadata": {},
     "output_type": "execute_result"
    }
   ],
   "source": [
    "set(training.sender.values)-set(test.sender.values)"
   ]
  },
  {
   "cell_type": "code",
   "execution_count": 47,
   "metadata": {
    "collapsed": false
   },
   "outputs": [
    {
     "data": {
      "text/plain": [
       "set()"
      ]
     },
     "execution_count": 47,
     "metadata": {},
     "output_type": "execute_result"
    }
   ],
   "source": [
    "set(test.sender.values)-set(training.sender.values)"
   ]
  },
  {
   "cell_type": "code",
   "execution_count": null,
   "metadata": {
    "collapsed": true
   },
   "outputs": [],
   "source": []
  }
 ],
 "metadata": {
  "anaconda-cloud": {},
  "kernelspec": {
   "display_name": "Python [conda root]",
   "language": "python",
   "name": "conda-root-py"
  },
  "language_info": {
   "codemirror_mode": {
    "name": "ipython",
    "version": 3
   },
   "file_extension": ".py",
   "mimetype": "text/x-python",
   "name": "python",
   "nbconvert_exporter": "python",
   "pygments_lexer": "ipython3",
   "version": "3.5.2"
  }
 },
 "nbformat": 4,
 "nbformat_minor": 0
}

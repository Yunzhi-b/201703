{
 "cells": [
  {
   "cell_type": "markdown",
   "metadata": {},
   "source": [
    "# Load Data"
   ]
  },
  {
   "cell_type": "code",
   "execution_count": 1,
   "metadata": {
    "collapsed": true
   },
   "outputs": [],
   "source": [
    "import numpy as np\n",
    "import pandas as pd\n",
    "import re"
   ]
  },
  {
   "cell_type": "code",
   "execution_count": 2,
   "metadata": {
    "collapsed": true
   },
   "outputs": [],
   "source": [
    "training = pd.read_csv('training_set.csv', sep=',', header=0)\n",
    "\n",
    "training_info = pd.read_csv('training_info.csv', sep=',', header=0)\n",
    "\n",
    "test = pd.read_csv('test_set.csv', sep=',', header=0)\n",
    "\n",
    "test_info = pd.read_csv('test_info.csv', sep=',', header=0)"
   ]
  },
  {
   "cell_type": "code",
   "execution_count": 3,
   "metadata": {
    "collapsed": false
   },
   "outputs": [
    {
     "name": "stdout",
     "output_type": "stream",
     "text": [
      "(125, 2)\n"
     ]
    },
    {
     "data": {
      "text/html": [
       "<div>\n",
       "<table border=\"1\" class=\"dataframe\">\n",
       "  <thead>\n",
       "    <tr style=\"text-align: right;\">\n",
       "      <th></th>\n",
       "      <th>sender</th>\n",
       "      <th>mids</th>\n",
       "    </tr>\n",
       "  </thead>\n",
       "  <tbody>\n",
       "    <tr>\n",
       "      <th>0</th>\n",
       "      <td>karen.buckley@enron.com</td>\n",
       "      <td>158713 158697 200301 158679 278595 298162 2002...</td>\n",
       "    </tr>\n",
       "    <tr>\n",
       "      <th>1</th>\n",
       "      <td>amr.ibrahim@enron.com</td>\n",
       "      <td>215241 3437 215640 3506 191790 3517 3520 3562 ...</td>\n",
       "    </tr>\n",
       "    <tr>\n",
       "      <th>2</th>\n",
       "      <td>andrea.ring@enron.com</td>\n",
       "      <td>270705 270706 270707 270708 270709 270710 2707...</td>\n",
       "    </tr>\n",
       "    <tr>\n",
       "      <th>3</th>\n",
       "      <td>sylvia.hu@enron.com</td>\n",
       "      <td>111444 111422 183084 111412 111347 110883 1105...</td>\n",
       "    </tr>\n",
       "    <tr>\n",
       "      <th>4</th>\n",
       "      <td>phillip.platter@enron.com</td>\n",
       "      <td>327074 327384 327385 264443 274124 274125 2741...</td>\n",
       "    </tr>\n",
       "  </tbody>\n",
       "</table>\n",
       "</div>"
      ],
      "text/plain": [
       "                      sender  \\\n",
       "0    karen.buckley@enron.com   \n",
       "1      amr.ibrahim@enron.com   \n",
       "2      andrea.ring@enron.com   \n",
       "3        sylvia.hu@enron.com   \n",
       "4  phillip.platter@enron.com   \n",
       "\n",
       "                                                mids  \n",
       "0  158713 158697 200301 158679 278595 298162 2002...  \n",
       "1  215241 3437 215640 3506 191790 3517 3520 3562 ...  \n",
       "2  270705 270706 270707 270708 270709 270710 2707...  \n",
       "3  111444 111422 183084 111412 111347 110883 1105...  \n",
       "4  327074 327384 327385 264443 274124 274125 2741...  "
      ]
     },
     "execution_count": 3,
     "metadata": {},
     "output_type": "execute_result"
    }
   ],
   "source": [
    "print(training.shape)\n",
    "training.head()"
   ]
  },
  {
   "cell_type": "code",
   "execution_count": 4,
   "metadata": {
    "collapsed": false
   },
   "outputs": [
    {
     "name": "stdout",
     "output_type": "stream",
     "text": [
      "(43613, 4)\n"
     ]
    },
    {
     "data": {
      "text/html": [
       "<div>\n",
       "<table border=\"1\" class=\"dataframe\">\n",
       "  <thead>\n",
       "    <tr style=\"text-align: right;\">\n",
       "      <th></th>\n",
       "      <th>mid</th>\n",
       "      <th>date</th>\n",
       "      <th>body</th>\n",
       "      <th>recipients</th>\n",
       "    </tr>\n",
       "  </thead>\n",
       "  <tbody>\n",
       "    <tr>\n",
       "      <th>0</th>\n",
       "      <td>60</td>\n",
       "      <td>2000-07-25 08:14:00</td>\n",
       "      <td>Legal has been assessing the risks of doing bl...</td>\n",
       "      <td>robert.badeer@enron.com murray.o neil@enron.co...</td>\n",
       "    </tr>\n",
       "    <tr>\n",
       "      <th>1</th>\n",
       "      <td>66</td>\n",
       "      <td>2000-08-03 02:56:00</td>\n",
       "      <td>Attached is a spreadsheet to estimate export f...</td>\n",
       "      <td>kim.ward@enron.com robert.badeer@enron.com mur...</td>\n",
       "    </tr>\n",
       "    <tr>\n",
       "      <th>2</th>\n",
       "      <td>74</td>\n",
       "      <td>2000-08-15 05:37:00</td>\n",
       "      <td>Kevin/Bob: Here is a quick rundown on the cons...</td>\n",
       "      <td>robert.badeer@enron.com john.massey@enron.com ...</td>\n",
       "    </tr>\n",
       "    <tr>\n",
       "      <th>3</th>\n",
       "      <td>80</td>\n",
       "      <td>2000-08-20 14:12:00</td>\n",
       "      <td>check this out and let everyone know what s up...</td>\n",
       "      <td>robert.badeer@enron.com jeff.richter@enron.com</td>\n",
       "    </tr>\n",
       "    <tr>\n",
       "      <th>4</th>\n",
       "      <td>83</td>\n",
       "      <td>2000-08-22 08:17:00</td>\n",
       "      <td>Further to your letter to us (addressed to Mr....</td>\n",
       "      <td>pgillman@schiffhardin.com kamarlantes@calpx.co...</td>\n",
       "    </tr>\n",
       "  </tbody>\n",
       "</table>\n",
       "</div>"
      ],
      "text/plain": [
       "   mid                 date  \\\n",
       "0   60  2000-07-25 08:14:00   \n",
       "1   66  2000-08-03 02:56:00   \n",
       "2   74  2000-08-15 05:37:00   \n",
       "3   80  2000-08-20 14:12:00   \n",
       "4   83  2000-08-22 08:17:00   \n",
       "\n",
       "                                                body  \\\n",
       "0  Legal has been assessing the risks of doing bl...   \n",
       "1  Attached is a spreadsheet to estimate export f...   \n",
       "2  Kevin/Bob: Here is a quick rundown on the cons...   \n",
       "3  check this out and let everyone know what s up...   \n",
       "4  Further to your letter to us (addressed to Mr....   \n",
       "\n",
       "                                          recipients  \n",
       "0  robert.badeer@enron.com murray.o neil@enron.co...  \n",
       "1  kim.ward@enron.com robert.badeer@enron.com mur...  \n",
       "2  robert.badeer@enron.com john.massey@enron.com ...  \n",
       "3     robert.badeer@enron.com jeff.richter@enron.com  \n",
       "4  pgillman@schiffhardin.com kamarlantes@calpx.co...  "
      ]
     },
     "execution_count": 4,
     "metadata": {},
     "output_type": "execute_result"
    }
   ],
   "source": [
    "print(training_info.shape)\n",
    "training_info.head()"
   ]
  },
  {
   "cell_type": "code",
   "execution_count": 5,
   "metadata": {
    "collapsed": false
   },
   "outputs": [
    {
     "name": "stdout",
     "output_type": "stream",
     "text": [
      "(125, 2)\n"
     ]
    },
    {
     "data": {
      "text/html": [
       "<div>\n",
       "<table border=\"1\" class=\"dataframe\">\n",
       "  <thead>\n",
       "    <tr style=\"text-align: right;\">\n",
       "      <th></th>\n",
       "      <th>sender</th>\n",
       "      <th>mids</th>\n",
       "    </tr>\n",
       "  </thead>\n",
       "  <tbody>\n",
       "    <tr>\n",
       "      <th>0</th>\n",
       "      <td>karen.buckley@enron.com</td>\n",
       "      <td>298389 332383 298390 284071 366982 81773 81791...</td>\n",
       "    </tr>\n",
       "    <tr>\n",
       "      <th>1</th>\n",
       "      <td>amr.ibrahim@enron.com</td>\n",
       "      <td>48260 48465 50344 48268 50330 48237 189979 189...</td>\n",
       "    </tr>\n",
       "    <tr>\n",
       "      <th>2</th>\n",
       "      <td>andrea.ring@enron.com</td>\n",
       "      <td>366364 271168 271172 271167 271189</td>\n",
       "    </tr>\n",
       "    <tr>\n",
       "      <th>3</th>\n",
       "      <td>sylvia.hu@enron.com</td>\n",
       "      <td>134931 134856 233549 233517 134895 233584 3736...</td>\n",
       "    </tr>\n",
       "    <tr>\n",
       "      <th>4</th>\n",
       "      <td>phillip.platter@enron.com</td>\n",
       "      <td>274220 274225 274215 274223 274214 274207 2742...</td>\n",
       "    </tr>\n",
       "  </tbody>\n",
       "</table>\n",
       "</div>"
      ],
      "text/plain": [
       "                      sender  \\\n",
       "0    karen.buckley@enron.com   \n",
       "1      amr.ibrahim@enron.com   \n",
       "2      andrea.ring@enron.com   \n",
       "3        sylvia.hu@enron.com   \n",
       "4  phillip.platter@enron.com   \n",
       "\n",
       "                                                mids  \n",
       "0  298389 332383 298390 284071 366982 81773 81791...  \n",
       "1  48260 48465 50344 48268 50330 48237 189979 189...  \n",
       "2                 366364 271168 271172 271167 271189  \n",
       "3  134931 134856 233549 233517 134895 233584 3736...  \n",
       "4  274220 274225 274215 274223 274214 274207 2742...  "
      ]
     },
     "execution_count": 5,
     "metadata": {},
     "output_type": "execute_result"
    }
   ],
   "source": [
    "print(test.shape)\n",
    "test.head()"
   ]
  },
  {
   "cell_type": "code",
   "execution_count": 6,
   "metadata": {
    "collapsed": false
   },
   "outputs": [
    {
     "name": "stdout",
     "output_type": "stream",
     "text": [
      "(2362, 3)\n"
     ]
    },
    {
     "data": {
      "text/html": [
       "<div>\n",
       "<table border=\"1\" class=\"dataframe\">\n",
       "  <thead>\n",
       "    <tr style=\"text-align: right;\">\n",
       "      <th></th>\n",
       "      <th>mid</th>\n",
       "      <th>date</th>\n",
       "      <th>body</th>\n",
       "    </tr>\n",
       "  </thead>\n",
       "  <tbody>\n",
       "    <tr>\n",
       "      <th>0</th>\n",
       "      <td>1577</td>\n",
       "      <td>2001-11-19 06:59:51</td>\n",
       "      <td>Note:  Stocks of heating oil are very high for...</td>\n",
       "    </tr>\n",
       "    <tr>\n",
       "      <th>1</th>\n",
       "      <td>1750</td>\n",
       "      <td>2002-03-05 08:46:57</td>\n",
       "      <td>Kevin Hyatt and I are going for \"sghetti\" at S...</td>\n",
       "    </tr>\n",
       "    <tr>\n",
       "      <th>2</th>\n",
       "      <td>1916</td>\n",
       "      <td>2002-02-13 14:17:39</td>\n",
       "      <td>This was forwarded to me and it is funny. - Wi...</td>\n",
       "    </tr>\n",
       "    <tr>\n",
       "      <th>3</th>\n",
       "      <td>2094</td>\n",
       "      <td>2002-01-22 11:33:56</td>\n",
       "      <td>I will be in to and happy to assist too.  I ma...</td>\n",
       "    </tr>\n",
       "    <tr>\n",
       "      <th>4</th>\n",
       "      <td>2205</td>\n",
       "      <td>2002-01-11 07:12:19</td>\n",
       "      <td>Thanks. I needed a morning chuckle.</td>\n",
       "    </tr>\n",
       "  </tbody>\n",
       "</table>\n",
       "</div>"
      ],
      "text/plain": [
       "    mid                 date  \\\n",
       "0  1577  2001-11-19 06:59:51   \n",
       "1  1750  2002-03-05 08:46:57   \n",
       "2  1916  2002-02-13 14:17:39   \n",
       "3  2094  2002-01-22 11:33:56   \n",
       "4  2205  2002-01-11 07:12:19   \n",
       "\n",
       "                                                body  \n",
       "0  Note:  Stocks of heating oil are very high for...  \n",
       "1  Kevin Hyatt and I are going for \"sghetti\" at S...  \n",
       "2  This was forwarded to me and it is funny. - Wi...  \n",
       "3  I will be in to and happy to assist too.  I ma...  \n",
       "4                Thanks. I needed a morning chuckle.  "
      ]
     },
     "execution_count": 6,
     "metadata": {},
     "output_type": "execute_result"
    }
   ],
   "source": [
    "print(test_info.shape)\n",
    "test_info.head()"
   ]
  },
  {
   "cell_type": "code",
   "execution_count": 7,
   "metadata": {
    "collapsed": false
   },
   "outputs": [
    {
     "name": "stdout",
     "output_type": "stream",
     "text": [
      "<class 'numpy.int64'>\n"
     ]
    }
   ],
   "source": [
    "print(type(test_info.mid.values[1]))"
   ]
  },
  {
   "cell_type": "markdown",
   "metadata": {},
   "source": [
    "# Combine dataframes"
   ]
  },
  {
   "cell_type": "code",
   "execution_count": 8,
   "metadata": {
    "collapsed": true
   },
   "outputs": [],
   "source": [
    "def transform(dataframe):\n",
    "    df = dataframe.copy()\n",
    "    training_arrays = []\n",
    "    for index, series in df.iterrows():\n",
    "        row = series.tolist()\n",
    "        sender = row[0]\n",
    "        ids = row[1:][0].split(' ')\n",
    "        for id in ids:\n",
    "            training_arrays.append([sender,int(id)])\n",
    "    return pd.DataFrame(training_arrays,columns=['sender','mid'])"
   ]
  },
  {
   "cell_type": "code",
   "execution_count": 9,
   "metadata": {
    "collapsed": false
   },
   "outputs": [
    {
     "name": "stdout",
     "output_type": "stream",
     "text": [
      "(43613, 2)\n"
     ]
    },
    {
     "data": {
      "text/html": [
       "<div>\n",
       "<table border=\"1\" class=\"dataframe\">\n",
       "  <thead>\n",
       "    <tr style=\"text-align: right;\">\n",
       "      <th></th>\n",
       "      <th>sender</th>\n",
       "      <th>mid</th>\n",
       "    </tr>\n",
       "  </thead>\n",
       "  <tbody>\n",
       "    <tr>\n",
       "      <th>0</th>\n",
       "      <td>karen.buckley@enron.com</td>\n",
       "      <td>158713</td>\n",
       "    </tr>\n",
       "    <tr>\n",
       "      <th>1</th>\n",
       "      <td>karen.buckley@enron.com</td>\n",
       "      <td>158697</td>\n",
       "    </tr>\n",
       "    <tr>\n",
       "      <th>2</th>\n",
       "      <td>karen.buckley@enron.com</td>\n",
       "      <td>200301</td>\n",
       "    </tr>\n",
       "    <tr>\n",
       "      <th>3</th>\n",
       "      <td>karen.buckley@enron.com</td>\n",
       "      <td>158679</td>\n",
       "    </tr>\n",
       "    <tr>\n",
       "      <th>4</th>\n",
       "      <td>karen.buckley@enron.com</td>\n",
       "      <td>278595</td>\n",
       "    </tr>\n",
       "  </tbody>\n",
       "</table>\n",
       "</div>"
      ],
      "text/plain": [
       "                    sender     mid\n",
       "0  karen.buckley@enron.com  158713\n",
       "1  karen.buckley@enron.com  158697\n",
       "2  karen.buckley@enron.com  200301\n",
       "3  karen.buckley@enron.com  158679\n",
       "4  karen.buckley@enron.com  278595"
      ]
     },
     "execution_count": 9,
     "metadata": {},
     "output_type": "execute_result"
    }
   ],
   "source": [
    "training_v0 = transform(training)\n",
    "test_v0 = transform(test)\n",
    "print(training_v0.shape)\n",
    "training_v0.head()"
   ]
  },
  {
   "cell_type": "code",
   "execution_count": 10,
   "metadata": {
    "collapsed": false
   },
   "outputs": [
    {
     "name": "stdout",
     "output_type": "stream",
     "text": [
      "(2362, 2)\n"
     ]
    },
    {
     "data": {
      "text/html": [
       "<div>\n",
       "<table border=\"1\" class=\"dataframe\">\n",
       "  <thead>\n",
       "    <tr style=\"text-align: right;\">\n",
       "      <th></th>\n",
       "      <th>sender</th>\n",
       "      <th>mid</th>\n",
       "    </tr>\n",
       "  </thead>\n",
       "  <tbody>\n",
       "    <tr>\n",
       "      <th>0</th>\n",
       "      <td>karen.buckley@enron.com</td>\n",
       "      <td>298389</td>\n",
       "    </tr>\n",
       "    <tr>\n",
       "      <th>1</th>\n",
       "      <td>karen.buckley@enron.com</td>\n",
       "      <td>332383</td>\n",
       "    </tr>\n",
       "    <tr>\n",
       "      <th>2</th>\n",
       "      <td>karen.buckley@enron.com</td>\n",
       "      <td>298390</td>\n",
       "    </tr>\n",
       "    <tr>\n",
       "      <th>3</th>\n",
       "      <td>karen.buckley@enron.com</td>\n",
       "      <td>284071</td>\n",
       "    </tr>\n",
       "    <tr>\n",
       "      <th>4</th>\n",
       "      <td>karen.buckley@enron.com</td>\n",
       "      <td>366982</td>\n",
       "    </tr>\n",
       "  </tbody>\n",
       "</table>\n",
       "</div>"
      ],
      "text/plain": [
       "                    sender     mid\n",
       "0  karen.buckley@enron.com  298389\n",
       "1  karen.buckley@enron.com  332383\n",
       "2  karen.buckley@enron.com  298390\n",
       "3  karen.buckley@enron.com  284071\n",
       "4  karen.buckley@enron.com  366982"
      ]
     },
     "execution_count": 10,
     "metadata": {},
     "output_type": "execute_result"
    }
   ],
   "source": [
    "print(test_v0.shape)\n",
    "test_v0.head()"
   ]
  },
  {
   "cell_type": "code",
   "execution_count": 11,
   "metadata": {
    "collapsed": true
   },
   "outputs": [],
   "source": [
    "df_train = training_v0.join(training_info.set_index('mid'),on='mid')\n",
    "df_test = test_v0.join(test_info.set_index('mid'),on='mid')"
   ]
  },
  {
   "cell_type": "code",
   "execution_count": 12,
   "metadata": {
    "collapsed": false
   },
   "outputs": [
    {
     "name": "stdout",
     "output_type": "stream",
     "text": [
      "(43613, 5)\n"
     ]
    },
    {
     "data": {
      "text/html": [
       "<div>\n",
       "<table border=\"1\" class=\"dataframe\">\n",
       "  <thead>\n",
       "    <tr style=\"text-align: right;\">\n",
       "      <th></th>\n",
       "      <th>sender</th>\n",
       "      <th>mid</th>\n",
       "      <th>date</th>\n",
       "      <th>body</th>\n",
       "      <th>recipients</th>\n",
       "    </tr>\n",
       "  </thead>\n",
       "  <tbody>\n",
       "    <tr>\n",
       "      <th>0</th>\n",
       "      <td>karen.buckley@enron.com</td>\n",
       "      <td>158713</td>\n",
       "      <td>2001-03-30 07:07:00</td>\n",
       "      <td>Hi JasonTed let me know of the situation with ...</td>\n",
       "      <td>jason.wolfe@enron.com</td>\n",
       "    </tr>\n",
       "    <tr>\n",
       "      <th>1</th>\n",
       "      <td>karen.buckley@enron.com</td>\n",
       "      <td>158697</td>\n",
       "      <td>2001-04-10 02:41:00</td>\n",
       "      <td>All,John Lavorato has requested your attendanc...</td>\n",
       "      <td>elizabeth.shim@enron.com russell.ballato@enron...</td>\n",
       "    </tr>\n",
       "    <tr>\n",
       "      <th>2</th>\n",
       "      <td>karen.buckley@enron.com</td>\n",
       "      <td>200301</td>\n",
       "      <td>2001-04-10 12:41:00</td>\n",
       "      <td>All,John Lavorato has requested your attendanc...</td>\n",
       "      <td>elizabeth.shim@enron.com russell.ballato@enron...</td>\n",
       "    </tr>\n",
       "    <tr>\n",
       "      <th>3</th>\n",
       "      <td>karen.buckley@enron.com</td>\n",
       "      <td>158679</td>\n",
       "      <td>2001-04-18 02:02:00</td>\n",
       "      <td>AllA reminder that Philip Allen will be presen...</td>\n",
       "      <td>vladi.pimenov@enron.com russell.ballato@enron....</td>\n",
       "    </tr>\n",
       "    <tr>\n",
       "      <th>4</th>\n",
       "      <td>karen.buckley@enron.com</td>\n",
       "      <td>278595</td>\n",
       "      <td>2001-04-19 21:31:00</td>\n",
       "      <td>All,We will be scheduling the next recruitment...</td>\n",
       "      <td>thomas.a.martin@enron.com ed.mcmichael@enron.c...</td>\n",
       "    </tr>\n",
       "  </tbody>\n",
       "</table>\n",
       "</div>"
      ],
      "text/plain": [
       "                    sender     mid                 date  \\\n",
       "0  karen.buckley@enron.com  158713  2001-03-30 07:07:00   \n",
       "1  karen.buckley@enron.com  158697  2001-04-10 02:41:00   \n",
       "2  karen.buckley@enron.com  200301  2001-04-10 12:41:00   \n",
       "3  karen.buckley@enron.com  158679  2001-04-18 02:02:00   \n",
       "4  karen.buckley@enron.com  278595  2001-04-19 21:31:00   \n",
       "\n",
       "                                                body  \\\n",
       "0  Hi JasonTed let me know of the situation with ...   \n",
       "1  All,John Lavorato has requested your attendanc...   \n",
       "2  All,John Lavorato has requested your attendanc...   \n",
       "3  AllA reminder that Philip Allen will be presen...   \n",
       "4  All,We will be scheduling the next recruitment...   \n",
       "\n",
       "                                          recipients  \n",
       "0                              jason.wolfe@enron.com  \n",
       "1  elizabeth.shim@enron.com russell.ballato@enron...  \n",
       "2  elizabeth.shim@enron.com russell.ballato@enron...  \n",
       "3  vladi.pimenov@enron.com russell.ballato@enron....  \n",
       "4  thomas.a.martin@enron.com ed.mcmichael@enron.c...  "
      ]
     },
     "execution_count": 12,
     "metadata": {},
     "output_type": "execute_result"
    }
   ],
   "source": [
    "print(df_train.shape)\n",
    "df_train.head()"
   ]
  },
  {
   "cell_type": "code",
   "execution_count": 13,
   "metadata": {
    "collapsed": false
   },
   "outputs": [
    {
     "name": "stdout",
     "output_type": "stream",
     "text": [
      "(2362, 4)\n"
     ]
    },
    {
     "data": {
      "text/html": [
       "<div>\n",
       "<table border=\"1\" class=\"dataframe\">\n",
       "  <thead>\n",
       "    <tr style=\"text-align: right;\">\n",
       "      <th></th>\n",
       "      <th>sender</th>\n",
       "      <th>mid</th>\n",
       "      <th>date</th>\n",
       "      <th>body</th>\n",
       "    </tr>\n",
       "  </thead>\n",
       "  <tbody>\n",
       "    <tr>\n",
       "      <th>0</th>\n",
       "      <td>karen.buckley@enron.com</td>\n",
       "      <td>298389</td>\n",
       "      <td>2001-11-02 08:39:13</td>\n",
       "      <td>John/LouiseAttached is the final spreadsheet ...</td>\n",
       "    </tr>\n",
       "    <tr>\n",
       "      <th>1</th>\n",
       "      <td>karen.buckley@enron.com</td>\n",
       "      <td>332383</td>\n",
       "      <td>2002-02-05 17:00:55</td>\n",
       "      <td>X-FileName: john griffith 6-25-02.PSTAll,I hav...</td>\n",
       "    </tr>\n",
       "    <tr>\n",
       "      <th>2</th>\n",
       "      <td>karen.buckley@enron.com</td>\n",
       "      <td>298390</td>\n",
       "      <td>2001-11-05 08:15:06</td>\n",
       "      <td>All,The below is the confirmed list of those w...</td>\n",
       "    </tr>\n",
       "    <tr>\n",
       "      <th>3</th>\n",
       "      <td>karen.buckley@enron.com</td>\n",
       "      <td>284071</td>\n",
       "      <td>2002-01-31 14:55:50</td>\n",
       "      <td>X-FileName: jon mckay 7-11-02.PSTHi Jonathan,S...</td>\n",
       "    </tr>\n",
       "    <tr>\n",
       "      <th>4</th>\n",
       "      <td>karen.buckley@enron.com</td>\n",
       "      <td>366982</td>\n",
       "      <td>2002-02-04 17:03:25</td>\n",
       "      <td>X-FileName: rob benson 6-25-02.PSTAll,As you h...</td>\n",
       "    </tr>\n",
       "  </tbody>\n",
       "</table>\n",
       "</div>"
      ],
      "text/plain": [
       "                    sender     mid                 date  \\\n",
       "0  karen.buckley@enron.com  298389  2001-11-02 08:39:13   \n",
       "1  karen.buckley@enron.com  332383  2002-02-05 17:00:55   \n",
       "2  karen.buckley@enron.com  298390  2001-11-05 08:15:06   \n",
       "3  karen.buckley@enron.com  284071  2002-01-31 14:55:50   \n",
       "4  karen.buckley@enron.com  366982  2002-02-04 17:03:25   \n",
       "\n",
       "                                                body  \n",
       "0   John/LouiseAttached is the final spreadsheet ...  \n",
       "1  X-FileName: john griffith 6-25-02.PSTAll,I hav...  \n",
       "2  All,The below is the confirmed list of those w...  \n",
       "3  X-FileName: jon mckay 7-11-02.PSTHi Jonathan,S...  \n",
       "4  X-FileName: rob benson 6-25-02.PSTAll,As you h...  "
      ]
     },
     "execution_count": 13,
     "metadata": {},
     "output_type": "execute_result"
    }
   ],
   "source": [
    "print(df_test.shape)\n",
    "df_test.head()"
   ]
  },
  {
   "cell_type": "code",
   "execution_count": 14,
   "metadata": {
    "collapsed": true
   },
   "outputs": [],
   "source": [
    "import datetime\n",
    "options_weekend = {'Monday' : 0,\n",
    "            'Tuesday' : 0,\n",
    "            'Wednesday' : 0,\n",
    "            'Thursday' : 0,\n",
    "            'Friday' : 0,\n",
    "            'Saturday' : 1,\n",
    "            'Sunday' : 1,\n",
    "}\n",
    "\n",
    "def gettime(dataframe):\n",
    "    df = dataframe.copy()\n",
    "    n = len(df)\n",
    "    for i in np.arange(n):\n",
    "        tmp = df.ix[i].date\n",
    "        year = '{d.year}'.format(d=datetime.datetime.strptime(tmp, '%Y-%m-%d %H:%M:%S'))\n",
    "        month = '{d.month}'.format(d=datetime.datetime.strptime(tmp, '%Y-%m-%d %H:%M:%S'))\n",
    "        day = '{d.day}'.format(d=datetime.datetime.strptime(tmp, '%Y-%m-%d %H:%M:%S'))\n",
    "        weekday = datetime.datetime.strptime(tmp, '%Y-%m-%d %H:%M:%S').strftime('%A')\n",
    "        hour = '{d.hour}'.format(d=datetime.datetime.strptime(tmp, '%Y-%m-%d %H:%M:%S'))\n",
    "#        minute = datetime.datetime.strptime(tmp, '%Y-%m-%d %H:%M:%S').strftime('%M')\n",
    "        df.set_value(i, 'DAY_WE_DS', weekday)\n",
    "        df.set_value(i, 'WEEK_END', options_weekend[weekday])\n",
    "        df.set_value(i, 'TPER_HOUR', hour)\n",
    "        df.set_value(i, 'year', year)\n",
    "        df.set_value(i, 'month', month)\n",
    "        df.set_value(i, 'day', day)\n",
    "        if (int(hour)>=8 and int(hour)<=22) :\n",
    "            df.set_value(i, 'TPER_TEAM', 1)\n",
    "        else: df.set_value(i, 'TPER_TEAM', 0)\n",
    "    return df"
   ]
  },
  {
   "cell_type": "code",
   "execution_count": 15,
   "metadata": {
    "collapsed": true
   },
   "outputs": [],
   "source": [
    "df_train_v0 = gettime(df_train)\n",
    "df_test_v0 = gettime(df_test)"
   ]
  },
  {
   "cell_type": "code",
   "execution_count": 16,
   "metadata": {
    "collapsed": false
   },
   "outputs": [
    {
     "data": {
      "text/plain": [
       "43613"
      ]
     },
     "execution_count": 16,
     "metadata": {},
     "output_type": "execute_result"
    }
   ],
   "source": [
    "len(df_train_v0)"
   ]
  },
  {
   "cell_type": "code",
   "execution_count": 17,
   "metadata": {
    "collapsed": false
   },
   "outputs": [
    {
     "data": {
      "text/html": [
       "<div>\n",
       "<table border=\"1\" class=\"dataframe\">\n",
       "  <thead>\n",
       "    <tr style=\"text-align: right;\">\n",
       "      <th></th>\n",
       "      <th>sender</th>\n",
       "      <th>mid</th>\n",
       "      <th>date</th>\n",
       "      <th>body</th>\n",
       "      <th>recipients</th>\n",
       "      <th>DAY_WE_DS</th>\n",
       "      <th>WEEK_END</th>\n",
       "      <th>TPER_HOUR</th>\n",
       "      <th>year</th>\n",
       "      <th>month</th>\n",
       "      <th>day</th>\n",
       "      <th>TPER_TEAM</th>\n",
       "    </tr>\n",
       "  </thead>\n",
       "  <tbody>\n",
       "    <tr>\n",
       "      <th>0</th>\n",
       "      <td>karen.buckley@enron.com</td>\n",
       "      <td>158713</td>\n",
       "      <td>2001-03-30 07:07:00</td>\n",
       "      <td>Hi JasonTed let me know of the situation with ...</td>\n",
       "      <td>jason.wolfe@enron.com</td>\n",
       "      <td>Friday</td>\n",
       "      <td>0.0</td>\n",
       "      <td>7</td>\n",
       "      <td>2001</td>\n",
       "      <td>3</td>\n",
       "      <td>30</td>\n",
       "      <td>0.0</td>\n",
       "    </tr>\n",
       "    <tr>\n",
       "      <th>1</th>\n",
       "      <td>karen.buckley@enron.com</td>\n",
       "      <td>158697</td>\n",
       "      <td>2001-04-10 02:41:00</td>\n",
       "      <td>All,John Lavorato has requested your attendanc...</td>\n",
       "      <td>elizabeth.shim@enron.com russell.ballato@enron...</td>\n",
       "      <td>Tuesday</td>\n",
       "      <td>0.0</td>\n",
       "      <td>2</td>\n",
       "      <td>2001</td>\n",
       "      <td>4</td>\n",
       "      <td>10</td>\n",
       "      <td>0.0</td>\n",
       "    </tr>\n",
       "    <tr>\n",
       "      <th>2</th>\n",
       "      <td>karen.buckley@enron.com</td>\n",
       "      <td>200301</td>\n",
       "      <td>2001-04-10 12:41:00</td>\n",
       "      <td>All,John Lavorato has requested your attendanc...</td>\n",
       "      <td>elizabeth.shim@enron.com russell.ballato@enron...</td>\n",
       "      <td>Tuesday</td>\n",
       "      <td>0.0</td>\n",
       "      <td>12</td>\n",
       "      <td>2001</td>\n",
       "      <td>4</td>\n",
       "      <td>10</td>\n",
       "      <td>1.0</td>\n",
       "    </tr>\n",
       "    <tr>\n",
       "      <th>3</th>\n",
       "      <td>karen.buckley@enron.com</td>\n",
       "      <td>158679</td>\n",
       "      <td>2001-04-18 02:02:00</td>\n",
       "      <td>AllA reminder that Philip Allen will be presen...</td>\n",
       "      <td>vladi.pimenov@enron.com russell.ballato@enron....</td>\n",
       "      <td>Wednesday</td>\n",
       "      <td>0.0</td>\n",
       "      <td>2</td>\n",
       "      <td>2001</td>\n",
       "      <td>4</td>\n",
       "      <td>18</td>\n",
       "      <td>0.0</td>\n",
       "    </tr>\n",
       "    <tr>\n",
       "      <th>4</th>\n",
       "      <td>karen.buckley@enron.com</td>\n",
       "      <td>278595</td>\n",
       "      <td>2001-04-19 21:31:00</td>\n",
       "      <td>All,We will be scheduling the next recruitment...</td>\n",
       "      <td>thomas.a.martin@enron.com ed.mcmichael@enron.c...</td>\n",
       "      <td>Thursday</td>\n",
       "      <td>0.0</td>\n",
       "      <td>21</td>\n",
       "      <td>2001</td>\n",
       "      <td>4</td>\n",
       "      <td>19</td>\n",
       "      <td>1.0</td>\n",
       "    </tr>\n",
       "  </tbody>\n",
       "</table>\n",
       "</div>"
      ],
      "text/plain": [
       "                    sender     mid                 date  \\\n",
       "0  karen.buckley@enron.com  158713  2001-03-30 07:07:00   \n",
       "1  karen.buckley@enron.com  158697  2001-04-10 02:41:00   \n",
       "2  karen.buckley@enron.com  200301  2001-04-10 12:41:00   \n",
       "3  karen.buckley@enron.com  158679  2001-04-18 02:02:00   \n",
       "4  karen.buckley@enron.com  278595  2001-04-19 21:31:00   \n",
       "\n",
       "                                                body  \\\n",
       "0  Hi JasonTed let me know of the situation with ...   \n",
       "1  All,John Lavorato has requested your attendanc...   \n",
       "2  All,John Lavorato has requested your attendanc...   \n",
       "3  AllA reminder that Philip Allen will be presen...   \n",
       "4  All,We will be scheduling the next recruitment...   \n",
       "\n",
       "                                          recipients  DAY_WE_DS  WEEK_END  \\\n",
       "0                              jason.wolfe@enron.com     Friday       0.0   \n",
       "1  elizabeth.shim@enron.com russell.ballato@enron...    Tuesday       0.0   \n",
       "2  elizabeth.shim@enron.com russell.ballato@enron...    Tuesday       0.0   \n",
       "3  vladi.pimenov@enron.com russell.ballato@enron....  Wednesday       0.0   \n",
       "4  thomas.a.martin@enron.com ed.mcmichael@enron.c...   Thursday       0.0   \n",
       "\n",
       "  TPER_HOUR  year month day  TPER_TEAM  \n",
       "0         7  2001     3  30        0.0  \n",
       "1         2  2001     4  10        0.0  \n",
       "2        12  2001     4  10        1.0  \n",
       "3         2  2001     4  18        0.0  \n",
       "4        21  2001     4  19        1.0  "
      ]
     },
     "execution_count": 17,
     "metadata": {},
     "output_type": "execute_result"
    }
   ],
   "source": [
    "df_train_v0.head()"
   ]
  },
  {
   "cell_type": "code",
   "execution_count": 18,
   "metadata": {
    "collapsed": false
   },
   "outputs": [
    {
     "data": {
      "text/html": [
       "<div>\n",
       "<table border=\"1\" class=\"dataframe\">\n",
       "  <thead>\n",
       "    <tr style=\"text-align: right;\">\n",
       "      <th></th>\n",
       "      <th>sender</th>\n",
       "      <th>mid</th>\n",
       "      <th>date</th>\n",
       "      <th>body</th>\n",
       "      <th>DAY_WE_DS</th>\n",
       "      <th>WEEK_END</th>\n",
       "      <th>TPER_HOUR</th>\n",
       "      <th>year</th>\n",
       "      <th>month</th>\n",
       "      <th>day</th>\n",
       "      <th>TPER_TEAM</th>\n",
       "    </tr>\n",
       "  </thead>\n",
       "  <tbody>\n",
       "    <tr>\n",
       "      <th>0</th>\n",
       "      <td>karen.buckley@enron.com</td>\n",
       "      <td>298389</td>\n",
       "      <td>2001-11-02 08:39:13</td>\n",
       "      <td>John/LouiseAttached is the final spreadsheet ...</td>\n",
       "      <td>Friday</td>\n",
       "      <td>0.0</td>\n",
       "      <td>8</td>\n",
       "      <td>2001</td>\n",
       "      <td>11</td>\n",
       "      <td>2</td>\n",
       "      <td>1.0</td>\n",
       "    </tr>\n",
       "    <tr>\n",
       "      <th>1</th>\n",
       "      <td>karen.buckley@enron.com</td>\n",
       "      <td>332383</td>\n",
       "      <td>2002-02-05 17:00:55</td>\n",
       "      <td>X-FileName: john griffith 6-25-02.PSTAll,I hav...</td>\n",
       "      <td>Tuesday</td>\n",
       "      <td>0.0</td>\n",
       "      <td>17</td>\n",
       "      <td>2002</td>\n",
       "      <td>2</td>\n",
       "      <td>5</td>\n",
       "      <td>1.0</td>\n",
       "    </tr>\n",
       "    <tr>\n",
       "      <th>2</th>\n",
       "      <td>karen.buckley@enron.com</td>\n",
       "      <td>298390</td>\n",
       "      <td>2001-11-05 08:15:06</td>\n",
       "      <td>All,The below is the confirmed list of those w...</td>\n",
       "      <td>Monday</td>\n",
       "      <td>0.0</td>\n",
       "      <td>8</td>\n",
       "      <td>2001</td>\n",
       "      <td>11</td>\n",
       "      <td>5</td>\n",
       "      <td>1.0</td>\n",
       "    </tr>\n",
       "    <tr>\n",
       "      <th>3</th>\n",
       "      <td>karen.buckley@enron.com</td>\n",
       "      <td>284071</td>\n",
       "      <td>2002-01-31 14:55:50</td>\n",
       "      <td>X-FileName: jon mckay 7-11-02.PSTHi Jonathan,S...</td>\n",
       "      <td>Thursday</td>\n",
       "      <td>0.0</td>\n",
       "      <td>14</td>\n",
       "      <td>2002</td>\n",
       "      <td>1</td>\n",
       "      <td>31</td>\n",
       "      <td>1.0</td>\n",
       "    </tr>\n",
       "    <tr>\n",
       "      <th>4</th>\n",
       "      <td>karen.buckley@enron.com</td>\n",
       "      <td>366982</td>\n",
       "      <td>2002-02-04 17:03:25</td>\n",
       "      <td>X-FileName: rob benson 6-25-02.PSTAll,As you h...</td>\n",
       "      <td>Monday</td>\n",
       "      <td>0.0</td>\n",
       "      <td>17</td>\n",
       "      <td>2002</td>\n",
       "      <td>2</td>\n",
       "      <td>4</td>\n",
       "      <td>1.0</td>\n",
       "    </tr>\n",
       "  </tbody>\n",
       "</table>\n",
       "</div>"
      ],
      "text/plain": [
       "                    sender     mid                 date  \\\n",
       "0  karen.buckley@enron.com  298389  2001-11-02 08:39:13   \n",
       "1  karen.buckley@enron.com  332383  2002-02-05 17:00:55   \n",
       "2  karen.buckley@enron.com  298390  2001-11-05 08:15:06   \n",
       "3  karen.buckley@enron.com  284071  2002-01-31 14:55:50   \n",
       "4  karen.buckley@enron.com  366982  2002-02-04 17:03:25   \n",
       "\n",
       "                                                body DAY_WE_DS  WEEK_END  \\\n",
       "0   John/LouiseAttached is the final spreadsheet ...    Friday       0.0   \n",
       "1  X-FileName: john griffith 6-25-02.PSTAll,I hav...   Tuesday       0.0   \n",
       "2  All,The below is the confirmed list of those w...    Monday       0.0   \n",
       "3  X-FileName: jon mckay 7-11-02.PSTHi Jonathan,S...  Thursday       0.0   \n",
       "4  X-FileName: rob benson 6-25-02.PSTAll,As you h...    Monday       0.0   \n",
       "\n",
       "  TPER_HOUR  year month day  TPER_TEAM  \n",
       "0         8  2001    11   2        1.0  \n",
       "1        17  2002     2   5        1.0  \n",
       "2         8  2001    11   5        1.0  \n",
       "3        14  2002     1  31        1.0  \n",
       "4        17  2002     2   4        1.0  "
      ]
     },
     "execution_count": 18,
     "metadata": {},
     "output_type": "execute_result"
    }
   ],
   "source": [
    "df_test_v0.head()"
   ]
  },
  {
   "cell_type": "code",
   "execution_count": 19,
   "metadata": {
    "collapsed": false
   },
   "outputs": [],
   "source": [
    "tmppp = pd.get_dummies(pd.concat([df_train_v0,df_test_v0],axis=0)[['DAY_WE_DS','WEEK_END','TPER_HOUR','month','day','TPER_TEAM']])"
   ]
  },
  {
   "cell_type": "code",
   "execution_count": 20,
   "metadata": {
    "collapsed": false
   },
   "outputs": [],
   "source": [
    "df_train_v1 = tmppp[:43613]"
   ]
  },
  {
   "cell_type": "code",
   "execution_count": 21,
   "metadata": {
    "collapsed": false
   },
   "outputs": [],
   "source": [
    "df_test_v1 = tmppp[43613:]"
   ]
  },
  {
   "cell_type": "code",
   "execution_count": 22,
   "metadata": {
    "collapsed": false
   },
   "outputs": [
    {
     "data": {
      "text/html": [
       "<div>\n",
       "<table border=\"1\" class=\"dataframe\">\n",
       "  <thead>\n",
       "    <tr style=\"text-align: right;\">\n",
       "      <th></th>\n",
       "      <th>WEEK_END</th>\n",
       "      <th>TPER_TEAM</th>\n",
       "      <th>DAY_WE_DS_Friday</th>\n",
       "      <th>DAY_WE_DS_Monday</th>\n",
       "      <th>DAY_WE_DS_Saturday</th>\n",
       "      <th>DAY_WE_DS_Sunday</th>\n",
       "      <th>DAY_WE_DS_Thursday</th>\n",
       "      <th>DAY_WE_DS_Tuesday</th>\n",
       "      <th>DAY_WE_DS_Wednesday</th>\n",
       "      <th>TPER_HOUR_0</th>\n",
       "      <th>...</th>\n",
       "      <th>day_29</th>\n",
       "      <th>day_3</th>\n",
       "      <th>day_30</th>\n",
       "      <th>day_31</th>\n",
       "      <th>day_4</th>\n",
       "      <th>day_5</th>\n",
       "      <th>day_6</th>\n",
       "      <th>day_7</th>\n",
       "      <th>day_8</th>\n",
       "      <th>day_9</th>\n",
       "    </tr>\n",
       "  </thead>\n",
       "  <tbody>\n",
       "    <tr>\n",
       "      <th>0</th>\n",
       "      <td>0.0</td>\n",
       "      <td>1.0</td>\n",
       "      <td>1.0</td>\n",
       "      <td>0.0</td>\n",
       "      <td>0.0</td>\n",
       "      <td>0.0</td>\n",
       "      <td>0.0</td>\n",
       "      <td>0.0</td>\n",
       "      <td>0.0</td>\n",
       "      <td>0.0</td>\n",
       "      <td>...</td>\n",
       "      <td>0.0</td>\n",
       "      <td>0.0</td>\n",
       "      <td>0.0</td>\n",
       "      <td>0.0</td>\n",
       "      <td>0.0</td>\n",
       "      <td>0.0</td>\n",
       "      <td>0.0</td>\n",
       "      <td>0.0</td>\n",
       "      <td>0.0</td>\n",
       "      <td>0.0</td>\n",
       "    </tr>\n",
       "    <tr>\n",
       "      <th>1</th>\n",
       "      <td>0.0</td>\n",
       "      <td>1.0</td>\n",
       "      <td>0.0</td>\n",
       "      <td>0.0</td>\n",
       "      <td>0.0</td>\n",
       "      <td>0.0</td>\n",
       "      <td>0.0</td>\n",
       "      <td>1.0</td>\n",
       "      <td>0.0</td>\n",
       "      <td>0.0</td>\n",
       "      <td>...</td>\n",
       "      <td>0.0</td>\n",
       "      <td>0.0</td>\n",
       "      <td>0.0</td>\n",
       "      <td>0.0</td>\n",
       "      <td>0.0</td>\n",
       "      <td>1.0</td>\n",
       "      <td>0.0</td>\n",
       "      <td>0.0</td>\n",
       "      <td>0.0</td>\n",
       "      <td>0.0</td>\n",
       "    </tr>\n",
       "    <tr>\n",
       "      <th>2</th>\n",
       "      <td>0.0</td>\n",
       "      <td>1.0</td>\n",
       "      <td>0.0</td>\n",
       "      <td>1.0</td>\n",
       "      <td>0.0</td>\n",
       "      <td>0.0</td>\n",
       "      <td>0.0</td>\n",
       "      <td>0.0</td>\n",
       "      <td>0.0</td>\n",
       "      <td>0.0</td>\n",
       "      <td>...</td>\n",
       "      <td>0.0</td>\n",
       "      <td>0.0</td>\n",
       "      <td>0.0</td>\n",
       "      <td>0.0</td>\n",
       "      <td>0.0</td>\n",
       "      <td>1.0</td>\n",
       "      <td>0.0</td>\n",
       "      <td>0.0</td>\n",
       "      <td>0.0</td>\n",
       "      <td>0.0</td>\n",
       "    </tr>\n",
       "    <tr>\n",
       "      <th>3</th>\n",
       "      <td>0.0</td>\n",
       "      <td>1.0</td>\n",
       "      <td>0.0</td>\n",
       "      <td>0.0</td>\n",
       "      <td>0.0</td>\n",
       "      <td>0.0</td>\n",
       "      <td>1.0</td>\n",
       "      <td>0.0</td>\n",
       "      <td>0.0</td>\n",
       "      <td>0.0</td>\n",
       "      <td>...</td>\n",
       "      <td>0.0</td>\n",
       "      <td>0.0</td>\n",
       "      <td>0.0</td>\n",
       "      <td>1.0</td>\n",
       "      <td>0.0</td>\n",
       "      <td>0.0</td>\n",
       "      <td>0.0</td>\n",
       "      <td>0.0</td>\n",
       "      <td>0.0</td>\n",
       "      <td>0.0</td>\n",
       "    </tr>\n",
       "    <tr>\n",
       "      <th>4</th>\n",
       "      <td>0.0</td>\n",
       "      <td>1.0</td>\n",
       "      <td>0.0</td>\n",
       "      <td>1.0</td>\n",
       "      <td>0.0</td>\n",
       "      <td>0.0</td>\n",
       "      <td>0.0</td>\n",
       "      <td>0.0</td>\n",
       "      <td>0.0</td>\n",
       "      <td>0.0</td>\n",
       "      <td>...</td>\n",
       "      <td>0.0</td>\n",
       "      <td>0.0</td>\n",
       "      <td>0.0</td>\n",
       "      <td>0.0</td>\n",
       "      <td>1.0</td>\n",
       "      <td>0.0</td>\n",
       "      <td>0.0</td>\n",
       "      <td>0.0</td>\n",
       "      <td>0.0</td>\n",
       "      <td>0.0</td>\n",
       "    </tr>\n",
       "  </tbody>\n",
       "</table>\n",
       "<p>5 rows × 76 columns</p>\n",
       "</div>"
      ],
      "text/plain": [
       "   WEEK_END  TPER_TEAM  DAY_WE_DS_Friday  DAY_WE_DS_Monday  \\\n",
       "0       0.0        1.0               1.0               0.0   \n",
       "1       0.0        1.0               0.0               0.0   \n",
       "2       0.0        1.0               0.0               1.0   \n",
       "3       0.0        1.0               0.0               0.0   \n",
       "4       0.0        1.0               0.0               1.0   \n",
       "\n",
       "   DAY_WE_DS_Saturday  DAY_WE_DS_Sunday  DAY_WE_DS_Thursday  \\\n",
       "0                 0.0               0.0                 0.0   \n",
       "1                 0.0               0.0                 0.0   \n",
       "2                 0.0               0.0                 0.0   \n",
       "3                 0.0               0.0                 1.0   \n",
       "4                 0.0               0.0                 0.0   \n",
       "\n",
       "   DAY_WE_DS_Tuesday  DAY_WE_DS_Wednesday  TPER_HOUR_0  ...    day_29  day_3  \\\n",
       "0                0.0                  0.0          0.0  ...       0.0    0.0   \n",
       "1                1.0                  0.0          0.0  ...       0.0    0.0   \n",
       "2                0.0                  0.0          0.0  ...       0.0    0.0   \n",
       "3                0.0                  0.0          0.0  ...       0.0    0.0   \n",
       "4                0.0                  0.0          0.0  ...       0.0    0.0   \n",
       "\n",
       "   day_30  day_31  day_4  day_5  day_6  day_7  day_8  day_9  \n",
       "0     0.0     0.0    0.0    0.0    0.0    0.0    0.0    0.0  \n",
       "1     0.0     0.0    0.0    1.0    0.0    0.0    0.0    0.0  \n",
       "2     0.0     0.0    0.0    1.0    0.0    0.0    0.0    0.0  \n",
       "3     0.0     1.0    0.0    0.0    0.0    0.0    0.0    0.0  \n",
       "4     0.0     0.0    1.0    0.0    0.0    0.0    0.0    0.0  \n",
       "\n",
       "[5 rows x 76 columns]"
      ]
     },
     "execution_count": 22,
     "metadata": {},
     "output_type": "execute_result"
    }
   ],
   "source": [
    "df_test_v1.head()"
   ]
  },
  {
   "cell_type": "markdown",
   "metadata": {},
   "source": [
    "## unique number of senders and recipients"
   ]
  },
  {
   "cell_type": "code",
   "execution_count": 23,
   "metadata": {
    "collapsed": true
   },
   "outputs": [],
   "source": [
    "senders = np.unique(df_train['sender'].values)\n",
    "R = df_train['recipients'].values\n",
    "res = []\n",
    "for j in R:\n",
    "    res.append(j.split(' '))    \n",
    "    #flatten\n",
    "res_flatten = [elt for sublist in res for elt in sublist] \n",
    "res_unique = np.unique(res_flatten)"
   ]
  },
  {
   "cell_type": "code",
   "execution_count": 24,
   "metadata": {
    "collapsed": false
   },
   "outputs": [
    {
     "data": {
      "text/plain": [
       "125"
      ]
     },
     "execution_count": 24,
     "metadata": {},
     "output_type": "execute_result"
    }
   ],
   "source": [
    "len(senders)"
   ]
  },
  {
   "cell_type": "code",
   "execution_count": 25,
   "metadata": {
    "collapsed": false
   },
   "outputs": [],
   "source": [
    "s2 = senders[2]"
   ]
  },
  {
   "cell_type": "code",
   "execution_count": 26,
   "metadata": {
    "collapsed": false
   },
   "outputs": [
    {
     "data": {
      "text/plain": [
       "9871"
      ]
     },
     "execution_count": 26,
     "metadata": {},
     "output_type": "execute_result"
    }
   ],
   "source": [
    "len(res_unique)"
   ]
  },
  {
   "cell_type": "markdown",
   "metadata": {},
   "source": [
    "## preprocess body"
   ]
  },
  {
   "cell_type": "markdown",
   "metadata": {},
   "source": [
    "## saved result"
   ]
  },
  {
   "cell_type": "markdown",
   "metadata": {},
   "source": [
    "### Given wordlist(filt), compute matrix TF-IDF by SENDER, RECIPIENT\n"
   ]
  },
  {
   "cell_type": "code",
   "execution_count": 27,
   "metadata": {
    "collapsed": true
   },
   "outputs": [],
   "source": [
    "# for all messages m_u sent by user u, we derived the message’s TF-IDF vector representation from its textual contents \n",
    "# and then normalized the vector to length 1. \n",
    "\n",
    "# We then built, for each recipient r_i in the Address Book AB(u), a TF-IDF centroid vector C(r_i), by summing up the normalized \n",
    "# TF-IDF vectors of all messages that were sent from u to r_i.\n",
    "\n",
    "# When testing, for each test message we computed the cosine similarities between the message’s TF-IDF vector representation and the\n",
    "# |AB(u)| Centroid vectors. The |AB(u)| recipients are then ranked according to these cosine similarity scores\n"
   ]
  },
  {
   "cell_type": "markdown",
   "metadata": {},
   "source": [
    "## some useful dictionaries\n",
    "- idx_bySR = {key:row_idx, values: (s1,r1),(s1,r2)}\n",
    "- sr_unique = np.unique(idx_bySR.values)\n",
    "- index_senders[s] : index-of-rows in df_train where df_train['sender']=s"
   ]
  },
  {
   "cell_type": "code",
   "execution_count": 28,
   "metadata": {
    "collapsed": true
   },
   "outputs": [],
   "source": [
    "R = df_train['recipients'].values\n",
    "S = df_train['sender'].values"
   ]
  },
  {
   "cell_type": "code",
   "execution_count": 29,
   "metadata": {
    "collapsed": false
   },
   "outputs": [],
   "source": [
    "\"\"\"idx_bySR = {key:row_idx, values: (s1,r1),(s1,r2)}\"\"\"\n",
    "\n",
    "from collections import defaultdict\n",
    "idx_bySR = defaultdict(list)\n",
    "\n",
    "for i, j in enumerate(R):\n",
    "    s = S[i]\n",
    "    \n",
    "    recp = [elt for elt in j.split(' ')] \n",
    "    \n",
    "    for r in recp:\n",
    "        idx_bySR[i].append((s,r)) "
   ]
  },
  {
   "cell_type": "code",
   "execution_count": 30,
   "metadata": {
    "collapsed": false
   },
   "outputs": [
    {
     "data": {
      "text/plain": [
       "[('karen.buckley@enron.com', 'elizabeth.shim@enron.com'),\n",
       " ('karen.buckley@enron.com', 'russell.ballato@enron.com'),\n",
       " ('karen.buckley@enron.com', 'steve.gim@enron.com'),\n",
       " ('karen.buckley@enron.com', 'juan.padron@enron.com'),\n",
       " ('karen.buckley@enron.com', 'mog.heu@enron.com'),\n",
       " ('karen.buckley@enron.com', 'jason.wolfe@enron.com'),\n",
       " ('karen.buckley@enron.com', 'virawan.yawapongsiri@enron.com'),\n",
       " ('karen.buckley@enron.com', 'joseph.wagner@enron.com'),\n",
       " ('karen.buckley@enron.com', 'chuck.ames@enron.com'),\n",
       " ('karen.buckley@enron.com', 'paul.schiavone@enron.com'),\n",
       " ('karen.buckley@enron.com', 'matt.smith@enron.com'),\n",
       " ('karen.buckley@enron.com', 'denver.plachy@enron.com'),\n",
       " ('karen.buckley@enron.com', 'bilal.bajwa@enron.com')]"
      ]
     },
     "execution_count": 30,
     "metadata": {},
     "output_type": "execute_result"
    }
   ],
   "source": [
    "idx_bySR[2]"
   ]
  },
  {
   "cell_type": "code",
   "execution_count": 31,
   "metadata": {
    "collapsed": false
   },
   "outputs": [],
   "source": [
    "\"\"\"sr_unique = np.unique(idx_bySR.values)\"\"\"\n",
    "\n",
    "sr_unique = set( val for dic in idx_bySR.values() for val in dic)"
   ]
  },
  {
   "cell_type": "code",
   "execution_count": 32,
   "metadata": {
    "collapsed": false
   },
   "outputs": [
    {
     "data": {
      "text/plain": [
       "23309"
      ]
     },
     "execution_count": 32,
     "metadata": {},
     "output_type": "execute_result"
    }
   ],
   "source": [
    "len(sr_unique)"
   ]
  },
  {
   "cell_type": "code",
   "execution_count": 33,
   "metadata": {
    "collapsed": true
   },
   "outputs": [],
   "source": [
    "\"\"\"index_senders[s] returns index of rows in df_train where df_train['sender']=s \"\"\"\n",
    "\n",
    "index_senders = {}\n",
    "\n",
    "for s in senders:\n",
    "    # row index where \"sender\" = s\n",
    "    index_senders[s] = df_train[df_train[\"sender\"]==s].index.tolist()"
   ]
  },
  {
   "cell_type": "code",
   "execution_count": 34,
   "metadata": {
    "collapsed": true
   },
   "outputs": [],
   "source": [
    "senders_test = np.unique(df_test[\"sender\"])"
   ]
  },
  {
   "cell_type": "code",
   "execution_count": 35,
   "metadata": {
    "collapsed": true
   },
   "outputs": [],
   "source": [
    "index_senders_test ={}\n",
    "\n",
    "for s in senders_test:\n",
    "    # row index where \"sender\" = s\n",
    "    index_senders_test[s] = df_test[df_test[\"sender\"]==s].index.tolist()"
   ]
  },
  {
   "cell_type": "markdown",
   "metadata": {},
   "source": [
    "### create a dictionary of wordlist\n",
    "wordlist[\"s1\"] stores all the key words of mails sent by s1"
   ]
  },
  {
   "cell_type": "code",
   "execution_count": 36,
   "metadata": {
    "collapsed": false
   },
   "outputs": [],
   "source": [
    "s1 = 'karen.buckley@enron.com'\n",
    "#len(wordlist[s1])"
   ]
  },
  {
   "cell_type": "markdown",
   "metadata": {},
   "source": [
    "### Compute Centroids of (sender, recipient)"
   ]
  },
  {
   "cell_type": "code",
   "execution_count": 39,
   "metadata": {
    "collapsed": false
   },
   "outputs": [],
   "source": [
    "from sklearn.feature_extraction.text import TfidfVectorizer\n",
    "from scipy.sparse import csr_matrix\n",
    "from stop_words import get_stop_words\n",
    "\n",
    "stop_words = get_stop_words('english')"
   ]
  },
  {
   "cell_type": "code",
   "execution_count": 40,
   "metadata": {
    "collapsed": false
   },
   "outputs": [],
   "source": [
    "tfidf = TfidfVectorizer(stop_words = stop_words)\n",
    "tfidf_bySender={}\n",
    "tfidf_tr_bySender ={}\n",
    "tfidf_test_bySender={}\n",
    "\n",
    "for s in senders:\n",
    "    tfidf_bySender[s] = tfidf.fit_transform(np.concatenate((df_train.ix[index_senders[s]]['body'].values,df_test.ix[index_senders_test[s]]['body'].values)))\n",
    "\n",
    "for s in senders:\n",
    "    tmp_tr = df_train_v1.ix[index_senders[s]].values\n",
    "    tmp_te = df_test_v1.ix[index_senders_test[s]].values\n",
    "    tfidf_tr_bySender[s] = csr_matrix(np.concatenate((tfidf_bySender[s][:len(index_senders[s])].toarray(),tmp_tr),axis=1))\n",
    "    tfidf_test_bySender[s] = csr_matrix(np.concatenate((tfidf_bySender[s][len(index_senders[s]):].toarray(),tmp_te),axis=1))"
   ]
  },
  {
   "cell_type": "code",
   "execution_count": 41,
   "metadata": {
    "collapsed": false
   },
   "outputs": [
    {
     "data": {
      "text/plain": [
       "array([[ 0.,  0.,  0.,  0.,  1.,  1.,  1.,  1.,  1.],\n",
       "       [ 0.,  0.,  0.,  0.,  1.,  1.,  1.,  1.,  1.],\n",
       "       [ 0.,  0.,  0.,  0.,  1.,  1.,  1.,  1.,  1.]])"
      ]
     },
     "execution_count": 41,
     "metadata": {},
     "output_type": "execute_result"
    }
   ],
   "source": [
    "aqw = np.zeros((3,4))\n",
    "zae = np.ones((3,5))\n",
    "np.concatenate((aqw,zae),axis=1)"
   ]
  },
  {
   "cell_type": "code",
   "execution_count": 42,
   "metadata": {
    "collapsed": false
   },
   "outputs": [
    {
     "data": {
      "text/plain": [
       "(77, 209)"
      ]
     },
     "execution_count": 42,
     "metadata": {},
     "output_type": "execute_result"
    }
   ],
   "source": [
    "tfidf_tr_bySender[s2].toarray().shape"
   ]
  },
  {
   "cell_type": "code",
   "execution_count": 43,
   "metadata": {
    "collapsed": false
   },
   "outputs": [
    {
     "data": {
      "text/plain": [
       "array(['asassasasasasa', 'x', 'b', 'd'], \n",
       "      dtype='<U14')"
      ]
     },
     "execution_count": 43,
     "metadata": {},
     "output_type": "execute_result"
    }
   ],
   "source": [
    "np.array([['asassasasasasa','x'],['b','d']]).ravel()"
   ]
  },
  {
   "cell_type": "code",
   "execution_count": 44,
   "metadata": {
    "collapsed": false
   },
   "outputs": [
    {
     "data": {
      "text/plain": [
       "(77, 209)"
      ]
     },
     "execution_count": 44,
     "metadata": {},
     "output_type": "execute_result"
    }
   ],
   "source": [
    "tfidf_tr_bySender[s2].shape"
   ]
  },
  {
   "cell_type": "code",
   "execution_count": null,
   "metadata": {
    "collapsed": true
   },
   "outputs": [],
   "source": [
    "from sklearn.preprocessing import Normalizer"
   ]
  },
  {
   "cell_type": "code",
   "execution_count": null,
   "metadata": {
    "collapsed": false
   },
   "outputs": [],
   "source": [
    "normalizer = Normalizer()\n",
    "aze= normalizer.fit_transform(tfidf_tr_bySender[s2])"
   ]
  },
  {
   "cell_type": "code",
   "execution_count": 162,
   "metadata": {
    "collapsed": false
   },
   "outputs": [
    {
     "ename": "SyntaxError",
     "evalue": "invalid syntax (<ipython-input-162-99ffacac23ed>, line 1)",
     "output_type": "error",
     "traceback": [
      "\u001b[0;36m  File \u001b[0;32m\"<ipython-input-162-99ffacac23ed>\"\u001b[0;36m, line \u001b[0;32m1\u001b[0m\n\u001b[0;31m    np.sum(aze[])\u001b[0m\n\u001b[0m               ^\u001b[0m\n\u001b[0;31mSyntaxError\u001b[0m\u001b[0;31m:\u001b[0m invalid syntax\n"
     ]
    }
   ],
   "source": []
  },
  {
   "cell_type": "code",
   "execution_count": 192,
   "metadata": {
    "collapsed": false
   },
   "outputs": [],
   "source": [
    "from sklearn.cluster import KMeans\n",
    "clusterings = {}\n",
    "dict_clusters = {}\n",
    "for s in senders:\n",
    "    n_clu = 3\n",
    "    clf = KMeans(n_clusters=n_clu, random_state=0).fit(tfidf_tr_bySender[s])\n",
    "    clusterings[s] = clf\n",
    "    dict_clusters[s] = {}\n",
    "    for cluster in range(n_clu):\n",
    "        recp_tmp = []\n",
    "        for i in np.array(index_senders[s])[np.where(clf.labels_== cluster)[0]]:\n",
    "            recp_tmp.append([sr[1] for sr in idx_bySR[i]])\n",
    "        recp_tmp = [item for sublist in recp_tmp for item in sublist]\n",
    "        d = {x:recp_tmp.count(x) for x in recp_tmp}\n",
    "        recep,b = list(d.keys()), list(d.values())\n",
    "        j = np.argsort(b)[::-1][:10]\n",
    "        dict_clusters[s][cluster] = [recep[k] for k in j ]\n",
    "        \n",
    "dict_test_recps={}\n",
    "for s in senders_test:\n",
    "    dict_test_recps[s] = []\n",
    "    tmp_pred = clusterings[s].predict(tfidf_test_bySender[s])\n",
    "    for i in tmp_pred:\n",
    "        dict_test_recps[s].append(dict_clusters[s][i])"
   ]
  },
  {
   "cell_type": "code",
   "execution_count": null,
   "metadata": {
    "collapsed": true
   },
   "outputs": [],
   "source": []
  },
  {
   "cell_type": "code",
   "execution_count": null,
   "metadata": {
    "collapsed": false
   },
   "outputs": [],
   "source": [
    "from sklearn.mixture import BayesianGaussianMixture\n",
    "clusterings = {}\n",
    "dict_clusters = {}\n",
    "for s in senders:\n",
    "    n_clu = 10\n",
    "    clf = BayesianGaussianMixture(n_components=n_clu, random_state=0).fit(tfidf_tr_bySender[s].toarray())\n",
    "    clusterings[s] = clf\n",
    "    dict_clusters[s] = {}\n",
    "    for cluster in range(n_clu):\n",
    "        recp_tmp = []\n",
    "        for i in np.array(index_senders[s])[np.where(clf.predict(tfidf_tr_bySender[s].toarray())== cluster)[0]]:\n",
    "            recp_tmp.append([sr[1] for sr in idx_bySR[i]])\n",
    "        recp_tmp = [item for sublist in recp_tmp for item in sublist]\n",
    "        d = {x:recp_tmp.count(x) for x in recp_tmp}\n",
    "        recep,b = list(d.keys()), list(d.values())\n",
    "        j = np.argsort(b)[::-1][:10]\n",
    "        dict_clusters[s][cluster] = [recep[k] for k in j ]\n",
    "        \n",
    "dict_test_recps={}\n",
    "for s in senders_test:\n",
    "    dict_test_recps[s] = []\n",
    "    tmp_pred = clusterings[s].predict(tfidf_test_bySender[s])\n",
    "    for i in tmp_pred:\n",
    "        dict_test_recps[s].append(dict_clusters[s][i])"
   ]
  },
  {
   "cell_type": "markdown",
   "metadata": {
    "collapsed": true
   },
   "source": [
    "## Submission"
   ]
  },
  {
   "cell_type": "code",
   "execution_count": 193,
   "metadata": {
    "collapsed": false
   },
   "outputs": [],
   "source": [
    "output={}\n",
    "\n",
    "for s in senders_test:\n",
    "    n_mail_bySender = len(dict_test_recps[s])\n",
    "\n",
    "    for i in range(n_mail_bySender):\n",
    "        output[index_senders_test[s][i]] = dict_test_recps[s][i]"
   ]
  },
  {
   "cell_type": "code",
   "execution_count": 194,
   "metadata": {
    "collapsed": false
   },
   "outputs": [],
   "source": [
    "import collections\n",
    "\n",
    "od = collections.OrderedDict(sorted(output.items()))\n",
    "\n",
    "pred_recps = [od[i] for i in range(len(od))]"
   ]
  },
  {
   "cell_type": "code",
   "execution_count": 195,
   "metadata": {
    "collapsed": false
   },
   "outputs": [
    {
     "data": {
      "text/plain": [
       "['lloyd.will@enron.com',\n",
       " 'scott.neal@enron.com',\n",
       " 'ed.mcmichael@enron.com',\n",
       " 'robert.superty@enron.com',\n",
       " 'hunter.s.shively@enron.com',\n",
       " 'rogers.herndon@enron.com',\n",
       " 'jason.wolfe@enron.com',\n",
       " 'chris.gaskill@enron.com',\n",
       " 'phillip.k.ellen@enron.com',\n",
       " 'adrianne.engler@enron.com']"
      ]
     },
     "execution_count": 195,
     "metadata": {},
     "output_type": "execute_result"
    }
   ],
   "source": [
    "pred_recps[0]"
   ]
  },
  {
   "cell_type": "code",
   "execution_count": 196,
   "metadata": {
    "collapsed": false
   },
   "outputs": [],
   "source": [
    "predictions_per_sender= {}\n",
    "\n",
    "for i in range(len(df_test)):\n",
    "    predictions_per_sender[i] = [df_test['mid'][i],pred_recps[i]]"
   ]
  },
  {
   "cell_type": "code",
   "execution_count": 197,
   "metadata": {
    "collapsed": false
   },
   "outputs": [
    {
     "name": "stdout",
     "output_type": "stream",
     "text": [
      "lloyd.will@enron.com\n",
      "scott.neal@enron.com\n",
      "ed.mcmichael@enron.com\n",
      "robert.superty@enron.com\n",
      "hunter.s.shively@enron.com\n",
      "rogers.herndon@enron.com\n",
      "jason.wolfe@enron.com\n",
      "chris.gaskill@enron.com\n",
      "phillip.k.ellen@enron.com\n",
      "adrianne.engler@enron.com\n"
     ]
    }
   ],
   "source": [
    "for _, my_preds in enumerate(pred_recps[0]):\n",
    "    print (my_preds)"
   ]
  },
  {
   "cell_type": "code",
   "execution_count": 198,
   "metadata": {
    "collapsed": false
   },
   "outputs": [
    {
     "data": {
      "text/plain": [
       "True"
      ]
     },
     "execution_count": 198,
     "metadata": {},
     "output_type": "execute_result"
    }
   ],
   "source": [
    "\"c..gossett@enron.com\" in res_unique"
   ]
  },
  {
   "cell_type": "code",
   "execution_count": 199,
   "metadata": {
    "collapsed": false
   },
   "outputs": [],
   "source": [
    "#################################################\n",
    "# write predictions in proper format for Kaggle #                           \n",
    "#################################################\n",
    "\n",
    "with open('predictions_tfidf_new2222222222222222222222222.txt', 'w') as my_file:\n",
    "    my_file.write('mid,recipients' + '\\n')\n",
    "    for _, preds in predictions_per_sender.items():\n",
    "        ids = preds[0]\n",
    "        tfidf_preds = preds[1]\n",
    "        \n",
    "        recp = ' '.join(tfidf_preds)\n",
    "        \n",
    "        my_file.write(str(ids) + ',' + recp + '\\n')\n"
   ]
  },
  {
   "cell_type": "code",
   "execution_count": null,
   "metadata": {
    "collapsed": true
   },
   "outputs": [],
   "source": []
  }
 ],
 "metadata": {
  "anaconda-cloud": {},
  "kernelspec": {
   "display_name": "Python [conda root]",
   "language": "python",
   "name": "conda-root-py"
  },
  "language_info": {
   "codemirror_mode": {
    "name": "ipython",
    "version": 3
   },
   "file_extension": ".py",
   "mimetype": "text/x-python",
   "name": "python",
   "nbconvert_exporter": "python",
   "pygments_lexer": "ipython3",
   "version": "3.5.2"
  }
 },
 "nbformat": 4,
 "nbformat_minor": 0
}

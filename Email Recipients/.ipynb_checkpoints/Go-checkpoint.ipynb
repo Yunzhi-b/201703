{
 "cells": [
  {
   "cell_type": "code",
   "execution_count": 1,
   "metadata": {
    "collapsed": true
   },
   "outputs": [],
   "source": [
    "import random\n",
    "import operator\n",
    "import pandas as pd\n",
    "from collections import Counter"
   ]
  },
  {
   "cell_type": "code",
   "execution_count": 2,
   "metadata": {
    "collapsed": true
   },
   "outputs": [],
   "source": [
    "training = pd.read_csv('training_set.csv', sep=',', header=0)\n",
    "\n",
    "training_info = pd.read_csv('training_info.csv', sep=',', header=0)\n",
    "\n",
    "test = pd.read_csv('test_set.csv', sep=',', header=0)"
   ]
  },
  {
   "cell_type": "code",
   "execution_count": 3,
   "metadata": {
    "collapsed": false
   },
   "outputs": [
    {
     "data": {
      "text/html": [
       "<div>\n",
       "<table border=\"1\" class=\"dataframe\">\n",
       "  <thead>\n",
       "    <tr style=\"text-align: right;\">\n",
       "      <th></th>\n",
       "      <th>sender</th>\n",
       "      <th>mids</th>\n",
       "    </tr>\n",
       "  </thead>\n",
       "  <tbody>\n",
       "    <tr>\n",
       "      <th>0</th>\n",
       "      <td>karen.buckley@enron.com</td>\n",
       "      <td>158713 158697 200301 158679 278595 298162 2002...</td>\n",
       "    </tr>\n",
       "    <tr>\n",
       "      <th>1</th>\n",
       "      <td>amr.ibrahim@enron.com</td>\n",
       "      <td>215241 3437 215640 3506 191790 3517 3520 3562 ...</td>\n",
       "    </tr>\n",
       "    <tr>\n",
       "      <th>2</th>\n",
       "      <td>andrea.ring@enron.com</td>\n",
       "      <td>270705 270706 270707 270708 270709 270710 2707...</td>\n",
       "    </tr>\n",
       "    <tr>\n",
       "      <th>3</th>\n",
       "      <td>sylvia.hu@enron.com</td>\n",
       "      <td>111444 111422 183084 111412 111347 110883 1105...</td>\n",
       "    </tr>\n",
       "    <tr>\n",
       "      <th>4</th>\n",
       "      <td>phillip.platter@enron.com</td>\n",
       "      <td>327074 327384 327385 264443 274124 274125 2741...</td>\n",
       "    </tr>\n",
       "  </tbody>\n",
       "</table>\n",
       "</div>"
      ],
      "text/plain": [
       "                      sender  \\\n",
       "0    karen.buckley@enron.com   \n",
       "1      amr.ibrahim@enron.com   \n",
       "2      andrea.ring@enron.com   \n",
       "3        sylvia.hu@enron.com   \n",
       "4  phillip.platter@enron.com   \n",
       "\n",
       "                                                mids  \n",
       "0  158713 158697 200301 158679 278595 298162 2002...  \n",
       "1  215241 3437 215640 3506 191790 3517 3520 3562 ...  \n",
       "2  270705 270706 270707 270708 270709 270710 2707...  \n",
       "3  111444 111422 183084 111412 111347 110883 1105...  \n",
       "4  327074 327384 327385 264443 274124 274125 2741...  "
      ]
     },
     "execution_count": 3,
     "metadata": {},
     "output_type": "execute_result"
    }
   ],
   "source": [
    "training.head()"
   ]
  },
  {
   "cell_type": "code",
   "execution_count": 12,
   "metadata": {
    "collapsed": false
   },
   "outputs": [
    {
     "name": "stdout",
     "output_type": "stream",
     "text": [
      "body:Legal has been assessing the risks of doing block forward trades as financial and for now, subject to future changes that may be required  as discussions with the CAPX legal experts continue,  we can state the basic rules as follows:It is okay to do up to 50% of  our Block Forward business as financial.It is very important to monitor this 50% level very closely and we should not exceed it. We should not rely on the PX to tell us what the level is. We should confirm it ourselves.  A skeptical regulator, looking at PX records should never be able to see that we ever did more than half our block forward business as financial.  One of the legal rules that we must comply with in this area is that there must be a bona fide commercial reason for going financial.  This dumbfoundingly simple sounding rule is important.  Somehow, when we communicate our decision to the PX to go from physical to financial, we should give our reason.  I m not sure whether our decision is expressed by phone, or electronically, but in either case,  the person making the change with the PX should get in an expression something like this:  \"we would like to change these trades to financial because we think the elimination of physical risk will benefit us commercially.\"  Please be patient with this self serving requirement and do it.  I have not worked out with any of the other back office groups how this new practice will be handled. Obviously any changes it will require in scheduling, settlements and accounting need to be dealt with too. Please call me with any questions.  ----cgy\n",
      "recipents:robert.badeer@enron.com murray.o neil@enron.com tim.belden@enron.com elizabeth.sager@enron.com carla.hoffman@enron.com jeff.richter@enron.com chris.stokley@enron.com valarie.sabo@enron.com\n"
     ]
    },
    {
     "data": {
      "text/html": [
       "<div>\n",
       "<table border=\"1\" class=\"dataframe\">\n",
       "  <thead>\n",
       "    <tr style=\"text-align: right;\">\n",
       "      <th></th>\n",
       "      <th>mid</th>\n",
       "      <th>date</th>\n",
       "      <th>body</th>\n",
       "      <th>recipients</th>\n",
       "    </tr>\n",
       "  </thead>\n",
       "  <tbody>\n",
       "    <tr>\n",
       "      <th>0</th>\n",
       "      <td>60</td>\n",
       "      <td>2000-07-25 08:14:00</td>\n",
       "      <td>Legal has been assessing the risks of doing bl...</td>\n",
       "      <td>robert.badeer@enron.com murray.o neil@enron.co...</td>\n",
       "    </tr>\n",
       "    <tr>\n",
       "      <th>1</th>\n",
       "      <td>66</td>\n",
       "      <td>2000-08-03 02:56:00</td>\n",
       "      <td>Attached is a spreadsheet to estimate export f...</td>\n",
       "      <td>kim.ward@enron.com robert.badeer@enron.com mur...</td>\n",
       "    </tr>\n",
       "    <tr>\n",
       "      <th>2</th>\n",
       "      <td>74</td>\n",
       "      <td>2000-08-15 05:37:00</td>\n",
       "      <td>Kevin/Bob: Here is a quick rundown on the cons...</td>\n",
       "      <td>robert.badeer@enron.com john.massey@enron.com ...</td>\n",
       "    </tr>\n",
       "    <tr>\n",
       "      <th>3</th>\n",
       "      <td>80</td>\n",
       "      <td>2000-08-20 14:12:00</td>\n",
       "      <td>check this out and let everyone know what s up...</td>\n",
       "      <td>robert.badeer@enron.com jeff.richter@enron.com</td>\n",
       "    </tr>\n",
       "    <tr>\n",
       "      <th>4</th>\n",
       "      <td>83</td>\n",
       "      <td>2000-08-22 08:17:00</td>\n",
       "      <td>Further to your letter to us (addressed to Mr....</td>\n",
       "      <td>pgillman@schiffhardin.com kamarlantes@calpx.co...</td>\n",
       "    </tr>\n",
       "  </tbody>\n",
       "</table>\n",
       "</div>"
      ],
      "text/plain": [
       "   mid                 date  \\\n",
       "0   60  2000-07-25 08:14:00   \n",
       "1   66  2000-08-03 02:56:00   \n",
       "2   74  2000-08-15 05:37:00   \n",
       "3   80  2000-08-20 14:12:00   \n",
       "4   83  2000-08-22 08:17:00   \n",
       "\n",
       "                                                body  \\\n",
       "0  Legal has been assessing the risks of doing bl...   \n",
       "1  Attached is a spreadsheet to estimate export f...   \n",
       "2  Kevin/Bob: Here is a quick rundown on the cons...   \n",
       "3  check this out and let everyone know what s up...   \n",
       "4  Further to your letter to us (addressed to Mr....   \n",
       "\n",
       "                                          recipients  \n",
       "0  robert.badeer@enron.com murray.o neil@enron.co...  \n",
       "1  kim.ward@enron.com robert.badeer@enron.com mur...  \n",
       "2  robert.badeer@enron.com john.massey@enron.com ...  \n",
       "3     robert.badeer@enron.com jeff.richter@enron.com  \n",
       "4  pgillman@schiffhardin.com kamarlantes@calpx.co...  "
      ]
     },
     "execution_count": 12,
     "metadata": {},
     "output_type": "execute_result"
    }
   ],
   "source": [
    "print(\"body:\"+training_info.body.values[0])\n",
    "print(\"recipents:\"+training_info.recipients.values[0])\n",
    "training_info.head()"
   ]
  },
  {
   "cell_type": "code",
   "execution_count": 9,
   "metadata": {
    "collapsed": false
   },
   "outputs": [
    {
     "data": {
      "text/html": [
       "<div>\n",
       "<table border=\"1\" class=\"dataframe\">\n",
       "  <thead>\n",
       "    <tr style=\"text-align: right;\">\n",
       "      <th></th>\n",
       "      <th>sender</th>\n",
       "      <th>mids</th>\n",
       "    </tr>\n",
       "  </thead>\n",
       "  <tbody>\n",
       "    <tr>\n",
       "      <th>0</th>\n",
       "      <td>karen.buckley@enron.com</td>\n",
       "      <td>298389 332383 298390 284071 366982 81773 81791...</td>\n",
       "    </tr>\n",
       "    <tr>\n",
       "      <th>1</th>\n",
       "      <td>amr.ibrahim@enron.com</td>\n",
       "      <td>48260 48465 50344 48268 50330 48237 189979 189...</td>\n",
       "    </tr>\n",
       "    <tr>\n",
       "      <th>2</th>\n",
       "      <td>andrea.ring@enron.com</td>\n",
       "      <td>366364 271168 271172 271167 271189</td>\n",
       "    </tr>\n",
       "    <tr>\n",
       "      <th>3</th>\n",
       "      <td>sylvia.hu@enron.com</td>\n",
       "      <td>134931 134856 233549 233517 134895 233584 3736...</td>\n",
       "    </tr>\n",
       "    <tr>\n",
       "      <th>4</th>\n",
       "      <td>phillip.platter@enron.com</td>\n",
       "      <td>274220 274225 274215 274223 274214 274207 2742...</td>\n",
       "    </tr>\n",
       "  </tbody>\n",
       "</table>\n",
       "</div>"
      ],
      "text/plain": [
       "                      sender  \\\n",
       "0    karen.buckley@enron.com   \n",
       "1      amr.ibrahim@enron.com   \n",
       "2      andrea.ring@enron.com   \n",
       "3        sylvia.hu@enron.com   \n",
       "4  phillip.platter@enron.com   \n",
       "\n",
       "                                                mids  \n",
       "0  298389 332383 298390 284071 366982 81773 81791...  \n",
       "1  48260 48465 50344 48268 50330 48237 189979 189...  \n",
       "2                 366364 271168 271172 271167 271189  \n",
       "3  134931 134856 233549 233517 134895 233584 3736...  \n",
       "4  274220 274225 274215 274223 274214 274207 2742...  "
      ]
     },
     "execution_count": 9,
     "metadata": {},
     "output_type": "execute_result"
    }
   ],
   "source": [
    "test.head()"
   ]
  },
  {
   "cell_type": "code",
   "execution_count": 18,
   "metadata": {
    "collapsed": false
   },
   "outputs": [
    {
     "name": "stdout",
     "output_type": "stream",
     "text": [
      "karen.buckley@enron.com\n",
      "['158713 158697 200301 158679 278595 298162 200215 256957 256959 268323 298186 276574 278639 392289 74640 200134 74643 74644 74646 266070 278585 392279 278578 392208 392209 158590 159537 200105 278567 286971 286972 278558 381038 382641 158594 159533 200094 158605 158607 159520 159522 161033 392155 161037 200085 200086 381013 392115 160998 286942 392151 158465 159486 159724 200061 200062 158472 159476 200049 159470 159712 278520 286935 392109 160694 278511 286926 391904 158517 298238 298277 380772 382593 298292 380773 292003 298313 79559 298320 335968 298326 286794 298353 94852 159335 286801 94855 87266 94831 94833 100629 160912 278463 285452 286812 298359 365562 27543 51586 53586 94560 94561 160943 266654 278483 286866 298370 27513 51577 93518 152890 152894 153164 153175 160952 266636 278487 286874 298371 298372 365542 366836 52116 81930 298374 152937 27453 52097 53547 86741 93505 100495 152973 152976 160973 253317 266602 278497 285582 286903 287507 365523 366395 366824 153012 159449 162615 169589 169590 200035 200613 274084 274708 390472 53532 285336']\n",
      "158713 158697 200301 158679 278595 298162 200215 256957 256959 268323 298186 276574 278639 392289 74640 200134 74643 74644 74646 266070 278585 392279 278578 392208 392209 158590 159537 200105 278567 286971 286972 278558 381038 382641 158594 159533 200094 158605 158607 159520 159522 161033 392155 161037 200085 200086 381013 392115 160998 286942 392151 158465 159486 159724 200061 200062 158472 159476 200049 159470 159712 278520 286935 392109 160694 278511 286926 391904 158517 298238 298277 380772 382593 298292 380773 292003 298313 79559 298320 335968 298326 286794 298353 94852 159335 286801 94855 87266 94831 94833 100629 160912 278463 285452 286812 298359 365562 27543 51586 53586 94560 94561 160943 266654 278483 286866 298370 27513 51577 93518 152890 152894 153164 153175 160952 266636 278487 286874 298371 298372 365542 366836 52116 81930 298374 152937 27453 52097 53547 86741 93505 100495 152973 152976 160973 253317 266602 278497 285582 286903 287507 365523 366395 366824 153012 159449 162615 169589 169590 200035 200613 274084 274708 390472 53532 285336\n",
      "['158713', '158697', '200301', '158679', '278595', '298162', '200215', '256957', '256959', '268323', '298186', '276574', '278639', '392289', '74640', '200134', '74643', '74644', '74646', '266070', '278585', '392279', '278578', '392208', '392209', '158590', '159537', '200105', '278567', '286971', '286972', '278558', '381038', '382641', '158594', '159533', '200094', '158605', '158607', '159520', '159522', '161033', '392155', '161037', '200085', '200086', '381013', '392115', '160998', '286942', '392151', '158465', '159486', '159724', '200061', '200062', '158472', '159476', '200049', '159470', '159712', '278520', '286935', '392109', '160694', '278511', '286926', '391904', '158517', '298238', '298277', '380772', '382593', '298292', '380773', '292003', '298313', '79559', '298320', '335968', '298326', '286794', '298353', '94852', '159335', '286801', '94855', '87266', '94831', '94833', '100629', '160912', '278463', '285452', '286812', '298359', '365562', '27543', '51586', '53586', '94560', '94561', '160943', '266654', '278483', '286866', '298370', '27513', '51577', '93518', '152890', '152894', '153164', '153175', '160952', '266636', '278487', '286874', '298371', '298372', '365542', '366836', '52116', '81930', '298374', '152937', '27453', '52097', '53547', '86741', '93505', '100495', '152973', '152976', '160973', '253317', '266602', '278497', '285582', '286903', '287507', '365523', '366395', '366824', '153012', '159449', '162615', '169589', '169590', '200035', '200613', '274084', '274708', '390472', '53532', '285336']\n"
     ]
    }
   ],
   "source": [
    "emails_ids_per_sender = {}\n",
    "for index, series in training.iterrows():\n",
    "    row = series.tolist()\n",
    "    sender = row[0]\n",
    "    if index==0:\n",
    "        print(sender)\n",
    "        print(row[1:])\n",
    "        print(row[1:][0])\n",
    "        print(row[1:][0].split(' '))\n",
    "    ids = row[1:][0].split(' ')\n",
    "    emails_ids_per_sender[sender] = ids"
   ]
  }
 ],
 "metadata": {
  "anaconda-cloud": {},
  "kernelspec": {
   "display_name": "Python [conda root]",
   "language": "python",
   "name": "conda-root-py"
  },
  "language_info": {
   "codemirror_mode": {
    "name": "ipython",
    "version": 3
   },
   "file_extension": ".py",
   "mimetype": "text/x-python",
   "name": "python",
   "nbconvert_exporter": "python",
   "pygments_lexer": "ipython3",
   "version": "3.5.2"
  }
 },
 "nbformat": 4,
 "nbformat_minor": 0
}

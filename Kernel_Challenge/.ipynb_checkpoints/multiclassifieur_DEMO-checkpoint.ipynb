{
 "cells": [
  {
   "cell_type": "code",
   "execution_count": 2,
   "metadata": {
    "collapsed": true
   },
   "outputs": [],
   "source": [
    "%matplotlib inline\n",
    "import numpy as np\n",
    "import matplotlib.pyplot as plt\n",
    "import pandas as pd"
   ]
  },
  {
   "cell_type": "code",
   "execution_count": 21,
   "metadata": {
    "collapsed": false
   },
   "outputs": [
    {
     "name": "stdout",
     "output_type": "stream",
     "text": [
      "1\n"
     ]
    }
   ],
   "source": [
    "x = {'a' : 1, 'b' : 2}\n",
    "if 'c' not in x:\n",
    "    print('1')"
   ]
  },
  {
   "cell_type": "code",
   "execution_count": 22,
   "metadata": {
    "collapsed": true
   },
   "outputs": [],
   "source": [
    "from scipy import stats\n",
    "from itertools import combinations\n",
    "class KernelMultiClassifier_OneVsOne():\n",
    "    def __init__(self, baseClassifier=None,C=None, kernel=None, param=None):\n",
    "        self.C = C\n",
    "        self.kernel = kernel\n",
    "        self.param = param\n",
    "        self.baseClassifier = baseClassifier\n",
    "\n",
    "    def fit(self, X, y):\n",
    "        datasets_dict = {}\n",
    "        models_dict = {}\n",
    "        l = np.unique(y)\n",
    "        for (class1,class2) in combinations(l, 2):\n",
    "            y1 = y[y==class1]\n",
    "            y1[:] = -1\n",
    "            X1 = X[y==class1]\n",
    "            y2 = y[y==class2]\n",
    "            y2[:] = 1\n",
    "            X2 = X[y==class2]\n",
    "            datasets_dict[(class1,class2)] = (np.concatenate((X1,X2)),np.concatenate((y1,y2)))\n",
    "        \n",
    "        for tmp in datasets_dict:\n",
    "            (X_tmp,y_tmp) = datasets_dict[tmp]\n",
    "            model = self.baseClassifier()\n",
    "            model = model.fit(X_tmp, y_tmp)\n",
    "            models_dict[tmp] = model\n",
    "        self.models_dict = models_dict\n",
    "        return self\n",
    "\n",
    "\n",
    "    def predict(self, X):\n",
    "        y = []\n",
    "        prob_dict = {}\n",
    "        n = X.shape[0]\n",
    "        for tmp in self.models_dict:\n",
    "            y_pred_prob = self.models_dict[tmp].predict_prob(X)\n",
    "            if tmp[1] not in prob_dict:\n",
    "                prob_dict[tmp[1]] = y_pred_prob\n",
    "            else:\n",
    "                prob_dict[tmp[1]] = prob_dict[tmp[1]]*y_pred_prob\n",
    "                \n",
    "            if tmp[0] not in prob_dict:\n",
    "                prob_dict[tmp[0]] = 1 - y_pred_prob\n",
    "            else:\n",
    "                prob_dict[tmp[0]] = prob_dict[tmp[0]]*(1-y_pred_prob)\n",
    "        \n",
    "        labels = []\n",
    "        probs = []\n",
    "        for label in prob_dict:\n",
    "            labels.append(label)\n",
    "            probs.append(prob_dict[label])\n",
    "        labels = np.array(labels)\n",
    "        probs = np.array(probs)\n",
    "        labels_index = np.argmax(probs,axis=0)\n",
    "        return labels[labels_index]\n",
    "\n",
    "    def score(self, X, y):\n",
    "        return np.mean(self.predict(X) == y)"
   ]
  },
  {
   "cell_type": "code",
   "execution_count": 23,
   "metadata": {
    "collapsed": false
   },
   "outputs": [
    {
     "name": "stderr",
     "output_type": "stream",
     "text": [
      "/home/yunji/anaconda3/lib/python3.5/site-packages/ipykernel/__main__.py:9: VisibleDeprecationWarning: using a non-integer number instead of an integer will result in an error in the future\n",
      "/home/yunji/anaconda3/lib/python3.5/site-packages/ipykernel/__main__.py:10: VisibleDeprecationWarning: using a non-integer number instead of an integer will result in an error in the future\n",
      "/home/yunji/anaconda3/lib/python3.5/site-packages/ipykernel/__main__.py:11: VisibleDeprecationWarning: using a non-integer number instead of an integer will result in an error in the future\n",
      "/home/yunji/anaconda3/lib/python3.5/site-packages/ipykernel/__main__.py:12: VisibleDeprecationWarning: using a non-integer number instead of an integer will result in an error in the future\n"
     ]
    },
    {
     "name": "stdout",
     "output_type": "stream",
     "text": [
      "KNN score: 0.961111\n",
      "LogisticRegression score: 0.938889\n"
     ]
    }
   ],
   "source": [
    "from sklearn import datasets, neighbors, linear_model\n",
    "\n",
    "digits = datasets.load_digits(n_class=10)\n",
    "X_digits = digits.data\n",
    "y_digits = digits.target\n",
    "\n",
    "n_samples = len(X_digits)\n",
    "\n",
    "X_train = X_digits[:.9 * n_samples]\n",
    "y_train = y_digits[:.9 * n_samples]\n",
    "X_test = X_digits[.9 * n_samples:]\n",
    "y_test = y_digits[.9 * n_samples:]\n",
    "\n",
    "knn = neighbors.KNeighborsClassifier()\n",
    "logistic = linear_model.LogisticRegression()\n",
    "\n",
    "print('KNN score: %f' % knn.fit(X_train, y_train).score(X_test, y_test))\n",
    "print('LogisticRegression score: %f'\n",
    "      % logistic.fit(X_train, y_train).score(X_test, y_test))"
   ]
  },
  {
   "cell_type": "code",
   "execution_count": 36,
   "metadata": {
    "collapsed": true
   },
   "outputs": [],
   "source": [
    "from kernel_project_utile import SVMClassifier\n",
    "import kernel_metrics as km"
   ]
  },
  {
   "cell_type": "code",
   "execution_count": 30,
   "metadata": {
    "collapsed": false
   },
   "outputs": [
    {
     "ename": "AttributeError",
     "evalue": "'LogisticRegression' object has no attribute 'predict_prob'",
     "output_type": "error",
     "traceback": [
      "\u001b[0;31m---------------------------------------------------------------------------\u001b[0m",
      "\u001b[0;31mAttributeError\u001b[0m                            Traceback (most recent call last)",
      "\u001b[0;32m<ipython-input-30-b606345097b0>\u001b[0m in \u001b[0;36m<module>\u001b[0;34m()\u001b[0m\n\u001b[1;32m      1\u001b[0m \u001b[0mmodel\u001b[0m \u001b[0;34m=\u001b[0m \u001b[0mKernelMultiClassifier_OneVsOne\u001b[0m\u001b[0;34m(\u001b[0m\u001b[0mbaseClassifier\u001b[0m\u001b[0;34m=\u001b[0m\u001b[0mlinear_model\u001b[0m\u001b[0;34m.\u001b[0m\u001b[0mLogisticRegression\u001b[0m\u001b[0;34m)\u001b[0m\u001b[0;34m\u001b[0m\u001b[0m\n\u001b[1;32m      2\u001b[0m \u001b[0mmodel\u001b[0m\u001b[0;34m.\u001b[0m\u001b[0mfit\u001b[0m\u001b[0;34m(\u001b[0m\u001b[0mX_train\u001b[0m\u001b[0;34m,\u001b[0m\u001b[0my_train\u001b[0m\u001b[0;34m)\u001b[0m\u001b[0;34m\u001b[0m\u001b[0m\n\u001b[0;32m----> 3\u001b[0;31m \u001b[0mprint\u001b[0m\u001b[0;34m(\u001b[0m\u001b[0mmodel\u001b[0m\u001b[0;34m.\u001b[0m\u001b[0mpredict\u001b[0m\u001b[0;34m(\u001b[0m\u001b[0mX_test\u001b[0m\u001b[0;34m)\u001b[0m\u001b[0;34m)\u001b[0m\u001b[0;34m\u001b[0m\u001b[0m\n\u001b[0m\u001b[1;32m      4\u001b[0m \u001b[0mprint\u001b[0m\u001b[0;34m(\u001b[0m\u001b[0mmodel\u001b[0m\u001b[0;34m.\u001b[0m\u001b[0mscore\u001b[0m\u001b[0;34m(\u001b[0m\u001b[0mX_test\u001b[0m\u001b[0;34m,\u001b[0m\u001b[0my_test\u001b[0m\u001b[0;34m)\u001b[0m\u001b[0;34m)\u001b[0m\u001b[0;34m\u001b[0m\u001b[0m\n",
      "\u001b[0;32m<ipython-input-22-d889dcf952c9>\u001b[0m in \u001b[0;36mpredict\u001b[0;34m(self, X)\u001b[0m\n\u001b[1;32m     35\u001b[0m         \u001b[0mn\u001b[0m \u001b[0;34m=\u001b[0m \u001b[0mX\u001b[0m\u001b[0;34m.\u001b[0m\u001b[0mshape\u001b[0m\u001b[0;34m[\u001b[0m\u001b[0;36m0\u001b[0m\u001b[0;34m]\u001b[0m\u001b[0;34m\u001b[0m\u001b[0m\n\u001b[1;32m     36\u001b[0m         \u001b[0;32mfor\u001b[0m \u001b[0mtmp\u001b[0m \u001b[0;32min\u001b[0m \u001b[0mself\u001b[0m\u001b[0;34m.\u001b[0m\u001b[0mmodels_dict\u001b[0m\u001b[0;34m:\u001b[0m\u001b[0;34m\u001b[0m\u001b[0m\n\u001b[0;32m---> 37\u001b[0;31m             \u001b[0my_pred_prob\u001b[0m \u001b[0;34m=\u001b[0m \u001b[0mself\u001b[0m\u001b[0;34m.\u001b[0m\u001b[0mmodels_dict\u001b[0m\u001b[0;34m[\u001b[0m\u001b[0mtmp\u001b[0m\u001b[0;34m]\u001b[0m\u001b[0;34m.\u001b[0m\u001b[0mpredict_prob\u001b[0m\u001b[0;34m(\u001b[0m\u001b[0mX\u001b[0m\u001b[0;34m)\u001b[0m\u001b[0;34m\u001b[0m\u001b[0m\n\u001b[0m\u001b[1;32m     38\u001b[0m             \u001b[0;32mif\u001b[0m \u001b[0mtmp\u001b[0m\u001b[0;34m[\u001b[0m\u001b[0;36m1\u001b[0m\u001b[0;34m]\u001b[0m \u001b[0;32mnot\u001b[0m \u001b[0;32min\u001b[0m \u001b[0mprob_dict\u001b[0m\u001b[0;34m:\u001b[0m\u001b[0;34m\u001b[0m\u001b[0m\n\u001b[1;32m     39\u001b[0m                 \u001b[0mprob_dict\u001b[0m\u001b[0;34m[\u001b[0m\u001b[0mtmp\u001b[0m\u001b[0;34m[\u001b[0m\u001b[0;36m1\u001b[0m\u001b[0;34m]\u001b[0m\u001b[0;34m]\u001b[0m \u001b[0;34m=\u001b[0m \u001b[0my_pred_prob\u001b[0m\u001b[0;34m\u001b[0m\u001b[0m\n",
      "\u001b[0;31mAttributeError\u001b[0m: 'LogisticRegression' object has no attribute 'predict_prob'"
     ]
    }
   ],
   "source": [
    "model = KernelMultiClassifier_OneVsOne(baseClassifier=linear_model.LogisticRegression)\n",
    "model.fit(X_train,y_train)\n",
    "print(model.predict(X_test))\n",
    "print(model.score(X_test,y_test))"
   ]
  },
  {
   "cell_type": "code",
   "execution_count": null,
   "metadata": {
    "collapsed": true
   },
   "outputs": [],
   "source": []
  },
  {
   "cell_type": "code",
   "execution_count": null,
   "metadata": {
    "collapsed": true
   },
   "outputs": [],
   "source": []
  },
  {
   "cell_type": "code",
   "execution_count": null,
   "metadata": {
    "collapsed": true
   },
   "outputs": [],
   "source": []
  },
  {
   "cell_type": "code",
   "execution_count": null,
   "metadata": {
    "collapsed": true
   },
   "outputs": [],
   "source": []
  },
  {
   "cell_type": "code",
   "execution_count": 42,
   "metadata": {
    "collapsed": true
   },
   "outputs": [],
   "source": [
    "from scipy import stats\n",
    "class KernelMultiClassifier():\n",
    "    def __init__(self, baseClassifier=None,C=None, kernel=None, param=None):\n",
    "        self.C = C\n",
    "        self.kernel = kernel\n",
    "        self.param = param\n",
    "        self.baseClassifier = baseClassifier\n",
    "\n",
    "    def fit(self, X, y):\n",
    "        datasets_dict = {}\n",
    "        models_dict = {}\n",
    "        l = np.unique(y)\n",
    "        for (class1,class2) in combinations(l, 2):\n",
    "            y1 = y[y==class1]\n",
    "            y1[:] = -1\n",
    "            X1 = X[y==class1]\n",
    "            y2 = y[y==class2]\n",
    "            y2[:] = 1\n",
    "            X2 = X[y==class2]\n",
    "            datasets_dict[(class1,class2)] = (np.concatenate((X1,X2)),np.concatenate((y1,y2)))\n",
    "        for tmp in datasets_dict:\n",
    "            (X_tmp,y_tmp) = datasets_dict[tmp]\n",
    "            model = self.baseClassifier(self.C,self.kernel)\n",
    "            model = model.fit(X_tmp, y_tmp)\n",
    "            models_dict[tmp] = model\n",
    "        self.models_dict = models_dict\n",
    "        return self\n",
    "\n",
    "\n",
    "    def predict(self, X):\n",
    "        y = []\n",
    "        prob_dict = {}\n",
    "        n = X.shape[0]\n",
    "        for tmp in self.models_dict:\n",
    "            y_pred_prob = self.models_dict[tmp].predict_prob(X)\n",
    "            if tmp[1] not in prob_dict:\n",
    "                prob_dict[tmp[1]] = y_pred_prob\n",
    "            else:\n",
    "                prob_dict[tmp[1]] = prob_dict[tmp[1]]*y_pred_prob\n",
    "                \n",
    "            if tmp[0] not in prob_dict:\n",
    "                prob_dict[tmp[0]] = 1 - y_pred_prob\n",
    "            else:\n",
    "                prob_dict[tmp[0]] = prob_dict[tmp[0]]*(1-y_pred_prob)\n",
    "        \n",
    "        labels = []\n",
    "        probs = []\n",
    "        for label in prob_dict:\n",
    "            labels.append(label)\n",
    "            probs.append(prob_dict[label])\n",
    "        labels = np.array(labels)\n",
    "        probs = np.array(probs)\n",
    "        labels_index = np.argmax(probs,axis=0)\n",
    "        return labels[labels_index]\n",
    "\n",
    "    def score(self, X, y):\n",
    "        return np.mean(self.predict(X) == y)"
   ]
  },
  {
   "cell_type": "code",
   "execution_count": 46,
   "metadata": {
    "collapsed": false
   },
   "outputs": [
    {
     "ename": "AttributeError",
     "evalue": "'SVMClassifier' object has no attribute 'predict_prob'",
     "output_type": "error",
     "traceback": [
      "\u001b[0;31m---------------------------------------------------------------------------\u001b[0m",
      "\u001b[0;31mAttributeError\u001b[0m                            Traceback (most recent call last)",
      "\u001b[0;32m<ipython-input-46-8ba35db34b99>\u001b[0m in \u001b[0;36m<module>\u001b[0;34m()\u001b[0m\n\u001b[1;32m      3\u001b[0m \u001b[0mmodel\u001b[0m \u001b[0;34m=\u001b[0m \u001b[0mKernelMultiClassifier\u001b[0m\u001b[0;34m(\u001b[0m\u001b[0mbaseClassifier\u001b[0m\u001b[0;34m=\u001b[0m\u001b[0mkernel_project_utile\u001b[0m\u001b[0;34m.\u001b[0m\u001b[0mSVMClassifier\u001b[0m\u001b[0;34m,\u001b[0m\u001b[0mC\u001b[0m\u001b[0;34m=\u001b[0m\u001b[0;36m1.\u001b[0m\u001b[0;34m,\u001b[0m\u001b[0mkernel\u001b[0m\u001b[0;34m=\u001b[0m\u001b[0mkm\u001b[0m\u001b[0;34m.\u001b[0m\u001b[0mlinear_kernel\u001b[0m\u001b[0;34m)\u001b[0m\u001b[0;34m\u001b[0m\u001b[0m\n\u001b[1;32m      4\u001b[0m \u001b[0mmodel\u001b[0m\u001b[0;34m.\u001b[0m\u001b[0mfit\u001b[0m\u001b[0;34m(\u001b[0m\u001b[0mX_train\u001b[0m\u001b[0;34m,\u001b[0m\u001b[0my_train\u001b[0m\u001b[0;34m)\u001b[0m\u001b[0;34m\u001b[0m\u001b[0m\n\u001b[0;32m----> 5\u001b[0;31m \u001b[0mprint\u001b[0m\u001b[0;34m(\u001b[0m\u001b[0mmodel\u001b[0m\u001b[0;34m.\u001b[0m\u001b[0mpredict\u001b[0m\u001b[0;34m(\u001b[0m\u001b[0mX_test\u001b[0m\u001b[0;34m)\u001b[0m\u001b[0;34m)\u001b[0m\u001b[0;34m\u001b[0m\u001b[0m\n\u001b[0m\u001b[1;32m      6\u001b[0m \u001b[0mprint\u001b[0m\u001b[0;34m(\u001b[0m\u001b[0mmodel\u001b[0m\u001b[0;34m.\u001b[0m\u001b[0mscore\u001b[0m\u001b[0;34m(\u001b[0m\u001b[0mX_test\u001b[0m\u001b[0;34m,\u001b[0m\u001b[0my_test\u001b[0m\u001b[0;34m)\u001b[0m\u001b[0;34m)\u001b[0m\u001b[0;34m\u001b[0m\u001b[0m\n",
      "\u001b[0;32m<ipython-input-42-5e0ec4260651>\u001b[0m in \u001b[0;36mpredict\u001b[0;34m(self, X)\u001b[0m\n\u001b[1;32m     33\u001b[0m         \u001b[0mn\u001b[0m \u001b[0;34m=\u001b[0m \u001b[0mX\u001b[0m\u001b[0;34m.\u001b[0m\u001b[0mshape\u001b[0m\u001b[0;34m[\u001b[0m\u001b[0;36m0\u001b[0m\u001b[0;34m]\u001b[0m\u001b[0;34m\u001b[0m\u001b[0m\n\u001b[1;32m     34\u001b[0m         \u001b[0;32mfor\u001b[0m \u001b[0mtmp\u001b[0m \u001b[0;32min\u001b[0m \u001b[0mself\u001b[0m\u001b[0;34m.\u001b[0m\u001b[0mmodels_dict\u001b[0m\u001b[0;34m:\u001b[0m\u001b[0;34m\u001b[0m\u001b[0m\n\u001b[0;32m---> 35\u001b[0;31m             \u001b[0my_pred_prob\u001b[0m \u001b[0;34m=\u001b[0m \u001b[0mself\u001b[0m\u001b[0;34m.\u001b[0m\u001b[0mmodels_dict\u001b[0m\u001b[0;34m[\u001b[0m\u001b[0mtmp\u001b[0m\u001b[0;34m]\u001b[0m\u001b[0;34m.\u001b[0m\u001b[0mpredict_prob\u001b[0m\u001b[0;34m(\u001b[0m\u001b[0mX\u001b[0m\u001b[0;34m)\u001b[0m\u001b[0;34m\u001b[0m\u001b[0m\n\u001b[0m\u001b[1;32m     36\u001b[0m             \u001b[0;32mif\u001b[0m \u001b[0mtmp\u001b[0m\u001b[0;34m[\u001b[0m\u001b[0;36m1\u001b[0m\u001b[0;34m]\u001b[0m \u001b[0;32mnot\u001b[0m \u001b[0;32min\u001b[0m \u001b[0mprob_dict\u001b[0m\u001b[0;34m:\u001b[0m\u001b[0;34m\u001b[0m\u001b[0m\n\u001b[1;32m     37\u001b[0m                 \u001b[0mprob_dict\u001b[0m\u001b[0;34m[\u001b[0m\u001b[0mtmp\u001b[0m\u001b[0;34m[\u001b[0m\u001b[0;36m1\u001b[0m\u001b[0;34m]\u001b[0m\u001b[0;34m]\u001b[0m \u001b[0;34m=\u001b[0m \u001b[0my_pred_prob\u001b[0m\u001b[0;34m\u001b[0m\u001b[0m\n",
      "\u001b[0;31mAttributeError\u001b[0m: 'SVMClassifier' object has no attribute 'predict_prob'"
     ]
    }
   ],
   "source": [
    "import kernel_project_utile\n",
    "import kernel_metrics as km\n",
    "model = KernelMultiClassifier(baseClassifier=kernel_project_utile.SVMClassifier,C=1.,kernel=km.linear_kernel)\n",
    "model.fit(X_train,y_train)\n",
    "print(model.predict(X_test))\n",
    "print(model.score(X_test,y_test))"
   ]
  },
  {
   "cell_type": "code",
   "execution_count": 44,
   "metadata": {
    "collapsed": true
   },
   "outputs": [],
   "source": [
    "# %load kernel_project_utile.py\n",
    "import numpy as np\n",
    "from scipy import linalg\n",
    "import cvxopt\n",
    "def qp(H, e, A, b, C=np.inf, l=1e-8, verbose=True):\n",
    "    # Gram matrix\n",
    "    n = H.shape[0]\n",
    "    H = cvxopt.matrix(H)\n",
    "    A = cvxopt.matrix(A, (1, n),'d')\n",
    "    e = cvxopt.matrix(-e)\n",
    "    b = cvxopt.matrix(0.0)\n",
    "    if C == np.inf:\n",
    "        G = cvxopt.matrix(np.diag(np.ones(n) * -1))\n",
    "        h = cvxopt.matrix(np.zeros(n))\n",
    "    else:\n",
    "        G = cvxopt.matrix(np.concatenate([np.diag(np.ones(n) * -1),\n",
    "                                         np.diag(np.ones(n))], axis=0))\n",
    "        h = cvxopt.matrix(np.concatenate([np.zeros(n), C * np.ones(n)]))\n",
    "\n",
    "    # Solve QP problem\n",
    "    cvxopt.solvers.options['show_progress'] = verbose\n",
    "    solution = cvxopt.solvers.qp(H, e, G, h, A, b)\n",
    " \n",
    "    # Lagrange multipliers\n",
    "    mu = np.ravel(solution['x'])\n",
    "    return mu\n",
    "\n",
    "def svm_solver(K, y, C=np.inf):\n",
    "    n = y.shape[0]\n",
    "    H = y[:,None]*K*y[None,:]  # GG.T = yi*yj*np.dot(xi,xj)\n",
    "    e = np.ones(n) \n",
    "    A = y\n",
    "    b = 0.\n",
    "    mu = qp(H, e, A, b, C, l=1e-8, verbose=False)\n",
    "    idx_support = np.where(np.abs(mu) > 1e-5)[0]\n",
    "    mu_support = mu[idx_support]\n",
    "    return mu_support, idx_support\n",
    "\n",
    "\n",
    "def compute_b(K, y, mu_support, idx_support):\n",
    "    y_support = y[idx_support]\n",
    "    K_support = K[idx_support][:, idx_support]\n",
    "    \n",
    "    g = np.dot(y_support*mu_support, (K[idx_support][:, idx_support])[:,0])\n",
    "    b = 1./y_support[0] - g\n",
    "    return b\n",
    "\n",
    "class SVMClassifier():\n",
    "    def __init__(self, C=None, kernel=None, param=None):\n",
    "        self.C = C\n",
    "        self.kernel = kernel\n",
    "        self.param = param\n",
    "\n",
    "    def fit(self, X, y):\n",
    "        self.X = X\n",
    "        self.y = y\n",
    "        K = self.kernel(self.X,self.X)\n",
    "        \n",
    "        self.mu_support, self.idx_support = svm_solver(K, self.y, self.C)\n",
    "        self.b = compute_b(K, self.y, self.mu_support, self.idx_support)\n",
    "        self.w = np.sum((self.mu_support * self.y[self.idx_support])[: , None] * self.X[self.idx_support], axis=0)\n",
    "        self.X_support = self.X[self.idx_support]\n",
    "        return self\n",
    "\n",
    "    def predict(self, X_test):\n",
    "        G = self.kernel(X_test, self.X_support)\n",
    "        # Calcul de la fonction de décision\n",
    "        decision = G.dot(self.mu_support * self.y[self.idx_support]) + self.b\n",
    "\n",
    "        # Calcul du label prédit\n",
    "        y_pred = np.sign(decision)\n",
    "        return y_pred\n",
    "\n",
    "    def predict_prob(self, X_test):\n",
    "        G = self.kernel(X_test, self.X_support)\n",
    "        # Calcul de la fonction de décision\n",
    "        decision = G.dot(self.mu_support * self.y[self.idx_support]) + self.b\n",
    "\n",
    "        # Calcul du label prédit\n",
    "        y_pred_prob = 1./(1.+np.exp(-decision))\n",
    "        return y_pred_prob\n",
    "\n",
    "\n",
    "    def score(self, X, y):\n",
    "        return np.mean(self.predict(X) == y)\n"
   ]
  }
 ],
 "metadata": {
  "kernelspec": {
   "display_name": "Python [conda root]",
   "language": "python",
   "name": "conda-root-py"
  },
  "language_info": {
   "codemirror_mode": {
    "name": "ipython",
    "version": 3
   },
   "file_extension": ".py",
   "mimetype": "text/x-python",
   "name": "python",
   "nbconvert_exporter": "python",
   "pygments_lexer": "ipython3",
   "version": "3.5.2"
  }
 },
 "nbformat": 4,
 "nbformat_minor": 1
}

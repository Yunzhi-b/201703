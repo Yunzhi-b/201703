{
 "cells": [
  {
   "cell_type": "code",
   "execution_count": 2,
   "metadata": {
    "collapsed": true
   },
   "outputs": [],
   "source": [
    "%matplotlib inline\n",
    "import numpy as np\n",
    "import matplotlib.pyplot as plt\n",
    "import pandas as pd"
   ]
  },
  {
   "cell_type": "code",
   "execution_count": 3,
   "metadata": {
    "collapsed": false
   },
   "outputs": [
    {
     "name": "stdout",
     "output_type": "stream",
     "text": [
      "(5000, 3072) (5000, 2) (2000, 3072)\n"
     ]
    }
   ],
   "source": [
    "path1 = \"Xtr.csv\"\n",
    "path2 = \"Ytr.csv\"\n",
    "path3 = \"Xte.csv\"\n",
    "#  training images\n",
    "Xtr = pd.read_csv(path1,header=None).dropna(axis='columns', how='all')\n",
    "Ytr = pd.read_csv(path2)\n",
    "#  test images\n",
    "Xte = pd.read_csv(path3,header=None).dropna(axis='columns', how='all')\n",
    "\n",
    "print (Xtr.shape,Ytr.shape,Xte.shape)"
   ]
  },
  {
   "cell_type": "code",
   "execution_count": 25,
   "metadata": {
    "collapsed": false
   },
   "outputs": [
    {
     "data": {
      "text/html": [
       "<div>\n",
       "<table border=\"1\" class=\"dataframe\">\n",
       "  <thead>\n",
       "    <tr style=\"text-align: right;\">\n",
       "      <th></th>\n",
       "      <th>0</th>\n",
       "      <th>1</th>\n",
       "      <th>2</th>\n",
       "      <th>3</th>\n",
       "      <th>4</th>\n",
       "      <th>5</th>\n",
       "      <th>6</th>\n",
       "      <th>7</th>\n",
       "      <th>8</th>\n",
       "      <th>9</th>\n",
       "      <th>...</th>\n",
       "      <th>3062</th>\n",
       "      <th>3063</th>\n",
       "      <th>3064</th>\n",
       "      <th>3065</th>\n",
       "      <th>3066</th>\n",
       "      <th>3067</th>\n",
       "      <th>3068</th>\n",
       "      <th>3069</th>\n",
       "      <th>3070</th>\n",
       "      <th>3071</th>\n",
       "    </tr>\n",
       "  </thead>\n",
       "  <tbody>\n",
       "    <tr>\n",
       "      <th>0</th>\n",
       "      <td>0.007018</td>\n",
       "      <td>0.000323</td>\n",
       "      <td>0.002215</td>\n",
       "      <td>0.000781</td>\n",
       "      <td>-0.005636</td>\n",
       "      <td>-0.001525</td>\n",
       "      <td>-0.001090</td>\n",
       "      <td>-0.001907</td>\n",
       "      <td>0.004179</td>\n",
       "      <td>-0.004225</td>\n",
       "      <td>...</td>\n",
       "      <td>0.004146</td>\n",
       "      <td>-0.002166</td>\n",
       "      <td>-0.005094</td>\n",
       "      <td>0.001906</td>\n",
       "      <td>-0.006143</td>\n",
       "      <td>-0.013265</td>\n",
       "      <td>-0.013873</td>\n",
       "      <td>0.005223</td>\n",
       "      <td>-0.000860</td>\n",
       "      <td>-0.012881</td>\n",
       "    </tr>\n",
       "    <tr>\n",
       "      <th>1</th>\n",
       "      <td>0.000819</td>\n",
       "      <td>0.001688</td>\n",
       "      <td>0.002698</td>\n",
       "      <td>0.004685</td>\n",
       "      <td>0.011166</td>\n",
       "      <td>0.017482</td>\n",
       "      <td>0.045989</td>\n",
       "      <td>0.031377</td>\n",
       "      <td>0.032150</td>\n",
       "      <td>0.062066</td>\n",
       "      <td>...</td>\n",
       "      <td>-0.000530</td>\n",
       "      <td>0.007203</td>\n",
       "      <td>0.008634</td>\n",
       "      <td>0.006800</td>\n",
       "      <td>0.014114</td>\n",
       "      <td>0.000243</td>\n",
       "      <td>-0.019384</td>\n",
       "      <td>-0.046763</td>\n",
       "      <td>-0.048919</td>\n",
       "      <td>-0.057449</td>\n",
       "    </tr>\n",
       "    <tr>\n",
       "      <th>2</th>\n",
       "      <td>-0.016779</td>\n",
       "      <td>0.006662</td>\n",
       "      <td>-0.007226</td>\n",
       "      <td>-0.003798</td>\n",
       "      <td>-0.004273</td>\n",
       "      <td>-0.009955</td>\n",
       "      <td>-0.030925</td>\n",
       "      <td>-0.007064</td>\n",
       "      <td>0.008136</td>\n",
       "      <td>0.000618</td>\n",
       "      <td>...</td>\n",
       "      <td>-0.029953</td>\n",
       "      <td>-0.023748</td>\n",
       "      <td>0.047707</td>\n",
       "      <td>0.072310</td>\n",
       "      <td>0.056837</td>\n",
       "      <td>0.045410</td>\n",
       "      <td>0.015561</td>\n",
       "      <td>0.003272</td>\n",
       "      <td>-0.013745</td>\n",
       "      <td>0.000968</td>\n",
       "    </tr>\n",
       "    <tr>\n",
       "      <th>3</th>\n",
       "      <td>0.014936</td>\n",
       "      <td>0.004218</td>\n",
       "      <td>0.009732</td>\n",
       "      <td>0.007309</td>\n",
       "      <td>0.004914</td>\n",
       "      <td>0.008172</td>\n",
       "      <td>0.014205</td>\n",
       "      <td>-0.023263</td>\n",
       "      <td>-0.023014</td>\n",
       "      <td>0.011482</td>\n",
       "      <td>...</td>\n",
       "      <td>-0.004505</td>\n",
       "      <td>-0.029634</td>\n",
       "      <td>-0.024069</td>\n",
       "      <td>-0.000788</td>\n",
       "      <td>-0.005010</td>\n",
       "      <td>-0.004260</td>\n",
       "      <td>0.014308</td>\n",
       "      <td>-0.010997</td>\n",
       "      <td>-0.025966</td>\n",
       "      <td>-0.025786</td>\n",
       "    </tr>\n",
       "    <tr>\n",
       "      <th>4</th>\n",
       "      <td>-0.073091</td>\n",
       "      <td>-0.046800</td>\n",
       "      <td>-0.056235</td>\n",
       "      <td>-0.063619</td>\n",
       "      <td>-0.088387</td>\n",
       "      <td>-0.044682</td>\n",
       "      <td>-0.014172</td>\n",
       "      <td>-0.077535</td>\n",
       "      <td>-0.100056</td>\n",
       "      <td>-0.066161</td>\n",
       "      <td>...</td>\n",
       "      <td>0.011063</td>\n",
       "      <td>-0.018166</td>\n",
       "      <td>0.012983</td>\n",
       "      <td>0.022676</td>\n",
       "      <td>0.014233</td>\n",
       "      <td>0.047403</td>\n",
       "      <td>0.052239</td>\n",
       "      <td>-0.029272</td>\n",
       "      <td>0.001368</td>\n",
       "      <td>-0.001475</td>\n",
       "    </tr>\n",
       "  </tbody>\n",
       "</table>\n",
       "<p>5 rows × 3072 columns</p>\n",
       "</div>"
      ],
      "text/plain": [
       "       0         1         2         3         4         5         6     \\\n",
       "0  0.007018  0.000323  0.002215  0.000781 -0.005636 -0.001525 -0.001090   \n",
       "1  0.000819  0.001688  0.002698  0.004685  0.011166  0.017482  0.045989   \n",
       "2 -0.016779  0.006662 -0.007226 -0.003798 -0.004273 -0.009955 -0.030925   \n",
       "3  0.014936  0.004218  0.009732  0.007309  0.004914  0.008172  0.014205   \n",
       "4 -0.073091 -0.046800 -0.056235 -0.063619 -0.088387 -0.044682 -0.014172   \n",
       "\n",
       "       7         8         9       ...         3062      3063      3064  \\\n",
       "0 -0.001907  0.004179 -0.004225    ...     0.004146 -0.002166 -0.005094   \n",
       "1  0.031377  0.032150  0.062066    ...    -0.000530  0.007203  0.008634   \n",
       "2 -0.007064  0.008136  0.000618    ...    -0.029953 -0.023748  0.047707   \n",
       "3 -0.023263 -0.023014  0.011482    ...    -0.004505 -0.029634 -0.024069   \n",
       "4 -0.077535 -0.100056 -0.066161    ...     0.011063 -0.018166  0.012983   \n",
       "\n",
       "       3065      3066      3067      3068      3069      3070      3071  \n",
       "0  0.001906 -0.006143 -0.013265 -0.013873  0.005223 -0.000860 -0.012881  \n",
       "1  0.006800  0.014114  0.000243 -0.019384 -0.046763 -0.048919 -0.057449  \n",
       "2  0.072310  0.056837  0.045410  0.015561  0.003272 -0.013745  0.000968  \n",
       "3 -0.000788 -0.005010 -0.004260  0.014308 -0.010997 -0.025966 -0.025786  \n",
       "4  0.022676  0.014233  0.047403  0.052239 -0.029272  0.001368 -0.001475  \n",
       "\n",
       "[5 rows x 3072 columns]"
      ]
     },
     "execution_count": 25,
     "metadata": {},
     "output_type": "execute_result"
    }
   ],
   "source": [
    "Xtr.head()"
   ]
  },
  {
   "cell_type": "code",
   "execution_count": 26,
   "metadata": {
    "collapsed": false
   },
   "outputs": [
    {
     "data": {
      "text/html": [
       "<div>\n",
       "<table border=\"1\" class=\"dataframe\">\n",
       "  <thead>\n",
       "    <tr style=\"text-align: right;\">\n",
       "      <th></th>\n",
       "      <th>Id</th>\n",
       "      <th>Prediction</th>\n",
       "    </tr>\n",
       "  </thead>\n",
       "  <tbody>\n",
       "    <tr>\n",
       "      <th>0</th>\n",
       "      <td>1</td>\n",
       "      <td>8</td>\n",
       "    </tr>\n",
       "    <tr>\n",
       "      <th>1</th>\n",
       "      <td>2</td>\n",
       "      <td>9</td>\n",
       "    </tr>\n",
       "    <tr>\n",
       "      <th>2</th>\n",
       "      <td>3</td>\n",
       "      <td>3</td>\n",
       "    </tr>\n",
       "    <tr>\n",
       "      <th>3</th>\n",
       "      <td>4</td>\n",
       "      <td>1</td>\n",
       "    </tr>\n",
       "    <tr>\n",
       "      <th>4</th>\n",
       "      <td>5</td>\n",
       "      <td>4</td>\n",
       "    </tr>\n",
       "  </tbody>\n",
       "</table>\n",
       "</div>"
      ],
      "text/plain": [
       "   Id  Prediction\n",
       "0   1           8\n",
       "1   2           9\n",
       "2   3           3\n",
       "3   4           1\n",
       "4   5           4"
      ]
     },
     "execution_count": 26,
     "metadata": {},
     "output_type": "execute_result"
    }
   ],
   "source": [
    "Ytr.head()"
   ]
  },
  {
   "cell_type": "code",
   "execution_count": 27,
   "metadata": {
    "collapsed": false
   },
   "outputs": [
    {
     "data": {
      "text/plain": [
       "numpy.int64"
      ]
     },
     "execution_count": 27,
     "metadata": {},
     "output_type": "execute_result"
    }
   ],
   "source": [
    "type(Ytr.Prediction.values[0])"
   ]
  },
  {
   "cell_type": "code",
   "execution_count": 4,
   "metadata": {
    "collapsed": true
   },
   "outputs": [],
   "source": [
    "y = Ytr.Prediction.values\n",
    "X = Xtr.values"
   ]
  },
  {
   "cell_type": "code",
   "execution_count": 29,
   "metadata": {
    "collapsed": false
   },
   "outputs": [
    {
     "name": "stdout",
     "output_type": "stream",
     "text": [
      "[8 9 3 ..., 1 7 5]\n",
      "[[  7.01830600e-03   3.23271000e-04   2.21460900e-03 ...,   5.22321100e-03\n",
      "   -8.60397000e-04  -1.28809100e-02]\n",
      " [  8.18818000e-04   1.68826600e-03   2.69750200e-03 ...,  -4.67626500e-02\n",
      "   -4.89189000e-02  -5.74489200e-02]\n",
      " [ -1.67785700e-02   6.66184700e-03  -7.22571200e-03 ...,   3.27242800e-03\n",
      "   -1.37449300e-02   9.68480300e-04]\n",
      " ..., \n",
      " [  4.96795100e-02   5.04228400e-02   1.20012000e-02 ...,  -1.33938600e-02\n",
      "   -1.55300600e-02  -1.54807700e-03]\n",
      " [  4.41655500e-05   5.98973100e-04   1.81899700e-04 ...,   1.61626500e-02\n",
      "    2.53539900e-02   3.46440700e-02]\n",
      " [  2.33407600e-02  -4.58995900e-03  -1.10315000e-02 ...,  -2.51070900e-02\n",
      "   -2.56246400e-02   1.40205900e-02]]\n",
      "<type 'numpy.ndarray'>\n"
     ]
    }
   ],
   "source": [
    "print(y)\n",
    "print(X)\n",
    "print(type(X))"
   ]
  },
  {
   "cell_type": "code",
   "execution_count": 30,
   "metadata": {
    "collapsed": false
   },
   "outputs": [
    {
     "data": {
      "text/html": [
       "<div>\n",
       "<table border=\"1\" class=\"dataframe\">\n",
       "  <thead>\n",
       "    <tr style=\"text-align: right;\">\n",
       "      <th></th>\n",
       "      <th>0</th>\n",
       "      <th>1</th>\n",
       "      <th>2</th>\n",
       "      <th>3</th>\n",
       "      <th>4</th>\n",
       "      <th>5</th>\n",
       "      <th>6</th>\n",
       "      <th>7</th>\n",
       "      <th>8</th>\n",
       "      <th>9</th>\n",
       "      <th>...</th>\n",
       "      <th>3062</th>\n",
       "      <th>3063</th>\n",
       "      <th>3064</th>\n",
       "      <th>3065</th>\n",
       "      <th>3066</th>\n",
       "      <th>3067</th>\n",
       "      <th>3068</th>\n",
       "      <th>3069</th>\n",
       "      <th>3070</th>\n",
       "      <th>3071</th>\n",
       "    </tr>\n",
       "  </thead>\n",
       "  <tbody>\n",
       "    <tr>\n",
       "      <th>0</th>\n",
       "      <td>0.021317</td>\n",
       "      <td>-0.029188</td>\n",
       "      <td>-0.021746</td>\n",
       "      <td>-0.029482</td>\n",
       "      <td>0.011179</td>\n",
       "      <td>0.032251</td>\n",
       "      <td>0.013757</td>\n",
       "      <td>0.015677</td>\n",
       "      <td>-0.049118</td>\n",
       "      <td>-0.051430</td>\n",
       "      <td>...</td>\n",
       "      <td>0.016902</td>\n",
       "      <td>0.013725</td>\n",
       "      <td>0.123213</td>\n",
       "      <td>-0.006638</td>\n",
       "      <td>-0.043762</td>\n",
       "      <td>-0.011082</td>\n",
       "      <td>-0.003506</td>\n",
       "      <td>-0.007296</td>\n",
       "      <td>-0.020889</td>\n",
       "      <td>-0.024223</td>\n",
       "    </tr>\n",
       "    <tr>\n",
       "      <th>1</th>\n",
       "      <td>0.038809</td>\n",
       "      <td>0.017464</td>\n",
       "      <td>0.033951</td>\n",
       "      <td>0.062252</td>\n",
       "      <td>0.051475</td>\n",
       "      <td>0.071586</td>\n",
       "      <td>0.076982</td>\n",
       "      <td>0.078035</td>\n",
       "      <td>0.058132</td>\n",
       "      <td>0.008797</td>\n",
       "      <td>...</td>\n",
       "      <td>0.001799</td>\n",
       "      <td>-0.010371</td>\n",
       "      <td>-0.016821</td>\n",
       "      <td>0.008783</td>\n",
       "      <td>-0.007583</td>\n",
       "      <td>-0.024359</td>\n",
       "      <td>-0.002662</td>\n",
       "      <td>-0.003553</td>\n",
       "      <td>-0.000605</td>\n",
       "      <td>0.000030</td>\n",
       "    </tr>\n",
       "    <tr>\n",
       "      <th>2</th>\n",
       "      <td>-0.013505</td>\n",
       "      <td>-0.040433</td>\n",
       "      <td>-0.023872</td>\n",
       "      <td>-0.017034</td>\n",
       "      <td>0.005898</td>\n",
       "      <td>0.015000</td>\n",
       "      <td>-0.005875</td>\n",
       "      <td>-0.028056</td>\n",
       "      <td>-0.005516</td>\n",
       "      <td>-0.025364</td>\n",
       "      <td>...</td>\n",
       "      <td>0.000643</td>\n",
       "      <td>0.000917</td>\n",
       "      <td>0.008904</td>\n",
       "      <td>0.010832</td>\n",
       "      <td>-0.000609</td>\n",
       "      <td>0.001183</td>\n",
       "      <td>0.000750</td>\n",
       "      <td>-0.006280</td>\n",
       "      <td>0.018178</td>\n",
       "      <td>0.009699</td>\n",
       "    </tr>\n",
       "    <tr>\n",
       "      <th>3</th>\n",
       "      <td>0.079833</td>\n",
       "      <td>0.087111</td>\n",
       "      <td>0.095980</td>\n",
       "      <td>0.085299</td>\n",
       "      <td>0.090196</td>\n",
       "      <td>0.092923</td>\n",
       "      <td>0.085450</td>\n",
       "      <td>0.093836</td>\n",
       "      <td>0.089580</td>\n",
       "      <td>0.089868</td>\n",
       "      <td>...</td>\n",
       "      <td>-0.004682</td>\n",
       "      <td>0.003782</td>\n",
       "      <td>0.015810</td>\n",
       "      <td>0.006891</td>\n",
       "      <td>-0.001391</td>\n",
       "      <td>0.005947</td>\n",
       "      <td>0.015124</td>\n",
       "      <td>0.012474</td>\n",
       "      <td>-0.013197</td>\n",
       "      <td>-0.037887</td>\n",
       "    </tr>\n",
       "    <tr>\n",
       "      <th>4</th>\n",
       "      <td>0.003421</td>\n",
       "      <td>-0.012074</td>\n",
       "      <td>0.003435</td>\n",
       "      <td>0.002495</td>\n",
       "      <td>0.017810</td>\n",
       "      <td>0.009306</td>\n",
       "      <td>-0.011229</td>\n",
       "      <td>-0.040445</td>\n",
       "      <td>-0.028034</td>\n",
       "      <td>0.059742</td>\n",
       "      <td>...</td>\n",
       "      <td>-0.015567</td>\n",
       "      <td>0.004841</td>\n",
       "      <td>0.013999</td>\n",
       "      <td>0.020970</td>\n",
       "      <td>0.043955</td>\n",
       "      <td>0.026964</td>\n",
       "      <td>0.030705</td>\n",
       "      <td>-0.002225</td>\n",
       "      <td>0.009616</td>\n",
       "      <td>0.006040</td>\n",
       "    </tr>\n",
       "  </tbody>\n",
       "</table>\n",
       "<p>5 rows × 3072 columns</p>\n",
       "</div>"
      ],
      "text/plain": [
       "       0         1         2         3         4         5         6     \\\n",
       "0  0.021317 -0.029188 -0.021746 -0.029482  0.011179  0.032251  0.013757   \n",
       "1  0.038809  0.017464  0.033951  0.062252  0.051475  0.071586  0.076982   \n",
       "2 -0.013505 -0.040433 -0.023872 -0.017034  0.005898  0.015000 -0.005875   \n",
       "3  0.079833  0.087111  0.095980  0.085299  0.090196  0.092923  0.085450   \n",
       "4  0.003421 -0.012074  0.003435  0.002495  0.017810  0.009306 -0.011229   \n",
       "\n",
       "       7         8         9       ...         3062      3063      3064  \\\n",
       "0  0.015677 -0.049118 -0.051430    ...     0.016902  0.013725  0.123213   \n",
       "1  0.078035  0.058132  0.008797    ...     0.001799 -0.010371 -0.016821   \n",
       "2 -0.028056 -0.005516 -0.025364    ...     0.000643  0.000917  0.008904   \n",
       "3  0.093836  0.089580  0.089868    ...    -0.004682  0.003782  0.015810   \n",
       "4 -0.040445 -0.028034  0.059742    ...    -0.015567  0.004841  0.013999   \n",
       "\n",
       "       3065      3066      3067      3068      3069      3070      3071  \n",
       "0 -0.006638 -0.043762 -0.011082 -0.003506 -0.007296 -0.020889 -0.024223  \n",
       "1  0.008783 -0.007583 -0.024359 -0.002662 -0.003553 -0.000605  0.000030  \n",
       "2  0.010832 -0.000609  0.001183  0.000750 -0.006280  0.018178  0.009699  \n",
       "3  0.006891 -0.001391  0.005947  0.015124  0.012474 -0.013197 -0.037887  \n",
       "4  0.020970  0.043955  0.026964  0.030705 -0.002225  0.009616  0.006040  \n",
       "\n",
       "[5 rows x 3072 columns]"
      ]
     },
     "execution_count": 30,
     "metadata": {},
     "output_type": "execute_result"
    }
   ],
   "source": [
    "Xte.head()"
   ]
  },
  {
   "cell_type": "code",
   "execution_count": 31,
   "metadata": {
    "collapsed": false
   },
   "outputs": [
    {
     "name": "stdout",
     "output_type": "stream",
     "text": [
      "(False, False, False)\n"
     ]
    }
   ],
   "source": [
    "print (pd.isnull(Xtr).values.any(), pd.isnull(Ytr).values.any(), pd.isnull(Xte).values.any())"
   ]
  },
  {
   "cell_type": "code",
   "execution_count": 32,
   "metadata": {
    "collapsed": false
   },
   "outputs": [
    {
     "data": {
      "text/plain": [
       "<matplotlib.image.AxesImage at 0x15272c50>"
      ]
     },
     "execution_count": 32,
     "metadata": {},
     "output_type": "execute_result"
    },
    {
     "data": {
      "image/png": "[encoded data removed]",
      "text/plain": [
       "<matplotlib.figure.Figure at 0x1527a9b0>"
      ]
     },
     "metadata": {},
     "output_type": "display_data"
    }
   ],
   "source": [
    "\"\"\"\n",
    "Xtr: (5000, 3072)\n",
    "One row represents a color image of size 32 x 32 pixels. \n",
    "The first 1024 values represent pixel intensities on the red channel, \n",
    "then the next 1024 represent the green channel, \n",
    "and the last 1024 entries, the blue channel. \n",
    "\n",
    "\"\"\"\n",
    "tmp = Xtr.ix[0]\n",
    "\n",
    "R_channel = tmp[:1024]\n",
    "G_channel = tmp[1024:2048]\n",
    "B_channel = tmp[2048:]\n",
    "#print len(R_channel),len(G_channel),len(B_channel)\n",
    "R = np.reshape(R_channel,(32,32,1))\n",
    "G = np.reshape(G_channel,(32,32,1))\n",
    "B = np.reshape(B_channel,(32,32,1))\n",
    "\n",
    "%matplotlib inline \n",
    "data = np.concatenate((R,G,B),axis=2)\n",
    "plt.imshow(data)"
   ]
  },
  {
   "cell_type": "markdown",
   "metadata": {},
   "source": [
    "## Initial maps"
   ]
  },
  {
   "cell_type": "code",
   "execution_count": 148,
   "metadata": {
    "collapsed": false
   },
   "outputs": [],
   "source": [
    "\"\"\"\n",
    "two initial maps: \n",
    "- batch map, shape = (32,32,3)\n",
    "- gradient map, (colored) shape = (2,32,32,3), \"2\" because each element is (gradX,gradY)=RxR, gradients on two directions X,Y \n",
    "                (gray) shape = (2,32,32) \n",
    "\"\"\"\n",
    "# batch map\n",
    "# data.shape\n",
    "\n",
    "def batchmap(image):\n",
    "    r,c = image.shape\n",
    "    batch = []\n",
    "    for idx in range(c):\n",
    "        tmp = image.ix[idx]\n",
    "        R_channel,G_channel,B_channel = tmp[:1024],tmp[1024:2048],tmp[2048:]\n",
    "        R,G,B = np.reshape(R_channel,(32,32,1)),np.reshape(G_channel,(32,32,1)),np.reshape(B_channel,(32,32,1))\n",
    "        batch.append(np.concatenate((R,G,B),axis=2))\n",
    "    return batch\n",
    "# gradient map\n",
    "\n",
    "def gradientmap_grey(image):\n",
    "    r,c = image.shape\n",
    "    gradient =[]\n",
    "    for idx in range(c):\n",
    "        tmp = image.ix[idx]\n",
    "        R_channel,G_channel,B_channel = tmp[:1024],tmp[1024:2048],tmp[2048:]\n",
    "        grey = np.mean( np.array([ R_channel, G_channel,B_channel ]), axis=0 )\n",
    "        grey = np.reshape(grey,(32,32))\n",
    "        grad_x, grad_y = np.gradient(grey)\n",
    "        grad_x = grad_x.reshape((32,32,1))\n",
    "        grad_y = grad_y.reshape((32,32,1))\n",
    "        gradient.append(np.concatenate((grad_x,grad_y),axis=2))\n",
    "    return gradient\n",
    "\n",
    "def gradientmap_color(image):\n",
    "    r,c = image.shape\n",
    "    gradient =[]\n",
    "    for idx in range(c):\n",
    "        tmp = image.ix[idx]\n",
    "        R_channel,G_channel,B_channel = tmp[:1024],tmp[1024:2048],tmp[2048:]\n",
    "        R,G,B = np.reshape(R_channel,(32,32)),np.reshape(G_channel,(32,32)),np.reshape(B_channel,(32,32))\n",
    "        grad_Rx, grad_Ry = np.gradient(R)\n",
    "        grad_Gx, grad_Gy = np.gradient(G)\n",
    "        grad_Bx, grad_By = np.gradient(B)\n",
    "#        gradient.append(np.concatenate((np.array([grad_Rx, grad_Ry])[...,np.newaxis],\n",
    "#                                        np.array([grad_Gx, grad_Gy])[...,np.newaxis],\n",
    "#                                        np.array([grad_Bx, grad_By])[...,np.newaxis]),axis=3))\n",
    "        gradient.append(np.concatenate((grad_Rx.reshape(32,32,1),grad_Ry.reshape(32,32,1),grad_Gx.reshape(32,32,1)\n",
    "                                        ,grad_Gy.reshape(32,32,1),grad_Bx.reshape(32,32,1),grad_By.reshape(32,32,1)),axis=2))\n",
    "    return gradient"
   ]
  },
  {
   "cell_type": "code",
   "execution_count": null,
   "metadata": {
    "collapsed": true
   },
   "outputs": [],
   "source": [
    "\"\"\"\n",
    "two initial maps: \n",
    "- batch map, shape = (32,32,3)\n",
    "- gradient map, (colored) shape = (2,32,32,3), \"2\" because each element is (gradX,gradY)=RxR, gradients on two directions X,Y \n",
    "                (gray) shape = (2,32,32) \n",
    "\"\"\"\n",
    "# batch map\n",
    "# data.shape\n",
    "\n",
    "def batchmap(image):\n",
    "    r,c = image.shape\n",
    "    batch = []\n",
    "    for idx in range(c):\n",
    "        tmp = image.ix[idx]\n",
    "        R_channel,G_channel,B_channel = tmp[:1024],tmp[1024:2048],tmp[2048:]\n",
    "        R,G,B = np.reshape(R_channel,(32,32,1)),np.reshape(G_channel,(32,32,1)),np.reshape(B_channel,(32,32,1))\n",
    "        batch.append(np.concatenate((R,G,B),axis=2))\n",
    "    return batch\n",
    "# gradient map\n",
    "\n",
    "def gradientmap_grey(image):\n",
    "    r,c = image.shape\n",
    "    gradient =[]\n",
    "    for idx in range(c):\n",
    "        tmp = image.ix[idx]\n",
    "        R_channel,G_channel,B_channel = tmp[:1024],tmp[1024:2048],tmp[2048:]\n",
    "        grey = np.mean( np.array([ R_channel, G_channel,B_channel ]), axis=0 )\n",
    "        grey = np.reshape(grey,(32,32))\n",
    "        grad_x, grad_y = np.gradient(grey)\n",
    "        gradient.append([grad_x,grad_y])\n",
    "    return gradient\n",
    "\n",
    "def gradientmap_color(image):\n",
    "    r,c = image.shape\n",
    "    gradient =[]\n",
    "    for idx in range(c):\n",
    "        tmp = image.ix[idx]\n",
    "        R_channel,G_channel,B_channel = tmp[:1024],tmp[1024:2048],tmp[2048:]\n",
    "        R,G,B = np.reshape(R_channel,(32,32)),np.reshape(G_channel,(32,32)),np.reshape(B_channel,(32,32))\n",
    "        grad_Rx, grad_Ry = np.gradient(R)\n",
    "        grad_Gx, grad_Gy = np.gradient(G)\n",
    "        grad_Bx, grad_By = np.gradient(B)\n",
    "        gradient.append(np.concatenate((np.array([grad_Rx, grad_Ry])[...,np.newaxis],\n",
    "                                        np.array([grad_Gx, grad_Gy])[...,np.newaxis],\n",
    "                                        np.array([grad_Bx, grad_By])[...,np.newaxis]),axis=3))\n",
    "    return gradient"
   ]
  },
  {
   "cell_type": "code",
   "execution_count": 139,
   "metadata": {
    "collapsed": false
   },
   "outputs": [
    {
     "name": "stdout",
     "output_type": "stream",
     "text": [
      "[[[1]\n",
      "  [2]\n",
      "  [3]]\n",
      "\n",
      " [[4]\n",
      "  [5]\n",
      "  [6]]]\n",
      "[[[ 7]\n",
      "  [ 8]\n",
      "  [ 9]]\n",
      "\n",
      " [[10]\n",
      "  [11]\n",
      "  [12]]]\n"
     ]
    }
   ],
   "source": [
    "a = np.array([[1,2,3],[4,5,6]]).reshape((2,3,1))\n",
    "b = np.array([[7,8,9],[10,11,12]]).reshape((2,3,1))\n",
    "print(a)\n",
    "print(b)"
   ]
  },
  {
   "cell_type": "code",
   "execution_count": 140,
   "metadata": {
    "collapsed": false
   },
   "outputs": [
    {
     "data": {
      "text/plain": [
       "array([[[ 1,  7],\n",
       "        [ 2,  8],\n",
       "        [ 3,  9]],\n",
       "\n",
       "       [[ 4, 10],\n",
       "        [ 5, 11],\n",
       "        [ 6, 12]]])"
      ]
     },
     "execution_count": 140,
     "metadata": {},
     "output_type": "execute_result"
    }
   ],
   "source": [
    "np.concatenate((a,b),axis=2)"
   ]
  },
  {
   "cell_type": "code",
   "execution_count": 9,
   "metadata": {
    "collapsed": false
   },
   "outputs": [
    {
     "name": "stdout",
     "output_type": "stream",
     "text": [
      "size of batchmap: (3072, 32, 32, 3)\n"
     ]
    }
   ],
   "source": [
    "batch = batchmap(Xtr)\n",
    "print (\"size of batchmap:\",np.shape(batch))"
   ]
  },
  {
   "cell_type": "code",
   "execution_count": 10,
   "metadata": {
    "collapsed": false
   },
   "outputs": [
    {
     "data": {
      "text/plain": [
       "<matplotlib.image.AxesImage at 0x7f3d71c54668>"
      ]
     },
     "execution_count": 10,
     "metadata": {},
     "output_type": "execute_result"
    },
    {
     "data": {
      "image/png": "[encoded data removed]",
      "text/plain": [
       "<matplotlib.figure.Figure at 0x7f3d71d9a2b0>"
      ]
     },
     "metadata": {},
     "output_type": "display_data"
    }
   ],
   "source": [
    "plt.imshow(batch[0])"
   ]
  },
  {
   "cell_type": "code",
   "execution_count": 11,
   "metadata": {
    "collapsed": false
   },
   "outputs": [
    {
     "ename": "NameError",
     "evalue": "name 'R_channel' is not defined",
     "output_type": "error",
     "traceback": [
      "\u001b[0;31m---------------------------------------------------------------------------\u001b[0m",
      "\u001b[0;31mNameError\u001b[0m                                 Traceback (most recent call last)",
      "\u001b[0;32m<ipython-input-11-276903d09186>\u001b[0m in \u001b[0;36m<module>\u001b[0;34m()\u001b[0m\n\u001b[0;32m----> 1\u001b[0;31m \u001b[0mR2\u001b[0m \u001b[0;34m=\u001b[0m \u001b[0mnp\u001b[0m\u001b[0;34m.\u001b[0m\u001b[0mreshape\u001b[0m\u001b[0;34m(\u001b[0m\u001b[0mR_channel\u001b[0m\u001b[0;34m,\u001b[0m\u001b[0;34m(\u001b[0m\u001b[0;36m32\u001b[0m\u001b[0;34m,\u001b[0m\u001b[0;36m32\u001b[0m\u001b[0;34m)\u001b[0m\u001b[0;34m)\u001b[0m\u001b[0;34m\u001b[0m\u001b[0m\n\u001b[0m",
      "\u001b[0;31mNameError\u001b[0m: name 'R_channel' is not defined"
     ]
    }
   ],
   "source": [
    "R2 = np.reshape(R_channel,(32,32))"
   ]
  },
  {
   "cell_type": "code",
   "execution_count": 37,
   "metadata": {
    "collapsed": false
   },
   "outputs": [],
   "source": [
    "x = np.reshape(np.gradient(R,axis=0),(32,32)) ==np.gradient(R2,axis=0)"
   ]
  },
  {
   "cell_type": "code",
   "execution_count": 143,
   "metadata": {
    "collapsed": false
   },
   "outputs": [
    {
     "name": "stdout",
     "output_type": "stream",
     "text": [
      "size of gradientmap: (3072, 32, 32, 2)\n"
     ]
    }
   ],
   "source": [
    "grad = gradientmap_grey(Xtr)\n",
    "print(\"size of gradientmap:\",np.shape(grad))"
   ]
  },
  {
   "cell_type": "code",
   "execution_count": 144,
   "metadata": {
    "collapsed": false
   },
   "outputs": [
    {
     "data": {
      "text/plain": [
       "(32, 32, 2)"
      ]
     },
     "execution_count": 144,
     "metadata": {},
     "output_type": "execute_result"
    }
   ],
   "source": [
    "np.shape(grad[0])"
   ]
  },
  {
   "cell_type": "code",
   "execution_count": 145,
   "metadata": {
    "collapsed": false
   },
   "outputs": [
    {
     "ename": "TypeError",
     "evalue": "Invalid dimensions for image data",
     "output_type": "error",
     "traceback": [
      "\u001b[0;31m---------------------------------------------------------------------------\u001b[0m",
      "\u001b[0;31mTypeError\u001b[0m                                 Traceback (most recent call last)",
      "\u001b[0;32m<ipython-input-145-71693cad82c2>\u001b[0m in \u001b[0;36m<module>\u001b[0;34m()\u001b[0m\n\u001b[1;32m      1\u001b[0m \u001b[0;31m# catch gradient on axis X\u001b[0m\u001b[0;34m\u001b[0m\u001b[0;34m\u001b[0m\u001b[0m\n\u001b[0;32m----> 2\u001b[0;31m \u001b[0mplt\u001b[0m\u001b[0;34m.\u001b[0m\u001b[0mimshow\u001b[0m\u001b[0;34m(\u001b[0m\u001b[0mgrad\u001b[0m\u001b[0;34m[\u001b[0m\u001b[0;36m0\u001b[0m\u001b[0;34m]\u001b[0m\u001b[0;34m,\u001b[0m\u001b[0mcmap\u001b[0m\u001b[0;34m=\u001b[0m\u001b[0;34m'gray'\u001b[0m\u001b[0;34m)\u001b[0m\u001b[0;34m\u001b[0m\u001b[0m\n\u001b[0m",
      "\u001b[0;32m/home/yunji/anaconda3/lib/python3.5/site-packages/matplotlib/pyplot.py\u001b[0m in \u001b[0;36mimshow\u001b[0;34m(X, cmap, norm, aspect, interpolation, alpha, vmin, vmax, origin, extent, shape, filternorm, filterrad, imlim, resample, url, hold, data, **kwargs)\u001b[0m\n\u001b[1;32m   3027\u001b[0m                         \u001b[0mfilternorm\u001b[0m\u001b[0;34m=\u001b[0m\u001b[0mfilternorm\u001b[0m\u001b[0;34m,\u001b[0m \u001b[0mfilterrad\u001b[0m\u001b[0;34m=\u001b[0m\u001b[0mfilterrad\u001b[0m\u001b[0;34m,\u001b[0m\u001b[0;34m\u001b[0m\u001b[0m\n\u001b[1;32m   3028\u001b[0m                         \u001b[0mimlim\u001b[0m\u001b[0;34m=\u001b[0m\u001b[0mimlim\u001b[0m\u001b[0;34m,\u001b[0m \u001b[0mresample\u001b[0m\u001b[0;34m=\u001b[0m\u001b[0mresample\u001b[0m\u001b[0;34m,\u001b[0m \u001b[0murl\u001b[0m\u001b[0;34m=\u001b[0m\u001b[0murl\u001b[0m\u001b[0;34m,\u001b[0m \u001b[0mdata\u001b[0m\u001b[0;34m=\u001b[0m\u001b[0mdata\u001b[0m\u001b[0;34m,\u001b[0m\u001b[0;34m\u001b[0m\u001b[0m\n\u001b[0;32m-> 3029\u001b[0;31m                         **kwargs)\n\u001b[0m\u001b[1;32m   3030\u001b[0m     \u001b[0;32mfinally\u001b[0m\u001b[0;34m:\u001b[0m\u001b[0;34m\u001b[0m\u001b[0m\n\u001b[1;32m   3031\u001b[0m         \u001b[0max\u001b[0m\u001b[0;34m.\u001b[0m\u001b[0mhold\u001b[0m\u001b[0;34m(\u001b[0m\u001b[0mwashold\u001b[0m\u001b[0;34m)\u001b[0m\u001b[0;34m\u001b[0m\u001b[0m\n",
      "\u001b[0;32m/home/yunji/anaconda3/lib/python3.5/site-packages/matplotlib/__init__.py\u001b[0m in \u001b[0;36minner\u001b[0;34m(ax, *args, **kwargs)\u001b[0m\n\u001b[1;32m   1817\u001b[0m                     warnings.warn(msg % (label_namer, func.__name__),\n\u001b[1;32m   1818\u001b[0m                                   RuntimeWarning, stacklevel=2)\n\u001b[0;32m-> 1819\u001b[0;31m             \u001b[0;32mreturn\u001b[0m \u001b[0mfunc\u001b[0m\u001b[0;34m(\u001b[0m\u001b[0max\u001b[0m\u001b[0;34m,\u001b[0m \u001b[0;34m*\u001b[0m\u001b[0margs\u001b[0m\u001b[0;34m,\u001b[0m \u001b[0;34m**\u001b[0m\u001b[0mkwargs\u001b[0m\u001b[0;34m)\u001b[0m\u001b[0;34m\u001b[0m\u001b[0m\n\u001b[0m\u001b[1;32m   1820\u001b[0m         \u001b[0mpre_doc\u001b[0m \u001b[0;34m=\u001b[0m \u001b[0minner\u001b[0m\u001b[0;34m.\u001b[0m\u001b[0m__doc__\u001b[0m\u001b[0;34m\u001b[0m\u001b[0m\n\u001b[1;32m   1821\u001b[0m         \u001b[0;32mif\u001b[0m \u001b[0mpre_doc\u001b[0m \u001b[0;32mis\u001b[0m \u001b[0;32mNone\u001b[0m\u001b[0;34m:\u001b[0m\u001b[0;34m\u001b[0m\u001b[0m\n",
      "\u001b[0;32m/home/yunji/anaconda3/lib/python3.5/site-packages/matplotlib/axes/_axes.py\u001b[0m in \u001b[0;36mimshow\u001b[0;34m(self, X, cmap, norm, aspect, interpolation, alpha, vmin, vmax, origin, extent, shape, filternorm, filterrad, imlim, resample, url, **kwargs)\u001b[0m\n\u001b[1;32m   4920\u001b[0m                               resample=resample, **kwargs)\n\u001b[1;32m   4921\u001b[0m \u001b[0;34m\u001b[0m\u001b[0m\n\u001b[0;32m-> 4922\u001b[0;31m         \u001b[0mim\u001b[0m\u001b[0;34m.\u001b[0m\u001b[0mset_data\u001b[0m\u001b[0;34m(\u001b[0m\u001b[0mX\u001b[0m\u001b[0;34m)\u001b[0m\u001b[0;34m\u001b[0m\u001b[0m\n\u001b[0m\u001b[1;32m   4923\u001b[0m         \u001b[0mim\u001b[0m\u001b[0;34m.\u001b[0m\u001b[0mset_alpha\u001b[0m\u001b[0;34m(\u001b[0m\u001b[0malpha\u001b[0m\u001b[0;34m)\u001b[0m\u001b[0;34m\u001b[0m\u001b[0m\n\u001b[1;32m   4924\u001b[0m         \u001b[0;32mif\u001b[0m \u001b[0mim\u001b[0m\u001b[0;34m.\u001b[0m\u001b[0mget_clip_path\u001b[0m\u001b[0;34m(\u001b[0m\u001b[0;34m)\u001b[0m \u001b[0;32mis\u001b[0m \u001b[0;32mNone\u001b[0m\u001b[0;34m:\u001b[0m\u001b[0;34m\u001b[0m\u001b[0m\n",
      "\u001b[0;32m/home/yunji/anaconda3/lib/python3.5/site-packages/matplotlib/image.py\u001b[0m in \u001b[0;36mset_data\u001b[0;34m(self, A)\u001b[0m\n\u001b[1;32m    451\u001b[0m         if (self._A.ndim not in (2, 3) or\n\u001b[1;32m    452\u001b[0m                 (self._A.ndim == 3 and self._A.shape[-1] not in (3, 4))):\n\u001b[0;32m--> 453\u001b[0;31m             \u001b[0;32mraise\u001b[0m \u001b[0mTypeError\u001b[0m\u001b[0;34m(\u001b[0m\u001b[0;34m\"Invalid dimensions for image data\"\u001b[0m\u001b[0;34m)\u001b[0m\u001b[0;34m\u001b[0m\u001b[0m\n\u001b[0m\u001b[1;32m    454\u001b[0m \u001b[0;34m\u001b[0m\u001b[0m\n\u001b[1;32m    455\u001b[0m         \u001b[0mself\u001b[0m\u001b[0;34m.\u001b[0m\u001b[0m_imcache\u001b[0m \u001b[0;34m=\u001b[0m \u001b[0;32mNone\u001b[0m\u001b[0;34m\u001b[0m\u001b[0m\n",
      "\u001b[0;31mTypeError\u001b[0m: Invalid dimensions for image data"
     ]
    },
    {
     "data": {
      "image/png": "[encoded data removed]",
      "text/plain": [
       "<matplotlib.figure.Figure at 0x7f3d7103a240>"
      ]
     },
     "metadata": {},
     "output_type": "display_data"
    }
   ],
   "source": [
    "# catch gradient on axis X\n",
    "plt.imshow(grad[0],cmap='gray')"
   ]
  },
  {
   "cell_type": "code",
   "execution_count": 41,
   "metadata": {
    "collapsed": false
   },
   "outputs": [
    {
     "data": {
      "text/plain": [
       "<matplotlib.image.AxesImage at 0x157e3518>"
      ]
     },
     "execution_count": 41,
     "metadata": {},
     "output_type": "execute_result"
    },
    {
     "data": {
      "image/png": "[encoded data removed]",
      "text/plain": [
       "<matplotlib.figure.Figure at 0x114aaf28>"
      ]
     },
     "metadata": {},
     "output_type": "display_data"
    }
   ],
   "source": [
    "# catch gradient on axis Y\n",
    "plt.imshow(grad[0][1],cmap='gray')"
   ]
  },
  {
   "cell_type": "code",
   "execution_count": 149,
   "metadata": {
    "collapsed": false
   },
   "outputs": [
    {
     "name": "stdout",
     "output_type": "stream",
     "text": [
      "size of gradientmap: (3072, 32, 32, 6)\n"
     ]
    }
   ],
   "source": [
    "grad2 = gradientmap_color(Xtr)\n",
    "print (\"size of gradientmap:\",np.shape(grad2))"
   ]
  },
  {
   "cell_type": "code",
   "execution_count": 43,
   "metadata": {
    "collapsed": false
   },
   "outputs": [
    {
     "data": {
      "text/plain": [
       "<matplotlib.image.AxesImage at 0x143ce2b0>"
      ]
     },
     "execution_count": 43,
     "metadata": {},
     "output_type": "execute_result"
    },
    {
     "data": {
      "image/png": "[encoded data removed]",
      "text/plain": [
       "<matplotlib.figure.Figure at 0x114aaf60>"
      ]
     },
     "metadata": {},
     "output_type": "display_data"
    }
   ],
   "source": [
    "# catch gradient on axis X\n",
    "plt.imshow(grad2[0][0])"
   ]
  },
  {
   "cell_type": "code",
   "execution_count": 44,
   "metadata": {
    "collapsed": false
   },
   "outputs": [
    {
     "data": {
      "text/plain": [
       "<matplotlib.image.AxesImage at 0x114aadd8>"
      ]
     },
     "execution_count": 44,
     "metadata": {},
     "output_type": "execute_result"
    },
    {
     "data": {
      "image/png": "[encoded data removed]",
      "text/plain": [
       "<matplotlib.figure.Figure at 0x143ce1d0>"
      ]
     },
     "metadata": {},
     "output_type": "display_data"
    }
   ],
   "source": [
    "# catch gradient on axis Y\n",
    "plt.imshow(grad2[0][1])"
   ]
  },
  {
   "cell_type": "markdown",
   "metadata": {},
   "source": [
    "## Learning the parameters of the k-th layer"
   ]
  },
  {
   "cell_type": "markdown",
   "metadata": {},
   "source": [
    "#### initialize W, eta"
   ]
  },
  {
   "cell_type": "code",
   "execution_count": 45,
   "metadata": {
    "collapsed": false
   },
   "outputs": [],
   "source": [
    "from numpy.random import normal\n",
    "m,p = 2,50\n",
    "W = np.random.normal(0, 1, (m,p))\n",
    "eta = 1./p *np.ones(p)"
   ]
  },
  {
   "cell_type": "code",
   "execution_count": null,
   "metadata": {
    "collapsed": true
   },
   "outputs": [],
   "source": [
    "\"\"\"\n",
    "loss function(eta,W) in order to optimize importance weights eta and sampling points W\n",
    " - eta: Real positive. Shape (1,p)\n",
    " - W: Real. Shape (m,p)\n",
    "\"\"\"\n",
    "\n",
    "def loss_func1 () "
   ]
  },
  {
   "cell_type": "code",
   "execution_count": 137,
   "metadata": {
    "collapsed": false
   },
   "outputs": [],
   "source": [
    "from numpy.random import randint\n",
    "\"\"\"\n",
    "Input: \n",
    "    - listmaps: (s1,s2,...). Sequence of (k-1)-th maps obtained from training images\n",
    "    - patch_shape: odd integer . By default 1 for a 1x1 batch;  \n",
    "    - p: Interger. Number of filters\n",
    "    - n: Interger. Number of training pairs \n",
    "    - args: sigma=0.1 by default\n",
    "Output:\n",
    "    - W: Real. Shape (m,p)\n",
    "    - eta: Real positive. Shape (1,p)\n",
    "    - sigma: real \n",
    "\n",
    "\"\"\"\n",
    "m = 32\n",
    "def ckn_params_update(listmaps,patch_shape=1,p=3,n=10,*args):\n",
    "\n",
    "    if args==None:\n",
    "        sigma = 0.1\n",
    "    \n",
    "    if patch_shape!=1:\n",
    "        # For a 3x3 patch, build [-1/m,0,1/m] in an image of size mxm \n",
    "        patch = [float(i/m) for i in np.linspace(-(int(patch_shape/2)), int(patch_shape/2),num=patch_shape)]\n",
    "    \n",
    "    # z: centers of patches; z=(z_x,z_y) with z_x,z_y<1 \n",
    "    z = randint(low=int(patch_shape/2),high=m-int(patch_shape/2), size=2*n)/float(m)\n",
    "    x,y = z[:n],z[n:]\n",
    "    W, eta = updateParams(x,y,sigma)\n",
    "    \n",
    "    return W, eta, sigma\n",
    "    "
   ]
  },
  {
   "cell_type": "code",
   "execution_count": 134,
   "metadata": {
    "collapsed": true
   },
   "outputs": [],
   "source": [
    "patch = [float(i/32) for i in np.linspace(-(int(5/2)), int(5/2),num=5)]"
   ]
  },
  {
   "cell_type": "code",
   "execution_count": 135,
   "metadata": {
    "collapsed": false
   },
   "outputs": [
    {
     "data": {
      "text/plain": [
       "[-0.0625, -0.03125, 0.0, 0.03125, 0.0625]"
      ]
     },
     "execution_count": 135,
     "metadata": {},
     "output_type": "execute_result"
    }
   ],
   "source": [
    "patch"
   ]
  },
  {
   "cell_type": "code",
   "execution_count": 131,
   "metadata": {
    "collapsed": false
   },
   "outputs": [],
   "source": [
    "from numpy.random import choice\n",
    "#Generate a uniform random sample from np.arange(m) of size n:\n",
    "rd = choice(m, 5)/float(m)"
   ]
  },
  {
   "cell_type": "code",
   "execution_count": 132,
   "metadata": {
    "collapsed": false
   },
   "outputs": [
    {
     "data": {
      "text/plain": [
       "array([ 0.28125,  0.65625,  0.78125,  0.53125,  0.25   ])"
      ]
     },
     "execution_count": 132,
     "metadata": {},
     "output_type": "execute_result"
    }
   ],
   "source": [
    "rd"
   ]
  },
  {
   "cell_type": "code",
   "execution_count": 138,
   "metadata": {
    "collapsed": true
   },
   "outputs": [],
   "source": [
    "z = randint(low=int(5/2),high=m-int(5/2), size=10)/float(m)"
   ]
  },
  {
   "cell_type": "code",
   "execution_count": 139,
   "metadata": {
    "collapsed": false
   },
   "outputs": [
    {
     "data": {
      "text/plain": [
       "array([ 0.1875 ,  0.3125 ,  0.5625 ,  0.8125 ,  0.5625 ,  0.375  ,\n",
       "        0.8125 ,  0.09375,  0.125  ,  0.40625])"
      ]
     },
     "execution_count": 139,
     "metadata": {},
     "output_type": "execute_result"
    }
   ],
   "source": [
    "z"
   ]
  },
  {
   "cell_type": "code",
   "execution_count": 143,
   "metadata": {
    "collapsed": false
   },
   "outputs": [
    {
     "data": {
      "text/plain": [
       "array([[ 0.1875 ,  0.3125 ],\n",
       "       [ 0.5625 ,  0.8125 ],\n",
       "       [ 0.5625 ,  0.375  ],\n",
       "       [ 0.8125 ,  0.09375],\n",
       "       [ 0.125  ,  0.40625]])"
      ]
     },
     "execution_count": 143,
     "metadata": {},
     "output_type": "execute_result"
    }
   ],
   "source": [
    "np.reshape(z,(-1,2))"
   ]
  },
  {
   "cell_type": "code",
   "execution_count": 133,
   "metadata": {
    "collapsed": false
   },
   "outputs": [
    {
     "data": {
      "text/plain": [
       "array([[0, 0, 0, 0, 0, 0, 0],\n",
       "       [0, 0, 0, 0, 0, 0, 0],\n",
       "       [0, 0, 0, 0, 0, 0, 0],\n",
       "       [0, 0, 1, 2, 0, 0, 0],\n",
       "       [0, 0, 3, 4, 0, 0, 0],\n",
       "       [0, 0, 0, 0, 0, 0, 0],\n",
       "       [0, 0, 0, 0, 0, 0, 0]])"
      ]
     },
     "execution_count": 133,
     "metadata": {},
     "output_type": "execute_result"
    }
   ],
   "source": [
    "a = [[1, 2], [3, 4]]\n",
    "np.lib.pad(a, ((3, 2), (2, 3)), 'constant', constant_values=(0, 0))"
   ]
  },
  {
   "cell_type": "markdown",
   "metadata": {},
   "source": [
    "## Computing the k-th map from the (k-1)_th one"
   ]
  },
  {
   "cell_type": "code",
   "execution_count": 124,
   "metadata": {
    "collapsed": true
   },
   "outputs": [],
   "source": [
    "from numpy.random import normal\n",
    "patch_shape = 3\n",
    "n_channel = 3\n",
    "p = 50\n",
    "sigma = 0.5\n",
    "W = np.random.normal(0, sigma, (n_channel*patch_shape**2, p))\n",
    "eta = 1./p *np.ones(p)\n",
    "gamma=2"
   ]
  },
  {
   "cell_type": "code",
   "execution_count": null,
   "metadata": {
    "collapsed": false
   },
   "outputs": [],
   "source": []
  },
  {
   "cell_type": "code",
   "execution_count": 13,
   "metadata": {
    "collapsed": false
   },
   "outputs": [
    {
     "data": {
      "text/plain": [
       "(27, 50)"
      ]
     },
     "execution_count": 13,
     "metadata": {},
     "output_type": "execute_result"
    }
   ],
   "source": [
    "W.shape"
   ]
  },
  {
   "cell_type": "code",
   "execution_count": 28,
   "metadata": {
    "collapsed": false
   },
   "outputs": [
    {
     "data": {
      "text/plain": [
       "3.141592653589793"
      ]
     },
     "execution_count": 28,
     "metadata": {},
     "output_type": "execute_result"
    }
   ],
   "source": [
    "np.pi"
   ]
  },
  {
   "cell_type": "code",
   "execution_count": null,
   "metadata": {
    "collapsed": true
   },
   "outputs": [],
   "source": []
  },
  {
   "cell_type": "code",
   "execution_count": 168,
   "metadata": {
    "collapsed": true
   },
   "outputs": [],
   "source": [
    "\"\"\"\n",
    "two initial maps: \n",
    "- batch map, shape = (32,32,3)\n",
    "- gradient map, (colored) shape = (2,32,32,3), \"2\" because each element is (gradX,gradY)=RxR, gradients on two directions X,Y \n",
    "                (gray) shape = (2,32,32) \n",
    "\"\"\"\n",
    "# batch map\n",
    "# data.shape\n",
    "\n",
    "def batchmap(image):\n",
    "    r,c = image.shape\n",
    "    batch = []\n",
    "    for idx in range(c):\n",
    "        tmp = image.ix[idx]\n",
    "        R_channel,G_channel,B_channel = tmp[:1024],tmp[1024:2048],tmp[2048:]\n",
    "        R,G,B = np.reshape(R_channel,(32,32,1)),np.reshape(G_channel,(32,32,1)),np.reshape(B_channel,(32,32,1))\n",
    "        batch.append(np.concatenate((R,G,B),axis=2))\n",
    "    return batch\n",
    "# gradient map\n",
    "\n",
    "def gradientmap_grey(image):\n",
    "    r,c = image.shape\n",
    "    gradient =[]\n",
    "    for idx in range(c):\n",
    "        tmp = image.ix[idx]\n",
    "        R_channel,G_channel,B_channel = tmp[:1024],tmp[1024:2048],tmp[2048:]\n",
    "        grey = np.mean( np.array([ R_channel, G_channel,B_channel ]), axis=0 )\n",
    "        grey = np.reshape(grey,(32,32))\n",
    "        grad_x, grad_y = np.gradient(grey)\n",
    "        grad_x = grad_x.reshape((32,32,1))\n",
    "        grad_y = grad_y.reshape((32,32,1))\n",
    "        gradient.append(np.concatenate((grad_x,grad_y),axis=2))\n",
    "    return gradient\n",
    "\n",
    "def gradientmap_color(image):\n",
    "    r,c = image.shape\n",
    "    gradient =[]\n",
    "    for idx in range(c):\n",
    "        tmp = image.ix[idx]\n",
    "        R_channel,G_channel,B_channel = tmp[:1024],tmp[1024:2048],tmp[2048:]\n",
    "        R,G,B = np.reshape(R_channel,(32,32)),np.reshape(G_channel,(32,32)),np.reshape(B_channel,(32,32))\n",
    "        grad_Rx, grad_Ry = np.gradient(R)\n",
    "        grad_Gx, grad_Gy = np.gradient(G)\n",
    "        grad_Bx, grad_By = np.gradient(B)\n",
    "        gradient.append(np.concatenate((grad_Rx.reshape(32,32,1),grad_Ry.reshape(32,32,1),grad_Gx.reshape(32,32,1)\n",
    "                                        ,grad_Gy.reshape(32,32,1),grad_Bx.reshape(32,32,1),grad_By.reshape(32,32,1)),axis=2))\n",
    "    return gradient"
   ]
  },
  {
   "cell_type": "code",
   "execution_count": 180,
   "metadata": {
    "collapsed": false
   },
   "outputs": [
    {
     "name": "stdout",
     "output_type": "stream",
     "text": [
      "(3072, 32, 32, 2)\n",
      "2\n",
      "(18, 10)\n"
     ]
    }
   ],
   "source": [
    "from numpy.linalg import norm\n",
    "from numpy.random import normal\n",
    "import time\n",
    "\"\"\"\n",
    "convolution and non-linearity\n",
    "\n",
    "listmaps: shape=(n,n)\n",
    "\"\"\"\n",
    "\n",
    "patch_shape = 3\n",
    "p = 10\n",
    "sigma = 0.5\n",
    "gamma=2 \n",
    "\n",
    "gradmap1 = gradientmap_grey(Xtr)\n",
    "gradmap2 = gradientmap_grey(Xtr)\n",
    "n_channel = np.shape(gradmap1)[-1]\n",
    "print(np.shape(gradmap1))\n",
    "print(n_channel)\n",
    "W = np.random.normal(0, sigma, (n_channel*patch_shape**2, p))\n",
    "eta = 1./p *np.ones(p)\n",
    "print(np.shape(W))\n",
    "\n",
    "\n",
    "def activation_map (listmaps):\n",
    "    t0 = time.clock()\n",
    "    n = listmaps.shape[0]\n",
    "    fi = [listmaps[i:i+patch_shape,j:j+patch_shape,:] for i in range(n-patch_shape+1) for j in range(n-patch_shape+1)] # fi[i]=(3x3x3),len(fi)=900 \n",
    "    fi_norm = [norm(t) for t in fi] #len(fi_norm)=900\n",
    "    fi_new = [np.ravel(fi[i]/fi_norm[i]) for i in range(len(fi))]  #(27*900)\n",
    "    v = [fi_norm[j]*np.sqrt(eta[i])*np.exp(-(1./sigma**2)*(norm(fi_new[j]-W[:,i])**2)) for i in range(p) for j in range(len(fi))]\n",
    "    v = np.reshape(v,(n-patch_shape+1,n-patch_shape+1,p))\n",
    "    print(\"one:\" + str(time.clock()-t0))\n",
    "    return v\n",
    "\n",
    "def feature_pooling(listmaps):\n",
    "    t0 = time.clock()\n",
    "    n = listmaps.shape[0]\n",
    "    l = np.reshape(listmaps,(n*n,p))\n",
    "    output = []\n",
    "    coor = []\n",
    "    for i in np.arange(n):\n",
    "        for j in np.arange(n):\n",
    "            coor.append(np.array([i,j]))\n",
    "    new_coor = []\n",
    "    for i in np.arange(0,n,gamma):\n",
    "        for j in np.arange(0,n,gamma):\n",
    "            center = np.array([i+gamma/2.,j+gamma/2.])\n",
    "            new_coor.append(center)\n",
    "            tmp = 0\n",
    "            for k in np.arange(n*n):\n",
    "                tmp = tmp + np.exp(-1/(gamma**2)*(norm(coor[k]-center)**2))*l[k]\n",
    "            output.append(np.sqrt(2./np.pi)*tmp)\n",
    "    d = len(np.arange(0,n,gamma))\n",
    "    output = np.reshape(output,(d,d,p))\n",
    "    print(\"two:\" + str(time.clock()-t0))\n",
    "    return output\n",
    "\n",
    "def kernel_output(map1,map2):\n",
    "    t0 = time.clock()\n",
    "    n = map1.shape[0]\n",
    "    l1 = np.reshape(map1,(n*n,p))\n",
    "    l2 = np.reshape(map2,(n*n,p))\n",
    "    coor = []\n",
    "    for i in np.arange(n):\n",
    "        for j in np.arange(n):\n",
    "            coor.append(np.array([i,j]))\n",
    "    output = 0\n",
    "    for i in np.arange(n*n):\n",
    "        for j in np.arange(n*n):\n",
    "            output = output+np.dot(l1[i],l2[j])*np.exp(-0.5/(gamma**2)*(norm(coor[i]-coor[j])**2))\n",
    "    print(\"three:\" + str(time.clock()-t0))\n",
    "    return output\n",
    "        \n",
    "\n",
    "def kernel_producing(gradmap1,gradmap2):\n",
    "    ################\n",
    "    result = np.zeros((len(gradmap1),len(gradmap2)))\n",
    "    for i in range(len(gradmap1)):\n",
    "        for j in range(len(gradmap2)):\n",
    "            tmp1 = feature_pooling(activation_map(gradmap1[i]))\n",
    "            tmp2 = feature_pooling(activation_map(gradmap2[i]))\n",
    "            result[i,j] = kernel_output(tmp1,tmp2)\n",
    "            print(j)\n",
    "        if(i%10==0):\n",
    "            print(i)\n",
    "    return result\n",
    "            \n"
   ]
  },
  {
   "cell_type": "code",
   "execution_count": 181,
   "metadata": {
    "collapsed": false
   },
   "outputs": [
    {
     "name": "stdout",
     "output_type": "stream",
     "text": [
      "one:0.1568009999999731\n",
      "two:2.4738029999999753\n",
      "one:0.11000899999999092\n",
      "two:2.5004689999999528\n",
      "three:0.7332059999999956\n",
      "0\n",
      "one:0.1115069999999605\n",
      "two:2.4567349999999806\n",
      "one:0.11134399999991729\n",
      "two:2.4347949999998946\n",
      "three:0.698701999999912\n",
      "1\n",
      "one:0.11196700000004967\n",
      "two:2.4676140000001396\n",
      "one:0.10939400000006572\n",
      "two:2.4410250000000815\n",
      "three:0.7500459999998839\n",
      "2\n",
      "one:0.11184900000012021\n",
      "two:2.4024700000002213\n",
      "one:0.10984699999994518\n",
      "two:2.4029850000001716\n",
      "three:0.7151759999999285\n",
      "3\n",
      "one:0.1108839999999418\n",
      "two:2.4420560000000933\n",
      "one:0.12200499999994463\n",
      "two:2.450484999999844\n",
      "three:0.5928640000001906\n",
      "4\n",
      "one:0.15104700000006233\n",
      "two:2.4159649999999147\n",
      "one:0.11016499999982443\n",
      "two:2.4102589999999964\n",
      "three:0.8588380000001052\n",
      "5\n",
      "one:0.11069100000008802\n",
      "two:2.3779839999999695\n",
      "one:0.12470600000006016\n",
      "two:2.4338970000001154\n",
      "three:0.6237889999999879\n",
      "6\n",
      "one:0.11020099999996091\n",
      "two:2.3945960000000923\n",
      "one:0.11088700000004792\n",
      "two:2.4075379999999313\n",
      "three:0.678613999999925\n",
      "7\n",
      "one:0.11101299999995717\n",
      "two:2.40654399999994\n",
      "one:0.12155299999994895\n",
      "two:2.3631940000000213\n",
      "three:0.8121909999999843\n",
      "8\n",
      "one:0.11018400000011752\n",
      "two:2.395807999999988\n",
      "one:0.1107480000000578\n",
      "two:2.430119999999988\n",
      "three:0.8374340000000302\n",
      "9\n",
      "one:0.10989799999993011\n",
      "two:2.4087749999998778\n",
      "one:0.1109430000001339\n",
      "two:2.4098230000001877\n",
      "three:0.6641010000000733\n",
      "10\n",
      "one:0.11137399999984154\n",
      "two:2.583059999999932\n",
      "one:0.11079399999994166\n",
      "two:2.4096309999999903\n",
      "three:0.7743500000001404\n",
      "11\n",
      "one:0.10863000000017564\n",
      "two:2.404125000000022\n",
      "one:0.11071200000014869\n",
      "two:2.404211999999916\n",
      "three:0.7555030000000897\n",
      "12\n",
      "one:0.1103729999999814\n",
      "two:2.551821000000018\n",
      "one:0.12622299999998177\n",
      "two:2.3416360000001077\n",
      "three:0.7016419999999925\n",
      "13\n",
      "one:0.13050699999985227\n",
      "two:2.392077999999856\n",
      "one:0.112145000000055\n",
      "two:2.3922339999999167\n",
      "three:0.8599659999999858\n",
      "14\n",
      "one:0.10989799999993011\n",
      "two:2.379179000000022\n",
      "one:0.1116380000000845\n",
      "two:2.3814270000000306\n",
      "three:0.826095000000123\n",
      "15\n",
      "one:0.12428300000010495\n",
      "two:2.429687999999942\n",
      "one:0.11117600000011407\n",
      "two:2.392031999999972\n",
      "three:0.7884709999998449\n",
      "16\n",
      "one:0.10974499999997533\n",
      "two:2.4162340000000313\n",
      "one:0.12486300000000483\n",
      "two:2.368720999999823\n",
      "three:0.7158170000000155\n",
      "17\n",
      "one:0.14680100000009588\n",
      "two:2.4481020000000626\n",
      "one:0.11077000000000226\n",
      "two:2.4033079999999245\n",
      "three:0.8151910000001408\n",
      "18\n",
      "one:0.11042199999997138\n",
      "two:2.409802000000127\n",
      "one:0.10968100000013692\n",
      "two:2.5209070000000793\n",
      "three:0.5973790000000463\n",
      "19\n",
      "one:0.11261500000000524\n",
      "two:2.5179540000001452\n",
      "one:0.11790999999993801\n",
      "two:2.5039090000000215\n",
      "three:0.6215349999999944\n",
      "20\n",
      "one:0.11110900000016954\n",
      "two:2.4349469999999656\n",
      "one:0.11007100000006176\n",
      "two:2.4027909999999792\n",
      "three:0.6512119999999868\n",
      "21\n",
      "one:0.10919600000011087\n",
      "two:2.4214549999999235\n",
      "one:0.11019800000008217\n",
      "two:2.575976999999966\n",
      "three:0.6552930000000288\n",
      "22\n",
      "one:0.12288199999989047\n",
      "two:2.522377000000006\n",
      "one:0.11058000000002721\n",
      "two:2.4165570000000116\n",
      "three:0.5989749999998821\n",
      "23\n",
      "one:0.11021499999992557\n",
      "two:2.445607000000109\n",
      "one:0.11061500000005253\n",
      "two:2.3987409999999727\n",
      "three:1.1269220000001496\n",
      "24\n",
      "one:0.12047800000004827\n",
      "two:2.4061470000001464\n",
      "one:0.11053400000014335\n",
      "two:2.3906690000001163\n",
      "three:0.7782019999999648\n",
      "25\n",
      "one:0.11018100000001141\n",
      "two:2.474609999999984\n",
      "one:0.1108310000001893\n",
      "two:2.3938090000001466\n",
      "three:0.8609109999999873\n",
      "26\n",
      "one:0.11124500000005355\n",
      "two:2.6783869999999297\n",
      "one:0.11681799999996656\n",
      "two:2.48064700000009\n",
      "three:0.7605650000000423\n",
      "27\n",
      "one:0.1098660000000109\n",
      "two:2.386051999999836\n",
      "one:0.11100299999998242\n",
      "two:2.380484999999908\n",
      "three:0.7071699999999055\n",
      "28\n",
      "one:0.1106609999999364\n",
      "two:2.44935600000008\n",
      "one:0.10978999999997541\n",
      "two:2.4416130000001885\n",
      "three:1.0382770000001074\n",
      "29\n",
      "one:0.11311999999998079\n",
      "two:2.450215999999955\n",
      "one:0.11098200000014913\n",
      "two:2.3994410000000244\n",
      "three:0.6501390000000811\n",
      "30\n",
      "one:0.1158179999999902\n",
      "two:2.388960999999881\n",
      "one:0.1110510000000886\n",
      "two:2.3848579999998947\n",
      "three:0.8252319999999145\n",
      "31\n",
      "one:0.1113550000000032\n",
      "two:2.4101140000000214\n",
      "one:0.11059099999988575\n",
      "two:2.384070000000065\n",
      "three:0.9480029999999715\n",
      "32\n",
      "one:0.13540199999988545\n",
      "two:2.459912000000031\n",
      "one:0.1105849999999009\n",
      "two:2.419358000000102\n",
      "three:0.9292140000000018\n",
      "33\n",
      "one:0.11187700000004952\n",
      "two:2.4445949999999357\n",
      "one:0.1407960000001367\n",
      "two:2.4569349999999304\n",
      "three:0.8924589999999171\n",
      "34\n",
      "one:0.11028200000009747\n",
      "two:2.4434459999999945\n",
      "one:0.1109400000000278\n",
      "two:2.459387000000106\n",
      "three:0.785991999999851\n",
      "35\n",
      "one:0.11037600000008752\n",
      "two:2.427304000000049\n",
      "one:0.11022499999990032\n",
      "two:2.4377509999999347\n",
      "three:1.030958999999939\n",
      "36\n",
      "one:0.11163899999996829\n",
      "two:2.4469360000000506\n",
      "one:0.11115400000016962\n",
      "two:2.4395509999999376\n",
      "three:0.7706129999999121\n",
      "37\n",
      "one:0.1244930000000295\n",
      "two:2.4388300000000527\n",
      "one:0.11001099999998587\n",
      "two:2.4034659999999803\n",
      "three:0.8309619999999995\n",
      "38\n",
      "one:0.11077999999997701\n",
      "two:2.447149999999965\n",
      "one:0.11099000000012893\n",
      "two:2.3958540000000994\n",
      "three:0.7002780000000257\n",
      "39\n",
      "one:0.11056799999983014\n",
      "two:2.4364349999998467\n",
      "one:0.11077800000020943\n",
      "two:2.4330250000000433\n",
      "three:0.7395449999999073\n",
      "40\n",
      "one:0.11143199999992248\n",
      "two:2.3809799999999086\n",
      "one:0.11014499999987493\n",
      "two:2.3674130000001696\n",
      "three:0.8271130000000539\n",
      "41\n",
      "one:0.10999700000002122\n",
      "two:2.504075999999941\n",
      "one:0.11142900000004374\n",
      "two:2.4362710000000334\n",
      "three:0.7448190000000068\n",
      "42\n",
      "one:0.11007299999982934\n",
      "two:2.396547999999939\n",
      "one:0.1110470000000987\n",
      "two:2.398531000000048\n",
      "three:0.7983100000001286\n",
      "43\n",
      "one:0.11058500000012828\n",
      "two:2.4129210000000967\n",
      "one:0.11801700000000892\n",
      "two:2.544368000000077\n",
      "three:0.7141389999999319\n",
      "44\n",
      "one:0.11895700000013676\n",
      "two:2.4396710000000894\n",
      "one:0.11097500000005311\n",
      "two:2.4380539999999655\n",
      "three:0.9322099999999409\n",
      "45\n",
      "one:0.14398099999993974\n",
      "two:2.4251990000000205\n",
      "one:0.11047700000017358\n",
      "two:2.44366100000002\n",
      "three:0.930704999999989\n",
      "46\n",
      "one:0.11095699999987119\n",
      "two:2.586770999999999\n",
      "one:0.11060100000008788\n",
      "two:2.4965740000000096\n",
      "three:0.5892630000000736\n",
      "47\n",
      "one:0.11285099999986414\n",
      "two:2.4295689999999013\n",
      "one:0.12386099999980615\n",
      "two:2.49623100000008\n",
      "three:0.5866029999999682\n",
      "48\n",
      "one:0.11221000000000458\n",
      "two:2.4595030000000406\n",
      "one:0.1108600000000024\n",
      "two:2.508978999999954\n",
      "three:0.7648139999998875\n",
      "49\n",
      "one:0.1196669999999358\n",
      "two:2.618099999999913\n",
      "one:0.11413700000002791\n"
     ]
    },
    {
     "ename": "KeyboardInterrupt",
     "evalue": "",
     "output_type": "error",
     "traceback": [
      "\u001b[0;31m---------------------------------------------------------------------------\u001b[0m",
      "\u001b[0;31mKeyboardInterrupt\u001b[0m                         Traceback (most recent call last)",
      "\u001b[0;32m<ipython-input-181-904dd4a9e947>\u001b[0m in \u001b[0;36m<module>\u001b[0;34m()\u001b[0m\n\u001b[0;32m----> 1\u001b[0;31m \u001b[0mgogogo\u001b[0m \u001b[0;34m=\u001b[0m \u001b[0mkernel_producing\u001b[0m\u001b[0;34m(\u001b[0m\u001b[0mgradmap1\u001b[0m\u001b[0;34m,\u001b[0m\u001b[0mgradmap2\u001b[0m\u001b[0;34m)\u001b[0m\u001b[0;34m\u001b[0m\u001b[0m\n\u001b[0m",
      "\u001b[0;32m<ipython-input-180-9fa971939dc1>\u001b[0m in \u001b[0;36mkernel_producing\u001b[0;34m(gradmap1, gradmap2)\u001b[0m\n\u001b[1;32m     80\u001b[0m         \u001b[0;32mfor\u001b[0m \u001b[0mj\u001b[0m \u001b[0;32min\u001b[0m \u001b[0mrange\u001b[0m\u001b[0;34m(\u001b[0m\u001b[0mlen\u001b[0m\u001b[0;34m(\u001b[0m\u001b[0mgradmap2\u001b[0m\u001b[0;34m)\u001b[0m\u001b[0;34m)\u001b[0m\u001b[0;34m:\u001b[0m\u001b[0;34m\u001b[0m\u001b[0m\n\u001b[1;32m     81\u001b[0m             \u001b[0mtmp1\u001b[0m \u001b[0;34m=\u001b[0m \u001b[0mfeature_pooling\u001b[0m\u001b[0;34m(\u001b[0m\u001b[0mactivation_map\u001b[0m\u001b[0;34m(\u001b[0m\u001b[0mgradmap1\u001b[0m\u001b[0;34m[\u001b[0m\u001b[0mi\u001b[0m\u001b[0;34m]\u001b[0m\u001b[0;34m)\u001b[0m\u001b[0;34m)\u001b[0m\u001b[0;34m\u001b[0m\u001b[0m\n\u001b[0;32m---> 82\u001b[0;31m             \u001b[0mtmp2\u001b[0m \u001b[0;34m=\u001b[0m \u001b[0mfeature_pooling\u001b[0m\u001b[0;34m(\u001b[0m\u001b[0mactivation_map\u001b[0m\u001b[0;34m(\u001b[0m\u001b[0mgradmap2\u001b[0m\u001b[0;34m[\u001b[0m\u001b[0mi\u001b[0m\u001b[0;34m]\u001b[0m\u001b[0;34m)\u001b[0m\u001b[0;34m)\u001b[0m\u001b[0;34m\u001b[0m\u001b[0m\n\u001b[0m\u001b[1;32m     83\u001b[0m             \u001b[0mresult\u001b[0m\u001b[0;34m[\u001b[0m\u001b[0mi\u001b[0m\u001b[0;34m,\u001b[0m\u001b[0mj\u001b[0m\u001b[0;34m]\u001b[0m \u001b[0;34m=\u001b[0m \u001b[0mkernel_output\u001b[0m\u001b[0;34m(\u001b[0m\u001b[0mtmp1\u001b[0m\u001b[0;34m,\u001b[0m\u001b[0mtmp2\u001b[0m\u001b[0;34m)\u001b[0m\u001b[0;34m\u001b[0m\u001b[0m\n\u001b[1;32m     84\u001b[0m             \u001b[0mprint\u001b[0m\u001b[0;34m(\u001b[0m\u001b[0mj\u001b[0m\u001b[0;34m)\u001b[0m\u001b[0;34m\u001b[0m\u001b[0m\n",
      "\u001b[0;32m<ipython-input-180-9fa971939dc1>\u001b[0m in \u001b[0;36mfeature_pooling\u001b[0;34m(listmaps)\u001b[0m\n\u001b[1;32m     50\u001b[0m             \u001b[0mtmp\u001b[0m \u001b[0;34m=\u001b[0m \u001b[0;36m0\u001b[0m\u001b[0;34m\u001b[0m\u001b[0m\n\u001b[1;32m     51\u001b[0m             \u001b[0;32mfor\u001b[0m \u001b[0mk\u001b[0m \u001b[0;32min\u001b[0m \u001b[0mnp\u001b[0m\u001b[0;34m.\u001b[0m\u001b[0marange\u001b[0m\u001b[0;34m(\u001b[0m\u001b[0mn\u001b[0m\u001b[0;34m*\u001b[0m\u001b[0mn\u001b[0m\u001b[0;34m)\u001b[0m\u001b[0;34m:\u001b[0m\u001b[0;34m\u001b[0m\u001b[0m\n\u001b[0;32m---> 52\u001b[0;31m                 \u001b[0mtmp\u001b[0m \u001b[0;34m=\u001b[0m \u001b[0mtmp\u001b[0m \u001b[0;34m+\u001b[0m \u001b[0mnp\u001b[0m\u001b[0;34m.\u001b[0m\u001b[0mexp\u001b[0m\u001b[0;34m(\u001b[0m\u001b[0;34m-\u001b[0m\u001b[0;36m1\u001b[0m\u001b[0;34m/\u001b[0m\u001b[0;34m(\u001b[0m\u001b[0mgamma\u001b[0m\u001b[0;34m**\u001b[0m\u001b[0;36m2\u001b[0m\u001b[0;34m)\u001b[0m\u001b[0;34m*\u001b[0m\u001b[0;34m(\u001b[0m\u001b[0mnorm\u001b[0m\u001b[0;34m(\u001b[0m\u001b[0mcoor\u001b[0m\u001b[0;34m[\u001b[0m\u001b[0mk\u001b[0m\u001b[0;34m]\u001b[0m\u001b[0;34m-\u001b[0m\u001b[0mcenter\u001b[0m\u001b[0;34m)\u001b[0m\u001b[0;34m**\u001b[0m\u001b[0;36m2\u001b[0m\u001b[0;34m)\u001b[0m\u001b[0;34m)\u001b[0m\u001b[0;34m*\u001b[0m\u001b[0ml\u001b[0m\u001b[0;34m[\u001b[0m\u001b[0mk\u001b[0m\u001b[0;34m]\u001b[0m\u001b[0;34m\u001b[0m\u001b[0m\n\u001b[0m\u001b[1;32m     53\u001b[0m             \u001b[0moutput\u001b[0m\u001b[0;34m.\u001b[0m\u001b[0mappend\u001b[0m\u001b[0;34m(\u001b[0m\u001b[0mnp\u001b[0m\u001b[0;34m.\u001b[0m\u001b[0msqrt\u001b[0m\u001b[0;34m(\u001b[0m\u001b[0;36m2.\u001b[0m\u001b[0;34m/\u001b[0m\u001b[0mnp\u001b[0m\u001b[0;34m.\u001b[0m\u001b[0mpi\u001b[0m\u001b[0;34m)\u001b[0m\u001b[0;34m*\u001b[0m\u001b[0mtmp\u001b[0m\u001b[0;34m)\u001b[0m\u001b[0;34m\u001b[0m\u001b[0m\n\u001b[1;32m     54\u001b[0m     \u001b[0md\u001b[0m \u001b[0;34m=\u001b[0m \u001b[0mlen\u001b[0m\u001b[0;34m(\u001b[0m\u001b[0mnp\u001b[0m\u001b[0;34m.\u001b[0m\u001b[0marange\u001b[0m\u001b[0;34m(\u001b[0m\u001b[0;36m0\u001b[0m\u001b[0;34m,\u001b[0m\u001b[0mn\u001b[0m\u001b[0;34m,\u001b[0m\u001b[0mgamma\u001b[0m\u001b[0;34m)\u001b[0m\u001b[0;34m)\u001b[0m\u001b[0;34m\u001b[0m\u001b[0m\n",
      "\u001b[0;31mKeyboardInterrupt\u001b[0m: "
     ]
    }
   ],
   "source": [
    "gogogo = kernel_producing(gradmap1,gradmap2)"
   ]
  },
  {
   "cell_type": "code",
   "execution_count": 49,
   "metadata": {
    "collapsed": false
   },
   "outputs": [
    {
     "name": "stdout",
     "output_type": "stream",
     "text": [
      "<class 'numpy.ndarray'>\n"
     ]
    }
   ],
   "source": [
    "aaa = [1,2,2,1]\n",
    "print(type(np.reshape(aaa,(2,2))))"
   ]
  },
  {
   "cell_type": "code",
   "execution_count": 25,
   "metadata": {
    "collapsed": false
   },
   "outputs": [
    {
     "data": {
      "text/plain": [
       "array([  0.,   2.,   4.,   6.,   8.,  10.,  12.,  14.,  16.,  18.,  20.,\n",
       "        22.,  24.,  26.,  28.,  30.])"
      ]
     },
     "execution_count": 25,
     "metadata": {},
     "output_type": "execute_result"
    }
   ],
   "source": [
    "np.linspace(0,30,16)"
   ]
  },
  {
   "cell_type": "code",
   "execution_count": 27,
   "metadata": {
    "collapsed": false
   },
   "outputs": [
    {
     "data": {
      "text/plain": [
       "array([0, 2, 4, 6, 8])"
      ]
     },
     "execution_count": 27,
     "metadata": {},
     "output_type": "execute_result"
    }
   ],
   "source": [
    "np.arange(0,10,2)"
   ]
  },
  {
   "cell_type": "code",
   "execution_count": null,
   "metadata": {
    "collapsed": false
   },
   "outputs": [],
   "source": []
  },
  {
   "cell_type": "code",
   "execution_count": 126,
   "metadata": {
    "collapsed": false
   },
   "outputs": [],
   "source": [
    "fi,fi_norm,fi_new, v = activation_map(grad2[0][0],W,eta)"
   ]
  },
  {
   "cell_type": "code",
   "execution_count": 130,
   "metadata": {
    "collapsed": false
   },
   "outputs": [
    {
     "data": {
      "text/plain": [
       "5.9195547491380323"
      ]
     },
     "execution_count": 130,
     "metadata": {},
     "output_type": "execute_result"
    }
   ],
   "source": [
    "norm(fi_new[0]-W[:,5])**2"
   ]
  },
  {
   "cell_type": "code",
   "execution_count": 85,
   "metadata": {
    "collapsed": false
   },
   "outputs": [],
   "source": [
    "# [print(np.sum(fi_new[i])) for i in range(len(fi_new))]"
   ]
  },
  {
   "cell_type": "code",
   "execution_count": 86,
   "metadata": {
    "collapsed": false
   },
   "outputs": [
    {
     "name": "stdout",
     "output_type": "stream",
     "text": [
      "-0.387820940613\n",
      "8.76962650749\n",
      "-1.03154329649\n",
      "3.37995226935\n",
      "-3.39337966505\n",
      "5.90770957155\n",
      "6.40639752181\n",
      "-1.98615964158\n",
      "-0.493807743667\n",
      "-3.4891198632\n",
      "-5.44188208895\n",
      "-3.64115499705\n",
      "-4.17664521883\n",
      "-1.68493185741\n",
      "-7.43360693119\n",
      "-2.71219088132\n",
      "-1.84939690083\n",
      "-10.5969994864\n",
      "-0.269996638823\n",
      "0.393409289497\n",
      "-5.64664917067\n",
      "4.53076798504\n",
      "-4.50819831914\n",
      "-6.77866726853\n",
      "0.411859133114\n",
      "-6.97966123107\n",
      "-8.06853419431\n",
      "0.666256507812\n",
      "-1.92095349233\n",
      "4.43331030065\n",
      "6.31486347255\n",
      "1.22036953307\n",
      "-1.41754348723\n",
      "6.03513700354\n",
      "-7.60083359894\n",
      "-3.84581409934\n",
      "1.25454211442\n",
      "-2.7914798892\n",
      "2.32155573162\n",
      "-6.99521951516\n",
      "5.78630292755\n",
      "-0.403966496597\n",
      "0.433213735859\n",
      "1.95535921322\n",
      "2.83890052228\n",
      "-11.4208680341\n",
      "-2.10311263539\n",
      "3.61454395415\n",
      "-11.1521188157\n",
      "2.6035613693\n"
     ]
    },
    {
     "data": {
      "text/plain": [
       "[None,\n",
       " None,\n",
       " None,\n",
       " None,\n",
       " None,\n",
       " None,\n",
       " None,\n",
       " None,\n",
       " None,\n",
       " None,\n",
       " None,\n",
       " None,\n",
       " None,\n",
       " None,\n",
       " None,\n",
       " None,\n",
       " None,\n",
       " None,\n",
       " None,\n",
       " None,\n",
       " None,\n",
       " None,\n",
       " None,\n",
       " None,\n",
       " None,\n",
       " None,\n",
       " None,\n",
       " None,\n",
       " None,\n",
       " None,\n",
       " None,\n",
       " None,\n",
       " None,\n",
       " None,\n",
       " None,\n",
       " None,\n",
       " None,\n",
       " None,\n",
       " None,\n",
       " None,\n",
       " None,\n",
       " None,\n",
       " None,\n",
       " None,\n",
       " None,\n",
       " None,\n",
       " None,\n",
       " None,\n",
       " None,\n",
       " None]"
      ]
     },
     "execution_count": 86,
     "metadata": {},
     "output_type": "execute_result"
    }
   ],
   "source": [
    "[ print(np.sum(W[:,i])) for i in range(50)]"
   ]
  },
  {
   "cell_type": "code",
   "execution_count": 19,
   "metadata": {
    "collapsed": false
   },
   "outputs": [
    {
     "data": {
      "text/plain": [
       "(900, 3, 3, 3)"
      ]
     },
     "execution_count": 19,
     "metadata": {},
     "output_type": "execute_result"
    }
   ],
   "source": [
    "np.shape(fi)"
   ]
  },
  {
   "cell_type": "code",
   "execution_count": 20,
   "metadata": {
    "collapsed": false
   },
   "outputs": [
    {
     "data": {
      "text/plain": [
       "(30, 30, 50)"
      ]
     },
     "execution_count": 20,
     "metadata": {},
     "output_type": "execute_result"
    }
   ],
   "source": [
    "np.shape(v)"
   ]
  },
  {
   "cell_type": "code",
   "execution_count": 61,
   "metadata": {
    "collapsed": false
   },
   "outputs": [
    {
     "data": {
      "text/plain": [
       "array([[ 0.19609448, -1.44444101, -1.01789312, ...,  0.47071201,\n",
       "        -0.67104698, -0.29184526],\n",
       "       [ 0.30365566,  0.13624655, -0.10255289, ...,  2.45165141,\n",
       "         0.79948449,  0.14346712],\n",
       "       [ 1.64561795,  0.87235411, -0.00246923, ..., -1.1045006 ,\n",
       "        -0.18864129, -0.04965723],\n",
       "       ..., \n",
       "       [-0.23163921, -0.79239981, -0.02796809, ...,  0.30350954,\n",
       "         0.23423511,  1.27216471],\n",
       "       [-1.10438473,  0.26497497, -1.46909398, ..., -1.77394998,\n",
       "         0.03719943,  0.59814079],\n",
       "       [ 0.01270257,  0.73866401, -0.23703976, ..., -0.44812478,\n",
       "         1.10892777,  0.34023586]])"
      ]
     },
     "execution_count": 61,
     "metadata": {},
     "output_type": "execute_result"
    }
   ],
   "source": [
    "W"
   ]
  },
  {
   "cell_type": "code",
   "execution_count": null,
   "metadata": {
    "collapsed": false
   },
   "outputs": [],
   "source": []
  },
  {
   "cell_type": "code",
   "execution_count": 57,
   "metadata": {
    "collapsed": false
   },
   "outputs": [
    {
     "data": {
      "text/plain": [
       "array([[[  3.70336709e-16,   5.65984067e-15,   1.09645345e-16, ...,\n",
       "           3.41982385e-17,   1.61709468e-17,   3.73991157e-18],\n",
       "        [  1.01130665e-17,   9.50563936e-18,   4.44743703e-17, ...,\n",
       "           1.06977827e-17,   2.82686194e-17,   5.91392021e-17],\n",
       "        [  1.15685430e-16,   1.28982037e-16,   4.63191504e-17, ...,\n",
       "           9.25848600e-16,   2.43441466e-16,   1.62499955e-16],\n",
       "        ..., \n",
       "        [  2.95325187e-15,   3.97545311e-17,   1.76387171e-16, ...,\n",
       "           5.75325226e-15,   3.57245117e-15,   6.03407245e-15],\n",
       "        [  5.11077061e-15,   2.68388787e-15,   4.98591958e-16, ...,\n",
       "           1.55352150e-14,   5.68830935e-15,   7.07511737e-15],\n",
       "        [  6.74242563e-15,   7.93667512e-15,   4.26678653e-15, ...,\n",
       "           1.04279523e-16,   3.63596157e-16,   3.56852338e-18]],\n",
       "\n",
       "       [[  3.97600431e-17,   2.56477196e-17,   3.18074062e-17, ...,\n",
       "           6.32652080e-16,   1.84171315e-15,   2.88549372e-15],\n",
       "        [  1.51181737e-16,   3.43442139e-16,   2.33707089e-16, ...,\n",
       "           5.80478428e-18,   2.52962544e-18,   2.81484443e-18],\n",
       "        [  4.25109757e-18,   3.64994667e-18,   3.39433151e-18, ...,\n",
       "           8.15800337e-17,   4.17802871e-16,   2.34943641e-17],\n",
       "        ..., \n",
       "        [  5.38689439e-14,   1.88070819e-14,   1.57473693e-15, ...,\n",
       "           1.94827286e-14,   5.10995727e-15,   2.32225838e-14],\n",
       "        [  4.82516748e-14,   9.96210324e-14,   9.57557274e-15, ...,\n",
       "           1.15471316e-14,   9.49784537e-15,   2.72642999e-14],\n",
       "        [  2.71253463e-14,   7.46741973e-16,   2.68532088e-13, ...,\n",
       "           9.78224277e-15,   1.05556402e-13,   1.35823210e-14]],\n",
       "\n",
       "       [[  3.56883583e-14,   4.65602121e-15,   1.24344874e-13, ...,\n",
       "           5.33041813e-13,   1.26080497e-12,   1.27943680e-12],\n",
       "        [  7.30607817e-13,   2.07102867e-13,   3.63777077e-13, ...,\n",
       "           9.07705972e-13,   9.51039706e-14,   2.98370020e-14],\n",
       "        [  2.37777803e-13,   5.25887579e-13,   5.61647238e-14, ...,\n",
       "           2.77734463e-14,   5.94552877e-14,   1.16461955e-13],\n",
       "        ..., \n",
       "        [  5.99479988e-19,   5.85758750e-19,   2.43299805e-18, ...,\n",
       "           1.17364041e-18,   8.21892247e-18,   1.72152350e-17],\n",
       "        [  5.39178289e-18,   1.94979853e-17,   1.21155106e-17, ...,\n",
       "           9.92561679e-16,   3.59312864e-15,   4.63958789e-16],\n",
       "        [  4.94711685e-16,   2.83071757e-16,   1.31359565e-15, ...,\n",
       "           2.60519126e-16,   7.65947542e-16,   1.83305651e-15]],\n",
       "\n",
       "       ..., \n",
       "       [[  1.77139070e-14,   1.26908897e-13,   2.53534648e-14, ...,\n",
       "           1.15857570e-12,   1.27800658e-13,   6.90370126e-13],\n",
       "        [  3.09301173e-13,   2.63308951e-13,   5.73028710e-14, ...,\n",
       "           7.13690930e-16,   2.04260261e-15,   2.45163449e-15],\n",
       "        [  3.87346654e-13,   5.13377158e-13,   4.00696222e-15, ...,\n",
       "           5.93519790e-14,   5.80724326e-14,   1.17281069e-14],\n",
       "        ..., \n",
       "        [  1.40291392e-18,   5.68009574e-17,   2.29821315e-16, ...,\n",
       "           3.34568965e-17,   9.84595169e-18,   5.87398123e-17],\n",
       "        [  4.44261501e-17,   1.20740488e-16,   3.17754344e-16, ...,\n",
       "           4.32071975e-16,   1.88417213e-16,   1.31719751e-16],\n",
       "        [  1.49880664e-17,   9.05865677e-17,   6.09255629e-16, ...,\n",
       "           5.95352446e-14,   1.61359885e-17,   1.26602319e-16]],\n",
       "\n",
       "       [[  1.10712407e-14,   3.11445138e-17,   6.79250708e-18, ...,\n",
       "           3.53894561e-16,   5.10316751e-17,   9.25112623e-19],\n",
       "        [  5.81777060e-17,   2.00333684e-14,   9.60794480e-16, ...,\n",
       "           6.41540540e-16,   3.90567779e-16,   7.60478454e-16],\n",
       "        [  9.25129601e-16,   2.65976669e-16,   1.50890235e-16, ...,\n",
       "           8.18108030e-17,   1.69958957e-16,   1.09945640e-16],\n",
       "        ..., \n",
       "        [  9.52508527e-21,   4.02340332e-20,   9.99672803e-22, ...,\n",
       "           6.89410354e-20,   2.58066012e-19,   1.59721663e-21],\n",
       "        [  1.54755278e-20,   4.83983191e-20,   6.09987388e-20, ...,\n",
       "           1.37456720e-18,   6.47782250e-20,   3.51688178e-20],\n",
       "        [  6.36061987e-20,   2.50855818e-22,   2.04870781e-19, ...,\n",
       "           6.36926703e-21,   2.40013058e-20,   5.79067700e-20]],\n",
       "\n",
       "       [[  2.20832789e-21,   5.66748431e-20,   1.08316170e-20, ...,\n",
       "           1.64093537e-20,   3.30578342e-20,   5.03315714e-20],\n",
       "        [  3.00000978e-20,   1.64934380e-19,   3.11986547e-19, ...,\n",
       "           1.03676519e-19,   8.26948396e-21,   1.18147734e-19],\n",
       "        [  3.34168935e-20,   1.57402077e-20,   1.07785469e-20, ...,\n",
       "           9.27765819e-20,   5.35167222e-19,   2.34352957e-19],\n",
       "        ..., \n",
       "        [  6.94100368e-17,   2.29162005e-16,   9.48588495e-17, ...,\n",
       "           7.06016279e-16,   3.49569903e-16,   7.32212854e-16],\n",
       "        [  1.21762332e-16,   3.81554304e-16,   4.86281564e-16, ...,\n",
       "           1.47968618e-17,   5.16501545e-16,   7.70586773e-18],\n",
       "        [  3.28403847e-17,   2.09425156e-17,   8.02157291e-17, ...,\n",
       "           8.03462613e-18,   4.53225784e-17,   3.43540843e-16]]])"
      ]
     },
     "execution_count": 57,
     "metadata": {},
     "output_type": "execute_result"
    }
   ],
   "source": [
    "v"
   ]
  },
  {
   "cell_type": "code",
   "execution_count": 56,
   "metadata": {
    "collapsed": false
   },
   "outputs": [
    {
     "data": {
      "text/plain": [
       "array([[[  6.38519400e-03,   4.24467500e-03,   5.10376500e-03],\n",
       "        [  2.41358200e-03,   3.10552100e-03,   3.13071710e-03],\n",
       "        [  3.08776600e-03,   2.29372150e-03,   3.82125630e-03],\n",
       "        ..., \n",
       "        [ -1.05106100e-03,   1.19579300e-02,   8.16274840e-03],\n",
       "        [  1.76294000e-03,   7.90163400e-03,   9.35731900e-03],\n",
       "        [  5.89664700e-03,  -1.20516000e-03,   1.14075430e-02]],\n",
       "\n",
       "       [[ -1.35163600e-03,   3.33747600e-03,   2.63907450e-03],\n",
       "        [ -5.16054750e-04,  -6.92664500e-04,  -8.45198950e-04],\n",
       "        [ -9.74724300e-04,  -4.88644500e-04,  -6.78778350e-04],\n",
       "        ..., \n",
       "        [  6.46264500e-04,   1.14759500e-03,   1.36059070e-03],\n",
       "        [ -3.85575000e-04,   5.79912850e-03,  -4.74620500e-04],\n",
       "        [  5.89700000e-04,  -1.88397650e-03,   5.66046600e-03]],\n",
       "\n",
       "       [[ -1.44571000e-03,  -8.79159500e-04,  -1.32776150e-03],\n",
       "        [ -7.19379500e-04,  -1.15562700e-03,  -1.14673325e-03],\n",
       "        [ -1.27318550e-03,  -4.80622750e-04,  -2.46992000e-03],\n",
       "        ..., \n",
       "        [  1.29251400e-03,  -3.33050450e-03,  -2.11117350e-03],\n",
       "        [  2.16280000e-05,  -2.66982800e-03,  -2.29231800e-03],\n",
       "        [ -1.44308750e-03,   1.65682000e-03,  -4.50874600e-03]],\n",
       "\n",
       "       ..., \n",
       "       [[ -1.41161500e-03,  -1.65674900e-03,  -1.53491250e-03],\n",
       "        [  4.07845400e-03,   3.15393400e-03,   4.17536000e-03],\n",
       "        [  1.10896900e-03,   2.42994000e-04,   3.04520750e-04],\n",
       "        ..., \n",
       "        [  4.86103400e-04,   1.10268755e-03,  -2.31015000e-04],\n",
       "        [ -1.26992250e-03,  -1.96927500e-04,  -3.18871500e-04],\n",
       "        [  2.67691450e-03,   3.72615650e-03,   4.51075600e-03]],\n",
       "\n",
       "       [[ -3.21820900e-03,  -2.84543750e-03,  -1.77740350e-03],\n",
       "        [  1.19527800e-03,   2.67977000e-03,  -1.62784350e-03],\n",
       "        [  1.02194300e-03,   9.40992305e-04,   1.42937990e-03],\n",
       "        ..., \n",
       "        [ -1.50228675e-03,  -7.80675300e-04,  -2.20826200e-03],\n",
       "        [ -6.96631650e-03,  -6.36635100e-03,  -6.69559850e-03],\n",
       "        [ -1.39441080e-02,  -1.14846875e-02,  -1.77221000e-02]],\n",
       "\n",
       "       [[ -6.87943800e-03,  -5.67239500e-03,  -3.70810200e-03],\n",
       "        [ -1.54584090e-02,  -1.11357200e-02,  -2.22322300e-02],\n",
       "        [  1.44394200e-03,   1.98610161e-03,   2.34579740e-03],\n",
       "        ..., \n",
       "        [ -4.53569700e-03,  -4.79195200e-03,  -5.26521900e-03],\n",
       "        [ -9.32551400e-03,  -9.57154100e-03,  -9.36324900e-03],\n",
       "        [ -1.54192360e-02,  -1.33199650e-02,  -2.64150700e-02]]])"
      ]
     },
     "execution_count": 56,
     "metadata": {},
     "output_type": "execute_result"
    }
   ],
   "source": [
    "grad2[0][0]"
   ]
  },
  {
   "cell_type": "code",
   "execution_count": 54,
   "metadata": {
    "collapsed": false
   },
   "outputs": [
    {
     "name": "stdout",
     "output_type": "stream",
     "text": [
      "3.55300638788e-11\n"
     ]
    }
   ],
   "source": [
    "print(kernel_output(output1,output1))"
   ]
  },
  {
   "cell_type": "code",
   "execution_count": 36,
   "metadata": {
    "collapsed": false
   },
   "outputs": [
    {
     "data": {
      "text/plain": [
       "(225, 2)"
      ]
     },
     "execution_count": 36,
     "metadata": {},
     "output_type": "execute_result"
    }
   ],
   "source": [
    "np.shape(new_coor1)"
   ]
  },
  {
   "cell_type": "code",
   "execution_count": 48,
   "metadata": {
    "collapsed": false
   },
   "outputs": [
    {
     "data": {
      "text/plain": [
       "(15, 15, 50)"
      ]
     },
     "execution_count": 48,
     "metadata": {},
     "output_type": "execute_result"
    }
   ],
   "source": [
    "np.shape(output1)"
   ]
  },
  {
   "cell_type": "code",
   "execution_count": 42,
   "metadata": {
    "collapsed": false
   },
   "outputs": [
    {
     "name": "stdout",
     "output_type": "stream",
     "text": [
      "<class 'numpy.ndarray'>\n"
     ]
    }
   ],
   "source": [
    "print(type(output1))"
   ]
  },
  {
   "cell_type": "code",
   "execution_count": null,
   "metadata": {
    "collapsed": true
   },
   "outputs": [],
   "source": []
  },
  {
   "cell_type": "code",
   "execution_count": null,
   "metadata": {
    "collapsed": true
   },
   "outputs": [],
   "source": []
  },
  {
   "cell_type": "code",
   "execution_count": 69,
   "metadata": {
    "collapsed": true
   },
   "outputs": [],
   "source": [
    "X = np.random.normal(0,1,(5,5))"
   ]
  },
  {
   "cell_type": "code",
   "execution_count": 70,
   "metadata": {
    "collapsed": false
   },
   "outputs": [
    {
     "data": {
      "text/plain": [
       "array([[ -1.04119742e+00,   1.95322503e-01,   7.48800333e-03,\n",
       "         -1.01273076e-01,   1.30779370e+00],\n",
       "       [ -8.45786512e-01,   1.12147930e+00,  -4.11660231e-01,\n",
       "          1.79515830e+00,  -5.24570170e-01],\n",
       "       [  2.10799454e-01,   1.10015573e+00,  -2.87925495e-01,\n",
       "          1.58497026e+00,  -1.23234047e-01],\n",
       "       [ -6.47883354e-01,  -1.42976710e+00,  -6.64307931e-01,\n",
       "          1.89156880e-01,  -1.13044967e+00],\n",
       "       [ -1.68145303e+00,  -3.73838543e-01,   2.13089070e-04,\n",
       "          1.09197859e+00,  -2.22862043e-01]])"
      ]
     },
     "execution_count": 70,
     "metadata": {},
     "output_type": "execute_result"
    }
   ],
   "source": [
    "X"
   ]
  },
  {
   "cell_type": "code",
   "execution_count": 71,
   "metadata": {
    "collapsed": false
   },
   "outputs": [],
   "source": [
    "XX = [X[i:i+3,j:j+3] for i in range(5-patch_shape+1) for j in range(5-patch_shape+1)]"
   ]
  },
  {
   "cell_type": "code",
   "execution_count": 81,
   "metadata": {
    "collapsed": false
   },
   "outputs": [],
   "source": [
    "XX_norm = [norm(t) for t in XX]\n",
    "XX_new = [XX[i]/XX_norm[i] for i in range(len(XX))]"
   ]
  },
  {
   "cell_type": "code",
   "execution_count": 85,
   "metadata": {
    "collapsed": false
   },
   "outputs": [
    {
     "name": "stdout",
     "output_type": "stream",
     "text": [
      "9\n"
     ]
    }
   ],
   "source": [
    "print len(XX_norm)"
   ]
  },
  {
   "cell_type": "code",
   "execution_count": 83,
   "metadata": {
    "collapsed": false
   },
   "outputs": [
    {
     "name": "stdout",
     "output_type": "stream",
     "text": [
      "[array([[-0.4853282 ,  0.09104471,  0.00349035],\n",
      "       [-0.39424228,  0.5227496 , -0.19188515],\n",
      "       [ 0.09825891,  0.51281015, -0.13420929]]), array([[ 0.06698084,  0.00256782, -0.034729  ],\n",
      "       [ 0.38458255, -0.14116831,  0.61560347],\n",
      "       [ 0.37727018, -0.09873666,  0.54352488]]), array([[ 0.00264773, -0.03580972,  0.46243021],\n",
      "       [-0.14556128,  0.63476022, -0.18548575],\n",
      "       [-0.10180921,  0.56043864, -0.04357503]]), array([[-0.33470567,  0.44380642, -0.16290756],\n",
      "       [ 0.08342031,  0.43536798, -0.11394163],\n",
      "       [-0.25638885, -0.56580609, -0.2628886 ]]), array([[ 0.33850101, -0.12425321,  0.5418405 ],\n",
      "       [ 0.33206483, -0.08690581,  0.47839852],\n",
      "       [-0.43155287, -0.20051097,  0.05709405]]), array([[-0.14524957,  0.63340092, -0.18508854],\n",
      "       [-0.10159119,  0.5592385 , -0.04348171],\n",
      "       [-0.2343934 ,  0.06674183, -0.39886614]]), array([[  7.85057563e-02,   4.09719077e-01,  -1.07228972e-01],\n",
      "       [ -2.41284177e-01,  -5.32472667e-01,  -2.47401004e-01],\n",
      "       [ -6.26205329e-01,  -1.39224637e-01,   7.93584532e-05]]), array([[  3.97531842e-01,  -1.04039409e-01,   5.72715417e-01],\n",
      "       [ -5.16634085e-01,  -2.40041976e-01,   6.83502171e-02],\n",
      "       [ -1.35083353e-01,   7.69979087e-05,   3.94577101e-01]]), array([[ -1.21591448e-01,   6.69335759e-01,  -5.20419571e-02],\n",
      "       [ -2.80538420e-01,   7.98812867e-02,  -4.77390903e-01],\n",
      "       [  8.99878930e-05,   4.61144498e-01,  -9.41150369e-02]])]\n"
     ]
    }
   ],
   "source": [
    "print XX_new"
   ]
  }
 ],
 "metadata": {
  "anaconda-cloud": {},
  "kernelspec": {
   "display_name": "Python [conda root]",
   "language": "python",
   "name": "conda-root-py"
  },
  "language_info": {
   "codemirror_mode": {
    "name": "ipython",
    "version": 3
   },
   "file_extension": ".py",
   "mimetype": "text/x-python",
   "name": "python",
   "nbconvert_exporter": "python",
   "pygments_lexer": "ipython3",
   "version": "3.5.2"
  }
 },
 "nbformat": 4,
 "nbformat_minor": 0
}

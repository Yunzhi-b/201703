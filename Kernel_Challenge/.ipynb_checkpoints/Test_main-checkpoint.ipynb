{
 "cells": [
  {
   "cell_type": "code",
   "execution_count": null,
   "metadata": {
    "collapsed": true
   },
   "outputs": [],
   "source": [
    "%matplotlib inline\n",
    "import numpy as np\n",
    "import matplotlib.pyplot as plt\n",
    "import pandas as pd"
   ]
  },
  {
   "cell_type": "code",
   "execution_count": null,
   "metadata": {
    "collapsed": true
   },
   "outputs": [],
   "source": [
    "path1 = \"Xtr.csv\"\n",
    "path2 = \"Ytr.csv\"\n",
    "path3 = \"Xte.csv\"\n",
    "#  training images\n",
    "Xtr = pd.read_csv(path1,header=None).dropna(axis='columns', how='all')\n",
    "Ytr = pd.read_csv(path2)\n",
    "#  test images\n",
    "Xte = pd.read_csv(path3,header=None).dropna(axis='columns', how='all')\n",
    "\n",
    "print (Xtr.shape,Ytr.shape,Xte.shape)"
   ]
  },
  {
   "cell_type": "code",
   "execution_count": null,
   "metadata": {
    "collapsed": true
   },
   "outputs": [],
   "source": [
    "\"\"\"\n",
    "two initial maps: \n",
    "- batch map, shape = (32,32,3)\n",
    "- gradient map, (colored) shape = (2,32,32,3), \"2\" because each element is (gradX,gradY)=RxR, gradients on two directions X,Y \n",
    "                (gray) shape = (2,32,32) \n",
    "\"\"\"\n",
    "# batch map\n",
    "# data.shape\n",
    "\n",
    "def batchmap(image):\n",
    "    r,c = image.shape\n",
    "    batch = []\n",
    "    for idx in range(r):\n",
    "        tmp = image.ix[idx]\n",
    "        R_channel,G_channel,B_channel = tmp[:1024],tmp[1024:2048],tmp[2048:]\n",
    "        R,G,B = np.reshape(R_channel,(32,32,1)),np.reshape(G_channel,(32,32,1)),np.reshape(B_channel,(32,32,1))\n",
    "        batch.append(np.concatenate((R,G,B),axis=2))\n",
    "    return batch\n",
    "\n",
    "def gradientmap_grey(image):\n",
    "    r,c = image.shape\n",
    "    gradient =[]\n",
    "    for idx in range(r):\n",
    "        tmp = image.ix[idx]\n",
    "        R_channel,G_channel,B_channel = tmp[:1024],tmp[1024:2048],tmp[2048:]\n",
    "        grey = np.mean( np.array([ R_channel, G_channel,B_channel ]), axis=0 )\n",
    "        grey = np.reshape(grey,(32,32))\n",
    "        grad_x, grad_y = np.gradient(grey)\n",
    "        grad_x = grad_x.reshape((32,32,1))\n",
    "        grad_y = grad_y.reshape((32,32,1))\n",
    "        gradient.append(np.concatenate((grad_x,grad_y),axis=2))\n",
    "    return gradient\n",
    "\n",
    "def gradientmap_color(image):\n",
    "    r,c = image.shape\n",
    "    gradient =[]\n",
    "    for idx in range(r):\n",
    "        tmp = image.ix[idx]\n",
    "        R_channel,G_channel,B_channel = tmp[:1024],tmp[1024:2048],tmp[2048:]\n",
    "        R,G,B = np.reshape(R_channel,(32,32)),np.reshape(G_channel,(32,32)),np.reshape(B_channel,(32,32))\n",
    "        grad_Rx, grad_Ry = np.gradient(R)\n",
    "        grad_Gx, grad_Gy = np.gradient(G)\n",
    "        grad_Bx, grad_By = np.gradient(B)\n",
    "        gradient.append(np.concatenate((grad_Rx.reshape(32,32,1),grad_Ry.reshape(32,32,1),grad_Gx.reshape(32,32,1)\n",
    "                                        ,grad_Gy.reshape(32,32,1),grad_Bx.reshape(32,32,1),grad_By.reshape(32,32,1)),axis=2))\n",
    "    return gradient"
   ]
  },
  {
   "cell_type": "code",
   "execution_count": null,
   "metadata": {
    "collapsed": true
   },
   "outputs": [],
   "source": [
    "y = Ytr['Prediction'].values\n",
    "X_train = gradientmap_grey(Xtr).reshape((5000,-1))\n",
    "X_test = gradientmap_grey(Xte).reshape((5000,-1))"
   ]
  },
  {
   "cell_type": "code",
   "execution_count": null,
   "metadata": {
    "collapsed": true
   },
   "outputs": [],
   "source": [
    "from sklearn.svm import SVC\n",
    "clf = SVC(C=1,kernel='rbf')\n",
    "clf.fit(X_train,y)\n",
    "y_sub = clf.predict(X_test)\n",
    "\n",
    "a = pd.DataFrame()\n",
    "a['Id'] = np.arange(len(y_sub))+1\n",
    "a['Prediction'] = y_sub\n",
    "a.to_csv('submission111.csv',index=False)"
   ]
  },
  {
   "cell_type": "code",
   "execution_count": null,
   "metadata": {
    "collapsed": true
   },
   "outputs": [],
   "source": [
    "X_train1 = gradientmap_color(Xtr).reshape((5000,-1))\n",
    "X_test1 = gradientmap_color(Xte).reshape((5000,-1))"
   ]
  },
  {
   "cell_type": "code",
   "execution_count": null,
   "metadata": {
    "collapsed": true
   },
   "outputs": [],
   "source": [
    "from sklearn.svm import SVC\n",
    "clf = SVC(C=1,kernel='rbf')\n",
    "clf.fit(X_train1,y)\n",
    "y_sub = clf.predict(X_test1)\n",
    "\n",
    "a = pd.DataFrame()\n",
    "a['Id'] = np.arange(len(y_sub))+1\n",
    "a['Prediction'] = y_sub\n",
    "a.to_csv('submission111.csv',index=False)"
   ]
  }
 ],
 "metadata": {
  "anaconda-cloud": {},
  "kernelspec": {
   "display_name": "Python [conda root]",
   "language": "python",
   "name": "conda-root-py"
  },
  "language_info": {
   "codemirror_mode": {
    "name": "ipython",
    "version": 3
   },
   "file_extension": ".py",
   "mimetype": "text/x-python",
   "name": "python",
   "nbconvert_exporter": "python",
   "pygments_lexer": "ipython3",
   "version": "3.5.2"
  }
 },
 "nbformat": 4,
 "nbformat_minor": 1
}

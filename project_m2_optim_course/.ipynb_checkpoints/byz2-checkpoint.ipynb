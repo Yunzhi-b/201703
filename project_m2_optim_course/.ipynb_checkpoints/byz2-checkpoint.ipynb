{
 "cells": [
  {
   "cell_type": "markdown",
   "metadata": {},
   "source": [
    "# PROJECT: Course Optimization for Data Science\n",
    "## Optimization strategies for Support Vector Machines (SVM)"
   ]
  },
  {
   "cell_type": "markdown",
   "metadata": {},
   "source": [
    "Authors: Alexandre Gramfort, Stéphane Gaiffas\n",
    "\n",
    "If you have questions or if something is not clear in the text below please contact us\n",
    "by email.\n",
    "\n",
    "## Aim:\n",
    "\n",
    "- derive the duals for SVMs with and without intercept\n",
    "- implement an SVM using a blackbox convex toolbox (cvxopt in Python)\n",
    "- implement your own solvers for the without intercept case: Proximal gradient, Coordinate Descent, Newton, Quasi-Newton\n",
    "- Present a clear benchmark of the different strategies on small and medium scale datasets\n",
    "\n",
    "\n",
    "## VERY IMPORTANT\n",
    "\n",
    "This work must be done by pairs of students.\n",
    "Each student must send their work before the 3rd of January at 23:59, using the moodle platform.\n",
    "This means that **each student in the pair sends the same file**\n",
    "\n",
    "On the moodle, in the \"Optimization for Data Science\" course, you have a \"devoir\" section called \"Project\".\n",
    "This is where you submit your jupyter notebook file.\n",
    "\n",
    "The name of the file must be constructed as in the next cell\n",
    "\n",
    "### Gentle reminder: no evaluation if you don't respect this EXACTLY\n",
    "\n",
    "#### How to construct the name of your file"
   ]
  },
  {
   "cell_type": "code",
   "execution_count": 1,
   "metadata": {
    "collapsed": false
   },
   "outputs": [
    {
     "name": "stdout",
     "output_type": "stream",
     "text": [
      "project_bai_yunzhi_and_zheng_jie.ipynb\n"
     ]
    }
   ],
   "source": [
    "# Change here using YOUR first and last names\n",
    "fn1 = \"yunzhi\"\n",
    "ln1 = \"bai\"\n",
    "fn2 = \"jie\"\n",
    "ln2 = \"zheng\"\n",
    "\n",
    "filename = \"_\".join(map(lambda s: s.strip().lower(), \n",
    "                        [\"project\", ln1, fn1, \"and\", ln2, fn2])) + \".ipynb\"\n",
    "print(filename)"
   ]
  },
  {
   "cell_type": "markdown",
   "metadata": {},
   "source": [
    "Some imports"
   ]
  },
  {
   "cell_type": "code",
   "execution_count": 2,
   "metadata": {
    "collapsed": false
   },
   "outputs": [],
   "source": [
    "%matplotlib inline\n",
    "import numpy as np\n",
    "from scipy import linalg\n",
    "import time\n",
    "import matplotlib.pyplot as plt"
   ]
  },
  {
   "cell_type": "markdown",
   "metadata": {},
   "source": [
    "## Important:\n",
    "\n",
    "For Part 0 to Part 2 of the project you will need a working install of `cvxopt`.\n",
    "You may struggle a bit to set it up.\n",
    "The simplest way of getting it is by typing \n",
    "\n",
    "`pip install cvxopt`\n",
    "\n",
    "if you have `pip` installed on your laptop.\n",
    "If you **struggle too much please\n",
    "contact us**."
   ]
  },
  {
   "cell_type": "markdown",
   "metadata": {},
   "source": [
    "## Part 0: SVM Classification with linear kernel"
   ]
  },
  {
   "cell_type": "markdown",
   "metadata": {},
   "source": [
    "Let us consider the problem of binary classification from $n$ observations\n",
    "$x_i \\in \\mathbb{R}^{d}$,\n",
    "$1 \\leq i \\leq n$. We aim to learn a function:\n",
    "$$f: x \\in \\mathbb{R}^{d}\\mapsto y\\in\\{-1,+1\\}$$\n",
    "from the $n$ annotated training samples $(x_{i},y_{i})$ supposed i.i.d. from an unknown probability distribution on $\\mathbb{R}^d \\times \\{-1,+1\\}$. Once this function is learnt, it will be possible to use it to predict the label $y$ associated to a new sample $x$."
   ]
  },
  {
   "cell_type": "markdown",
   "metadata": {},
   "source": [
    "Margin and linear separating hyperplane:\n",
    "\n",
    "<img src=\"separateur.png\">"
   ]
  },
  {
   "cell_type": "markdown",
   "metadata": {},
   "source": [
    "In the linear case, one looks for an affine function of $x$ of the form \n",
    "$f(x) = \\mathrm{sign}(w^{\\top} x)$ or $f(x)=\\mathrm{sign}(w^{\\top}x + b)$\n",
    "with $w \\in \\mathbb{R}^d$ and $b \\in \\mathbb{R}$. The first case is referred\n",
    "to as the **without intercept** case. Indeed the coefficient $b$ is known\n",
    "as the intercept or bias term.\n",
    "\n",
    "We will start by considering the case with intercept.\n",
    "\n",
    "To learn $f$, we use the $n$ annotated samples and one looks for a hyperplane $P(w,b)$\n",
    "such that the smallest distance to positive and negative samples\n",
    "is the largest. This can be written as:\n",
    "$$\n",
    " \\max_{w,b} \\min_{i=1:n} y_i \\delta(x_{i},P(w,b)) \\quad\n",
    " \\text{where}\\quad \\delta(x_{i},w,b) = \\frac{w^{\\top}x_{i}+b}{\\sqrt{w^{\\top}w}} \\enspace,\n",
    "$$\n",
    "since the signed distance from a sample $x_{i}$ to the hyperplane $P(w,b)$ is given by\n",
    "$\n",
    "\\delta(x_{i},w,b)\n",
    "$.\n",
    "The principle described above is the maximisation of the *margin*."
   ]
  },
  {
   "cell_type": "markdown",
   "metadata": {},
   "source": [
    "One can notice that if the minimum of a set of values is larger than $m$ than all values of the set are larger than $m$. This leads to the following problem formulation:\n",
    "$$\n",
    " \\left\\{\n",
    " \\begin{array}{cll}\n",
    " \\max_{(w,b)} \\quad m \\\\\n",
    " \\text{s.t.} \\;\\; &\\forall i &y_i\\dfrac{w^{\\top}x_{i}+b}{\\sqrt{w^{\\top}w}}\\geq m\n",
    " \\end{array}\n",
    " \\right. \\enspace .\n",
    "$$\n",
    "\n",
    "The hyperplane separates the space in 2 half spaces, depending if $\\delta(x_{i},w,b)$ is positive or negative."
   ]
  },
  {
   "cell_type": "markdown",
   "metadata": {},
   "source": [
    "Assuming all samples are linearly separable, convince yourself that the problem can be written as:\n",
    "$$\n",
    "(\\mathcal{P}):  \\left\\{\n",
    " \\begin{array}{cll}\n",
    " &\\min_{(w,b)} \\frac{1}{2}w^{\\top}w\n",
    " \\\\\n",
    "  &y_{i}(w^{\\top}x_{i}+b)\\geq 1, \\quad \\forall i\\in \\{1,\\cdots,n\\}\n",
    " \\end{array}\n",
    " \\right.\n",
    "$$"
   ]
  },
  {
   "cell_type": "markdown",
   "metadata": {},
   "source": [
    "### Questions"
   ]
  },
  {
   "cell_type": "markdown",
   "metadata": {},
   "source": [
    "- Q1: Justify that the problem $(\\mathcal{P})$ is convex."
   ]
  },
  {
   "cell_type": "markdown",
   "metadata": {},
   "source": [
    "**Q1 ANSWER:**"
   ]
  },
  {
   "cell_type": "markdown",
   "metadata": {},
   "source": [
    "We can create a new vector W as a concatenation of w and b. It means W=[w,b]. So the objective function f can be written like $$f = \\min_{W} \\frac{1}{2}(I^{*}W)^{\\top}(I^{*}W)$$\n",
    "<br>\n",
    "With I* the identity matrix but the last element is 0 instead of 1.\n",
    "<br>\n",
    "$$f(W_2)-f(W_1)-\\nabla_{f}(W_1)*(W_2-W_1) = \\frac{1}{2}(I^{*}W_2)^{\\top}(I^{*}W_2)-\\frac{1}{2}(I^{*}W_1)^{\\top}(I^{*}W_1)-(I^{*}W_1)^{\\top}(W_2-W_1)$$\n",
    "Notice that $$(I^{*}W_1)^{\\top}(W_2-W_1)=(I^{*}W_1)^{\\top}(I^{*}W_2-I^{*}W_1)$$\n",
    "So $$f(W_2)-f(W_1)-\\nabla_{f}(W_1)*(W_2-W_1) = \\frac{1}{2}(I^{*}W_2)^{\\top}(I^{*}W_2)-\\frac{1}{2}(I^{*}W_1)^{\\top}(I^{*}W_1)-(I^{*}W_1)^{\\top}(I^{*}W_2-I^{*}W_1)=\\frac{1}{2}(I^{*}W_2-I^{*}W_1)^{\\top}(I^{*}W_2-I^{*}W_1)\\geq 0$$\n",
    "So, the problem P is convex. $\\blacksquare$<br>\n",
    "****"
   ]
  },
  {
   "cell_type": "markdown",
   "metadata": {},
   "source": [
    "- Q2: By looking at the saddle points of the Lagrangian $\\mathcal{L}(w, b, \\mu)$, $\\mu \\in \\mathbb{R}_+^n$, show that the dual problem $(\\mathcal{D})$ can be written as:\n",
    "$$\n",
    "(\\mathcal{D}): \n",
    " \\left\\{\n",
    " \\begin{array}{lll}\n",
    " \\min_{\\mu} &\\frac{1}{2}\\mu^{\\top}GG^{t}\\mu-\\mu^{\\top}u\n",
    " \\\\\n",
    " \\mathrm{s.c.}& y^{\\top}\\mu = 0\n",
    " \\\\\n",
    " \\mathrm{and}& -\\mu \\leq  0\n",
    " \\end{array}\n",
    " \\right .\n",
    "$$\n",
    "\n",
    "with\n",
    "\n",
    "$$\n",
    " G = \\begin{bmatrix}y_{1}x_{1}^{\\top} \\\\ \\vdots \\\\ y_{n}x_{n}^{\\top}\\end{bmatrix}\n",
    "$$\n",
    "\n",
    "and $u = (1, \\dots, 1) \\in \\mathbb{R}^n$.\n",
    "\n",
    "We will **assume here qualification of the contraints**.\n",
    "\n",
    "Remark: The problem $(\\mathcal{D})$ is a *quadratic program* (QP) for which their exist off-the-shelf techniques. See below."
   ]
  },
  {
   "cell_type": "markdown",
   "metadata": {},
   "source": [
    "**Q2 ANSWER:**\n"
   ]
  },
  {
   "cell_type": "markdown",
   "metadata": {},
   "source": [
    "From the primal problem, we can write the Lagrangian function as following:\n",
    "$$L(w,b,\\mu)=\\frac{1}{2}w^{\\top}w + (u-Gw-b*y)^{\\top}\\mu$$ with $\\mu \\in \\mathbb{R}_+^n$ <br>\n",
    "<br>\n",
    "The dual function is:\n",
    "$$D(\\mu)=min_{(w,b)}L(w,b,\\mu)$$\n",
    "And the dual problem is :\n",
    "$$max_{\\mu}D(\\mu)$$\n",
    "<br>\n",
    "For the dual function, the minimum is obtained when their partial derivations equal to 0:\n",
    "$$ \\frac{\\partial L}{\\partial b}=-y^{\\top}\\mu=0 \\Rightarrow y^{\\top}\\mu=0 $$\n",
    "$$ \\frac{\\partial L}{\\partial w}=w-G^{\\top}\\mu=0 \\Rightarrow w=G^{\\top}\\mu $$\n",
    "<br>\n",
    "So we can get $D(\\mu)$ by the two above equations:\n",
    "$$D(\\mu)=\\frac{1}{2}\\mu^{\\top}GG^{\\top}\\mu+u^{\\top}\\mu-\\mu^{\\top}GG^{\\top}\\mu-b*y^{\\top}\\mu = -\\frac{1}{2}\\mu^{\\top}GG^{\\top}\\mu + u^{\\top}\\mu$$\n",
    "So the dual problem is $$ max_{\\mu} -\\frac{1}{2}\\mu^{\\top}GG^{t}\\mu+\\mu^{\\top}u \n",
    "\\Rightarrow min_{\\mu} \\frac{1}{2}\\mu^{\\top}GG^{t}\\mu-\\mu^{\\top}u$$\n",
    "\n",
    "s.c.    $y^{\\top}\\mu=0$ and $-\\mu \\leq 0$ $\\blacksquare$<br>\n",
    "****"
   ]
  },
  {
   "cell_type": "markdown",
   "metadata": {},
   "source": [
    "- Q3: Justify that given the estimated $\\mu$, the prediction function for a new sample $x$ is given by:\n",
    "\n",
    "$$\n",
    "y = \\mathrm{sign}(\\sum_{i=1}^{n} \\mu_i y_i x_i^\\top x + b) \\enspace .\n",
    "$$\n",
    "\n",
    "The vector $w$ is therefore equal to $\\sum_{i=1}^{n} \\mu_i y_i x_i$"
   ]
  },
  {
   "cell_type": "markdown",
   "metadata": {},
   "source": [
    "**Q3 ANSWER:**"
   ]
  },
  {
   "cell_type": "markdown",
   "metadata": {},
   "source": [
    "$y =\\mathrm{sign}(w^{\\top}x + b)$ and we know that $ w=G^{\\top}\\mu$. So\n",
    "$$y =\\mathrm{sign}(\\mu^{\\top}Gx + b)$$\n",
    "Knowing that $\\mu^{\\top}G = \\sum_{i=1}^{n} \\mu_i y_i x_i^\\top$, so\n",
    "$$y = \\mathrm{sign}(\\sum_{i=1}^{n} \\mu_i y_i x_i^\\top x + b) \\enspace .$$\n",
    "And $$w=G^{\\top}\\mu=\\sum_{i=1}^{n} \\mu_i y_i x_i$$\n",
    "$\\blacksquare$<br>\n",
    "****"
   ]
  },
  {
   "cell_type": "markdown",
   "metadata": {},
   "source": [
    "## Part 1: Implementation of solver with intercept using cvxopt"
   ]
  },
  {
   "cell_type": "markdown",
   "metadata": {},
   "source": [
    "The file svm_project_utils.py contains the code to generate some toy data and plot them"
   ]
  },
  {
   "cell_type": "code",
   "execution_count": 3,
   "metadata": {
    "collapsed": false
   },
   "outputs": [],
   "source": [
    "from svm_project_utils import plot_dataset, datasets"
   ]
  },
  {
   "cell_type": "code",
   "execution_count": 4,
   "metadata": {
    "collapsed": false
   },
   "outputs": [
    {
     "data": {
      "image/png": "[encoded data removed]",
      "text/plain": [
       "<matplotlib.figure.Figure at 0x7f2e8620ab90>"
      ]
     },
     "metadata": {},
     "output_type": "display_data"
    }
   ],
   "source": [
    "X, y = datasets(name='gaussian', n_points=300)\n",
    "plot_dataset(X, y)"
   ]
  },
  {
   "cell_type": "code",
   "execution_count": 5,
   "metadata": {
    "collapsed": false
   },
   "outputs": [
    {
     "name": "stdout",
     "output_type": "stream",
     "text": [
      "(300, 2) (300,)\n"
     ]
    }
   ],
   "source": [
    "print X.shape, y.shape"
   ]
  },
  {
   "cell_type": "markdown",
   "metadata": {},
   "source": [
    "- The following function qp allows to solve a quadratic problem of the form:\n",
    "\n",
    "$$\n",
    "\\left\\{\n",
    "  \\begin{array}{cll}\n",
    "  &\\min_{(x)} \\frac{1}{2}x^{\\top} H x - e^\\top x\n",
    "  \\\\\n",
    "   & \\textrm{s.c.}\\; A^\\top x = b, 0 \\leq x \\leq C.\n",
    "  \\end{array}\n",
    "  \\right.\n",
    "$$"
   ]
  },
  {
   "cell_type": "code",
   "execution_count": 6,
   "metadata": {
    "collapsed": false
   },
   "outputs": [],
   "source": [
    "import cvxopt\n",
    "\n",
    "\n",
    "def qp(H, e, A, b, C=np.inf, l=1e-8, verbose=True):\n",
    "    # Gram matrix\n",
    "    n = H.shape[0]\n",
    "    H = cvxopt.matrix(H)\n",
    "    A = cvxopt.matrix(y, (1, n))\n",
    "    e = cvxopt.matrix(-e)\n",
    "    b = cvxopt.matrix(0.0)\n",
    "    if C == np.inf:\n",
    "        G = cvxopt.matrix(np.diag(np.ones(n) * -1))\n",
    "        h = cvxopt.matrix(np.zeros(n))\n",
    "    else:\n",
    "        G = cvxopt.matrix(np.concatenate([np.diag(np.ones(n) * -1),\n",
    "                                         np.diag(np.ones(n))], axis=0))\n",
    "        h = cvxopt.matrix(np.concatenate([np.zeros(n), C * np.ones(n)]))\n",
    "\n",
    "    # Solve QP problem\n",
    "    cvxopt.solvers.options['show_progress'] = verbose\n",
    "    solution = cvxopt.solvers.qp(H, e, G, h, A, b)\n",
    " \n",
    "    # Lagrange multipliers\n",
    "    mu = np.ravel(solution['x'])\n",
    "    return mu"
   ]
  },
  {
   "cell_type": "markdown",
   "metadata": {},
   "source": [
    "Definition of the linear kernel:"
   ]
  },
  {
   "cell_type": "code",
   "execution_count": 7,
   "metadata": {
    "collapsed": true
   },
   "outputs": [],
   "source": [
    "def kernel(X1, X2):\n",
    "    n1 = X1.shape[0]\n",
    "    n2 = X2.shape[0]\n",
    "    K = np.empty((n1, n2))\n",
    "    for i in range(n1):\n",
    "        for j in range(n2):\n",
    "            K[i, j] = np.dot(X1[i], X2[j])\n",
    "    return K"
   ]
  },
  {
   "cell_type": "markdown",
   "metadata": {},
   "source": [
    "### Questions\n",
    "\n",
    "- Q4: Modify the following cell to solve the SVM dual problem:"
   ]
  },
  {
   "cell_type": "markdown",
   "metadata": {},
   "source": [
    "**Q4 ANSWER:**"
   ]
  },
  {
   "cell_type": "code",
   "execution_count": 8,
   "metadata": {
    "collapsed": false
   },
   "outputs": [
    {
     "name": "stdout",
     "output_type": "stream",
     "text": [
      "Number of support vectors: 3\n"
     ]
    },
    {
     "data": {
      "image/png": "[encoded data removed]",
      "text/plain": [
       "<matplotlib.figure.Figure at 0x7f2e830a2ed0>"
      ]
     },
     "metadata": {},
     "output_type": "display_data"
    }
   ],
   "source": [
    "X, y = datasets(name='gaussian', n_points=300, sigma=0.7)\n",
    "plot_dataset(X, y)\n",
    "\n",
    "# TODO\n",
    "def svm_solver(K, y, C=np.inf):\n",
    "    n = y.shape[0]\n",
    "    H = y[:,None]*K*y[None,:]  # GG.T = yi*yj*np.dot(xi,xj)\n",
    "    e = np.ones(n) \n",
    "    A = y\n",
    "    b = 0.\n",
    "    mu = qp(H, e, A, b, C, l=1e-8, verbose=False)\n",
    "    idx_support = np.where(np.abs(mu) > 1e-5)[0]\n",
    "    mu_support = mu[idx_support]\n",
    "    return mu_support, idx_support\n",
    "\n",
    "K = kernel(X, X)\n",
    "\n",
    "# Uncomment the following lines when your svm_solver is completed:\n",
    "mu_support, idx_support = svm_solver(K, y)\n",
    "print(\"Number of support vectors: %s\" % idx_support.size)"
   ]
  },
  {
   "cell_type": "markdown",
   "metadata": {},
   "source": [
    "- Q5: Compute w from mu and b"
   ]
  },
  {
   "cell_type": "markdown",
   "metadata": {},
   "source": [
    "**Q5 ANSWER:**"
   ]
  },
  {
   "cell_type": "code",
   "execution_count": 9,
   "metadata": {
    "collapsed": false
   },
   "outputs": [
    {
     "name": "stdout",
     "output_type": "stream",
     "text": [
      "w:  [ 1.27793836  0.66077041]\n"
     ]
    }
   ],
   "source": [
    "# TODO\n",
    "y_support = y[idx_support]\n",
    "X_support = X[idx_support]\n",
    "\n",
    "w = np.dot(mu_support * y_support,X_support)\n",
    "print \"w: \", w"
   ]
  },
  {
   "cell_type": "code",
   "execution_count": 10,
   "metadata": {
    "collapsed": false
   },
   "outputs": [
    {
     "name": "stdout",
     "output_type": "stream",
     "text": [
      "(3,)\n",
      "(3, 2)\n"
     ]
    }
   ],
   "source": [
    "print mu_support.shape\n",
    "print X_support.shape"
   ]
  },
  {
   "cell_type": "markdown",
   "metadata": {},
   "source": [
    "- Q6: Using complementary slackness, explain how to obtain $b$ from $\\mu$.\n",
    "\n",
    "HINT: Use the fact that for all support vectors for which $\\mu_i$ is non-zero one has $y_{i}(w^{t}x_{i}+b) = 1$."
   ]
  },
  {
   "cell_type": "markdown",
   "metadata": {},
   "source": [
    "**Q6 ANSWER:**"
   ]
  },
  {
   "cell_type": "code",
   "execution_count": 11,
   "metadata": {
    "collapsed": false
   },
   "outputs": [
    {
     "name": "stdout",
     "output_type": "stream",
     "text": [
      "-0.240107502967\n"
     ]
    }
   ],
   "source": [
    "# TODO\n",
    "\n",
    "def compute_b(K, y, mu_support, idx_support):\n",
    "    # TODO\n",
    "    y_support = y[idx_support]\n",
    "    K_support = K[idx_support][:, idx_support]\n",
    "    \n",
    "    g = np.dot(y_support*mu_support, (K[idx_support][:, idx_support])[:,0])\n",
    "    b = 1./y_support[0] - g\n",
    "    return b\n",
    "\n",
    "b = compute_b(K, y, mu_support, idx_support)\n",
    "print b"
   ]
  },
  {
   "cell_type": "markdown",
   "metadata": {},
   "source": [
    "- Q7: Verify that the constraints of the primal problem are satistified up to an acceptable numerical precision. You should verify that for all $i$ we have:\n",
    "\n",
    "$$\n",
    "y_{i}(w^{\\top}x_{i}+b) \\geq 1 - \\epsilon\n",
    "$$\n",
    "\n",
    "using for example $\\epsilon = 1e-5$."
   ]
  },
  {
   "cell_type": "markdown",
   "metadata": {},
   "source": [
    "**Q7 ANSWER:**"
   ]
  },
  {
   "cell_type": "code",
   "execution_count": 12,
   "metadata": {
    "collapsed": false
   },
   "outputs": [
    {
     "name": "stdout",
     "output_type": "stream",
     "text": [
      "True\n"
     ]
    }
   ],
   "source": [
    "# TODO\n",
    "l = 1e-5\n",
    "n = y.shape[0]\n",
    "satisfied = True\n",
    "for i in range(n):\n",
    "    if (y[i]*(np.dot(w,X[i,:])+b)-1+l< 0): \n",
    "#        print \"for i=\", i, \"the constraint 1e-5 is not satisfied\" \n",
    "        satisfied = False\n",
    "print satisfied"
   ]
  },
  {
   "cell_type": "markdown",
   "metadata": {},
   "source": [
    "Check your code by running the following cell:"
   ]
  },
  {
   "cell_type": "code",
   "execution_count": 13,
   "metadata": {
    "collapsed": false
   },
   "outputs": [
    {
     "data": {
      "image/png": "[encoded data removed]",
      "text/plain": [
       "<matplotlib.figure.Figure at 0x7f2e835fd9d0>"
      ]
     },
     "metadata": {},
     "output_type": "display_data"
    }
   ],
   "source": [
    "X, y = datasets(name='gaussian', n_points=300, sigma=0.7)\n",
    "\n",
    "K = kernel(X, X)\n",
    "mu_support, idx_support = svm_solver(K, y)\n",
    "b = compute_b(K, y, mu_support, idx_support)\n",
    "\n",
    "def plot_classif(X, y, mu_support, idx_support, b, kernel=kernel):\n",
    "    # Calcul de la fonction de décision sur une grille\n",
    "    X1, X2 = np.mgrid[-4:4:0.1, -4:4:0.1]\n",
    "    na, nb = X1.shape\n",
    "    X_test = np.c_[np.reshape(X1, (na * nb, 1)),\n",
    "                   np.reshape(X2, (na * nb, 1))]\n",
    "\n",
    "    # Calcul des produits scalaires\n",
    "    X_support = X[idx_support]\n",
    "    G = kernel(X_test, X_support)\n",
    "    # Calcul de la fonction de décision\n",
    "    decision = G.dot(mu_support * y[idx_support]) + b\n",
    "\n",
    "    # Calcul du label prédit\n",
    "    y_pred = np.sign(decision)\n",
    "\n",
    "    # Affichage des lignes de niveau de la fonction de decision\n",
    "    plt.contourf(X1, X2, np.reshape(decision, (na, nb)), 20, cmap=plt.cm.gray)\n",
    "    cs = plt.contour(X1, X2, np.reshape(decision, (na,nb)), [-1, 0, 1], color='g', linewidth=2)\n",
    "    plt.clabel(cs, inline=1)\n",
    "    plt.plot(X[y == 1,0], X[y == 1, 1], 'or', linewidth=2)\n",
    "    plt.plot(X[y == -1,0], X[y == -1, 1], 'ob', linewidth=2)\n",
    "    plt.xlabel('x1')\n",
    "    plt.ylabel('x2')\n",
    "    plt.xlim([-4, 4])\n",
    "    plt.ylim([-4, 4])\n",
    "\n",
    "plot_classif(X, y, mu_support, idx_support, b)"
   ]
  },
  {
   "cell_type": "markdown",
   "metadata": {},
   "source": [
    "We will now change the value of $\\sigma$ such that the problem is not linearily separable anymore."
   ]
  },
  {
   "cell_type": "code",
   "execution_count": 14,
   "metadata": {
    "collapsed": false
   },
   "outputs": [
    {
     "data": {
      "image/png": "[encoded data removed]",
      "text/plain": [
       "<matplotlib.figure.Figure at 0x7f2e8620a950>"
      ]
     },
     "metadata": {},
     "output_type": "display_data"
    }
   ],
   "source": [
    "X, y = datasets(name='gaussian', n_points=300, sigma=1.5)\n",
    "plot_dataset(X, y)"
   ]
  },
  {
   "cell_type": "code",
   "execution_count": 15,
   "metadata": {
    "collapsed": false
   },
   "outputs": [],
   "source": [
    "K = kernel(X, X)\n",
    "mu_support, idx_support = svm_solver(K, y)\n",
    "b = compute_b(K, y, mu_support, idx_support)\n",
    "w = np.sum((mu_support * y[idx_support])[: , None] * X[idx_support], axis=0)"
   ]
  },
  {
   "cell_type": "markdown",
   "metadata": {},
   "source": [
    "- Q8: Check that contraints of the problem are now violated."
   ]
  },
  {
   "cell_type": "markdown",
   "metadata": {},
   "source": [
    "**Q8 ANSWER:**"
   ]
  },
  {
   "cell_type": "code",
   "execution_count": 16,
   "metadata": {
    "collapsed": false
   },
   "outputs": [
    {
     "name": "stdout",
     "output_type": "stream",
     "text": [
      "False\n"
     ]
    }
   ],
   "source": [
    "# TODO\n",
    "l = 1e-5\n",
    "n = y.shape[0]\n",
    "satisfied = True\n",
    "for i in range(n):\n",
    "    if (y[i]*(np.dot(w,X[i,:])+b)-1+l< 0): \n",
    "#        print \"for i=\", i, \"the constraint 1e-5 is not satisfied\" \n",
    "        satisfied = False\n",
    "print satisfied"
   ]
  },
  {
   "cell_type": "markdown",
   "metadata": {},
   "source": [
    "## Part 0: Non separable case with cvxopt"
   ]
  },
  {
   "cell_type": "markdown",
   "metadata": {},
   "source": [
    "In practice it is very likely that the classes are not linearly separable.\n",
    "\n",
    "A very natural idea is to relax the constraints $y_{i}(w^\\top x_i + c) \\geq 1$.\n",
    "To do this, so called soft-margin SVM have been introduced using\n",
    "so called slack variables: $\\xi_{i}\\geq 0$. The problem becomes:\n",
    "\n",
    "$$\n",
    " y_{i}(w^\\top x_i + b) \\geq 1 - \\xi_i, \\; \\xi_i \\geq 0 \\enspace .\n",
    "$$\n",
    "\n",
    "Note that if $\\xi_i > 1$, the sample $x_{i}$ will be misclassified. To prevent\n",
    "this case to be too frequent, an idea is to minimize the sum of the $\\xi_{i}$.\n",
    "This leads to the following problem:\n",
    "\n",
    "$$\n",
    "(P_{s}):  \\left\\{\n",
    " \\begin{array}{ll}\n",
    " \\min_{(w,b,\\xi)} & \\frac{1}{2}w^{\\top}w + C \\sum_i \\xi_i\n",
    " \\\\\n",
    " \\mathrm{s.t.} & y_{i}(w^{\\top}x_{i}+b) \\geq 1 - \\xi_i\\\\\n",
    " \\mathrm{and} & -\\xi_i \\leq 0\n",
    " \\end{array}\n",
    " \\right.\n",
    "$$\n",
    "\n",
    "The constant $C$ controls the regularisation."
   ]
  },
  {
   "cell_type": "markdown",
   "metadata": {},
   "source": [
    "### Questions"
   ]
  },
  {
   "cell_type": "markdown",
   "metadata": {},
   "source": [
    "- Q9: Justify that $(P_{s})$ is a convex problem"
   ]
  },
  {
   "cell_type": "markdown",
   "metadata": {},
   "source": [
    "**Q9 Answer (1):**"
   ]
  },
  {
   "cell_type": "markdown",
   "metadata": {},
   "source": [
    "From the question 1, we have already justified that $min_{(w,b)} \\frac{1}{2}w^{\\top}w$ is convex. By the same logic, we could justified that $min_{(w,b,\\xi)} \\frac{1}{2}w^{\\top}w$ is also convex.\n",
    "<br>\n",
    "And we could easily know that $min_{(w,b,\\xi)}  C \\sum_i \\xi_i$ is also convex, as it is a linear function.\n",
    "<br>\n",
    "As the sum of two convex function is also a convex function, the $(P_{s})$ is a convex function.\n",
    "****"
   ]
  },
  {
   "cell_type": "markdown",
   "metadata": {},
   "source": [
    "- Show that a dual problem of $(P_{s})$ reads:\n",
    "\n",
    "$$\n",
    "(\\mathcal{D}):\n",
    "\\left\\{\n",
    "\\begin{array}{lll}\n",
    "\\min_{\\mu} &\\frac{1}{2}\\mu^{\\top}GG^{\\top}\\mu-\\mu^{\\top}u\n",
    "\\\\\n",
    "\\mathrm{s.t.}& y^{\\top}\\mu = 0\n",
    "\\\\\n",
    "\\mathrm{et}& 0 \\leq \\mu \\leq C\n",
    "\\end{array}\n",
    "\\right .\n",
    "$$"
   ]
  },
  {
   "cell_type": "markdown",
   "metadata": {},
   "source": [
    "**Q9 Answer (2):**"
   ]
  },
  {
   "cell_type": "markdown",
   "metadata": {},
   "source": [
    "From the primal problem, we can write the Lagrangian function as following:\n",
    "$$L(w,b,\\xi,\\mu,v)=\\frac{1}{2}w^{\\top}w + C u^{\\top}\\xi + (u-\\xi-Gw-b*y)^{\\top}\\mu-\\xi^{\\top}v$$ with $\\mu \\in \\mathbb{R}_+^n$ and $v \\in \\mathbb{R}_+^n$ <br>\n",
    "<br>\n",
    "The dual function is:\n",
    "$$D(\\mu)=min_{(w,b,\\xi)}L(w,b,\\xi,\\mu,v)$$\n",
    "And the dual problem is :\n",
    "$$max_{\\mu,v}D(\\mu,v)$$\n",
    "<br>\n",
    "For the dual function, the minimum is obtained when their partial derivations equal to 0:\n",
    "$$ \\frac{\\partial L}{\\partial b}=-y^{\\top}\\mu=0 \\Rightarrow y^{\\top}\\mu=0 $$\n",
    "$$ \\frac{\\partial L}{\\partial w}=w-G^{\\top}\\mu=0 \\Rightarrow w=G^{\\top}\\mu $$\n",
    "$$ \\frac{\\partial L}{\\partial \\xi}=Cu-\\mu-v=0 \\Rightarrow v=Cu-\\mu $$\n",
    "<br>\n",
    "So we can get $D(\\mu)$ by the three above equations:\n",
    "$$D(\\mu,v) = -\\frac{1}{2}\\mu^{\\top}GG^{\\top}\\mu + u^{\\top}\\mu$$\n",
    "with $\\mu \\geq 0$ and $v \\geq 0$, using $v=Cu-\\mu$, we get $0 \\leq \\mu \\leq C$ <br><br>\n",
    "Cause there is not v in the function D, we can rewrite it:\n",
    "$$D(\\mu) = -\\frac{1}{2}\\mu^{\\top}GG^{\\top}\\mu + u^{\\top}\\mu$$\n",
    "with $0 \\leq \\mu \\leq C$ <br>.\n",
    "<br>\n",
    "So the dual problem is $$ max_{\\mu} -\\frac{1}{2}\\mu^{\\top}GG^{t}\\mu+\\mu^{\\top}u \n",
    "\\Rightarrow min_{\\mu} \\frac{1}{2}\\mu^{\\top}GG^{t}\\mu-\\mu^{\\top}u$$\n",
    "\n",
    "s.c.    $y^{\\top}\\mu=0$ and $0 \\leq \\mu \\leq C$  $\\blacksquare$<br>\n",
    "****"
   ]
  },
  {
   "cell_type": "markdown",
   "metadata": {},
   "source": [
    "- Q10: Modify your code from Q4 to handle the non-separable case."
   ]
  },
  {
   "cell_type": "markdown",
   "metadata": {},
   "source": [
    "**Q10 ANSWER:**"
   ]
  },
  {
   "cell_type": "code",
   "execution_count": 17,
   "metadata": {
    "collapsed": false
   },
   "outputs": [
    {
     "data": {
      "image/png": "[encoded data removed]",
      "text/plain": [
       "<matplotlib.figure.Figure at 0x7f2e817bfad0>"
      ]
     },
     "metadata": {},
     "output_type": "display_data"
    }
   ],
   "source": [
    "# TODO\n",
    "\n",
    "X, y = datasets(name='gaussian', n_points=300, sigma=1.7)\n",
    "\n",
    "K = kernel(X, X)\n",
    "C = 0.5\n",
    "mu_support, idx_support = svm_solver(K, y, C)\n",
    "b = compute_b(K, y, mu_support, idx_support)\n",
    "\n",
    "plot_classif(X, y, mu_support, idx_support, b)"
   ]
  },
  {
   "cell_type": "markdown",
   "metadata": {},
   "source": [
    "- Q11: What is the influence of C on the number of support vectors? Justify this from an optimization stand point."
   ]
  },
  {
   "cell_type": "markdown",
   "metadata": {},
   "source": [
    "**Q11 ANSWER:**"
   ]
  },
  {
   "cell_type": "code",
   "execution_count": 18,
   "metadata": {
    "collapsed": false
   },
   "outputs": [
    {
     "name": "stdout",
     "output_type": "stream",
     "text": [
      "C:  0.001 number of support vectors: 195\n",
      "C:  0.01 number of support vectors: 92\n",
      "C:  0.1 number of support vectors: 54\n",
      "C:  1 number of support vectors: 41\n",
      "C:  10 number of support vectors: 39\n"
     ]
    }
   ],
   "source": [
    "list_C = [1e-3, 1e-2, 1e-1, 1,10]\n",
    "for C in list_C:\n",
    "    mu_support, idx_support = svm_solver(K, y, C)\n",
    "    print \"C: \",C, \"number of support vectors:\", idx_support.size"
   ]
  },
  {
   "cell_type": "markdown",
   "metadata": {},
   "source": [
    "- Basically, the smaller the value of C, the greater the number of support vectors. \n",
    "- This is because when C is small, the regulazation part $ C \\sum_i \\xi_i $ has small influence, more X can be misclassified. Thus the optimization will choose a larger-margin separating hyperplane, where the distribution of points is more intensive, more points will appear on the hyperplanes."
   ]
  },
  {
   "cell_type": "markdown",
   "metadata": {},
   "source": [
    "## Part 2: non-linear case with kernels"
   ]
  },
  {
   "cell_type": "markdown",
   "metadata": {},
   "source": [
    "Another scenario is when the boundary between classes is not linear.\n",
    "\n",
    "To cope with this the idea is to use kernels.\n",
    "\n",
    "- Q12: Denoting by $K(x_i, x_j)$ the dot product between samples show that dual problem and the decision function f(x) can be reformulated just using calls to $K$"
   ]
  },
  {
   "cell_type": "markdown",
   "metadata": {},
   "source": [
    "**Q12 ANSWER:**"
   ]
  },
  {
   "cell_type": "markdown",
   "metadata": {},
   "source": [
    "In the linar case, we have $$y = f(x) = \\mathrm{sign}(\\sum_{i=1}^{n} \\mu_i y_i x_i^\\top x + b) \\enspace .$$\n",
    "$$min_{\\mu} \\frac{1}{2}\\mu^{\\top}GG^{\\top}\\mu-\\mu^{\\top}u$$\n",
    "\n",
    "In the non-linear case, by denoting K(xi,xj) the dot product between samples, we can rewrite the above function and problem as following:\n",
    "$$ f(x) =  \\mathrm{sign}(\\sum_{i=1}^{n} \\mu_i y_i K(x_i^\\top, x) + b) \\enspace  $$\n",
    "$$ min_{\\mu} \\frac{1}{2}\\mu^{\\top}(y^{\\top}*K*y)\\mu-\\mu^{\\top}u $$"
   ]
  },
  {
   "cell_type": "markdown",
   "metadata": {},
   "source": [
    "We will use the clowns dataset to evaluate this:"
   ]
  },
  {
   "cell_type": "code",
   "execution_count": 19,
   "metadata": {
    "collapsed": false
   },
   "outputs": [
    {
     "data": {
      "image/png": "[encoded data removed]",
      "text/plain": [
       "<matplotlib.figure.Figure at 0x7f2e8356ee50>"
      ]
     },
     "metadata": {},
     "output_type": "display_data"
    }
   ],
   "source": [
    "X, y = datasets(name='clowns', n_points=200, sigma=0.7)\n",
    "\n",
    "plot_dataset(X, y)"
   ]
  },
  {
   "cell_type": "markdown",
   "metadata": {},
   "source": [
    "- Q13: Update your kernel function so it computes the Gaussian kernel:\n",
    "\n",
    "$$\n",
    "    K(x_i, x_j) = \\exp(-\\gamma \\| x_i - x_j \\|)\n",
    "$$\n",
    "\n",
    "where $\\gamma > 0$ is the kernel bandwidth."
   ]
  },
  {
   "cell_type": "markdown",
   "metadata": {},
   "source": [
    "**Q13 Answer:**"
   ]
  },
  {
   "cell_type": "code",
   "execution_count": 20,
   "metadata": {
    "collapsed": true
   },
   "outputs": [],
   "source": [
    "# TODO\n",
    "\n",
    "\n",
    "from scipy import linalg\n",
    "\n",
    "def rbf_kernel(X1, X2):\n",
    "    n1 = X1.shape[0]\n",
    "    n2 = X2.shape[0]\n",
    "    K = np.empty((n1, n2))\n",
    "    gamma = 3.\n",
    "    for i in range(n1):\n",
    "        for j in range(n2):\n",
    "            K[i, j] = np.exp(-gamma * np.sqrt(np.sum((X1[i] -X2[j])**2)))\n",
    "    return K"
   ]
  },
  {
   "cell_type": "markdown",
   "metadata": {},
   "source": [
    "Using the change above the follwing code should allow you to nicely separate the red from the blue dots"
   ]
  },
  {
   "cell_type": "code",
   "execution_count": 21,
   "metadata": {
    "collapsed": false
   },
   "outputs": [
    {
     "data": {
      "image/png": "[encoded data removed]",
      "text/plain": [
       "<matplotlib.figure.Figure at 0x7f2e8011f590>"
      ]
     },
     "metadata": {},
     "output_type": "display_data"
    }
   ],
   "source": [
    "X, y = datasets(name='clowns', n_points=200, sigma=0.7)\n",
    "\n",
    "K = rbf_kernel(X, X)\n",
    "mu_support, idx_support = svm_solver(K, y, C=1.)\n",
    "b = compute_b(K, y, mu_support, idx_support)\n",
    "\n",
    "plot_classif(X, y, mu_support, idx_support, b, kernel=rbf_kernel)"
   ]
  },
  {
   "cell_type": "markdown",
   "metadata": {},
   "source": [
    "## Part 3: Linear SVM without intercept"
   ]
  },
  {
   "cell_type": "markdown",
   "metadata": {},
   "source": [
    "The problem of the formuation of SVMs with the intercept term $b$ is that\n",
    "it leads to an annoying constraint in the dual, namely the $y^{t}\\mu = 0$.\n",
    "\n",
    "We will now see what we can do about it.\n",
    "\n",
    "Let's consider the problem\n",
    "\n",
    "$$\n",
    "(P'_{s}):  \\left\\{\n",
    " \\begin{array}{ll}\n",
    " \\min_{(w,\\xi)} & \\frac{1}{2}w^{\\top}w + C \\sum_i \\xi_i\n",
    " \\\\\n",
    " \\mathrm{s.t.} & y_{i}(w^{\\top}x_{i}) \\geq 1 - \\xi_i\\\\\n",
    " \\mathrm{and} & -\\xi_i \\leq 0\n",
    " \\end{array}\n",
    " \\right.\n",
    "$$"
   ]
  },
  {
   "cell_type": "markdown",
   "metadata": {},
   "source": [
    "- Q14: Show that a dual problem of $(P'_{s})$ is given by:\n",
    "\n",
    "$$\n",
    "(\\mathcal{D}):\n",
    "\\left\\{\n",
    "\\begin{array}{lll}\n",
    "\\min_{\\mu} &\\frac{1}{2}\\mu^{\\top}GG^{\\top}\\mu-\\mu^{\\top} 1_n\n",
    "\\\\\n",
    "\\mathrm{s.t.}& 0 \\leq \\mu \\leq C\n",
    "\\end{array}\n",
    "\\right .\n",
    "$$"
   ]
  },
  {
   "cell_type": "markdown",
   "metadata": {},
   "source": [
    "**Q14 ANSWER:**"
   ]
  },
  {
   "cell_type": "markdown",
   "metadata": {},
   "source": [
    "From the primal problem, we can write the Lagrangian function as following:\n",
    "$$L(w,\\xi,\\mu,v)=\\frac{1}{2}w^{\\top}w + C u^{\\top}\\xi + (u-\\xi-Gw)^{\\top}\\mu-\\xi^{\\top}v$$ \n",
    "with $\\mu \\in \\mathbb{R}_+^n$ and $v \\in \\mathbb{R}_+^n$ <br>\n",
    "<br>\n",
    "The dual function is:\n",
    "$$D(\\mu)=min_{(w,\\xi)}L(w,\\xi,\\mu,v)$$\n",
    "And the dual problem is :\n",
    "$$max_{\\mu,v}D(\\mu,v)$$\n",
    "<br>\n",
    "For the dual function, the minimum is obtained when their partial derivations equal to 0:\n",
    "$$ \\frac{\\partial L}{\\partial w}=w-G^{\\top}\\mu=0 \\Rightarrow w=G^{\\top}\\mu $$\n",
    "$$ \\frac{\\partial L}{\\partial \\xi}=Cu-\\mu-v=0 \\Rightarrow v=Cu-\\mu $$\n",
    "<br>\n",
    "So we can get $D(\\mu)$ by the three above equations:\n",
    "$$D(\\mu,v) = -\\frac{1}{2}\\mu^{\\top}GG^{\\top}\\mu + u^{\\top}\\mu$$\n",
    "with $\\mu \\geq 0$ and $v \\geq 0$, using $v=Cu-\\mu$, we get $0 \\leq \\mu \\leq C$ <br><br>\n",
    "Cause there is not v in the function D, we can rewrite it:\n",
    "$$D(\\mu) = -\\frac{1}{2}\\mu^{\\top}GG^{\\top}\\mu + u^{\\top}\\mu$$\n",
    "with $0 \\leq \\mu \\leq C$ <br>.\n",
    "<br>\n",
    "So the dual problem is $$ max_{\\mu} -\\frac{1}{2}\\mu^{\\top}GG^{\\top}\\mu+\\mu^{\\top}u \n",
    "\\Rightarrow min_{\\mu} \\frac{1}{2}\\mu^{\\top}GG^{\\top}\\mu-\\mu^{\\top}u$$\n",
    "\n",
    "s.c.    $0 \\leq \\mu \\leq C$  $\\blacksquare$<br>\n",
    "****"
   ]
  },
  {
   "cell_type": "markdown",
   "metadata": {},
   "source": [
    "- Q15: Rewrite the dual in the form:\n",
    "\n",
    "\n",
    "$$\n",
    "(\\mathcal{D}): \\min_{\\mu} f(\\mu) + g(\\mu) .\n",
    "$$\n",
    "\n",
    "where $f$ is here a smooth function of $\\mu$ with L-Liptschitz gradient and $g$ is a non-smooth function that is separable, namely:\n",
    "\n",
    "$$\n",
    "g(\\mu) = \\sum_{i=1}^n g_i(\\mu_i)\n",
    "$$"
   ]
  },
  {
   "cell_type": "markdown",
   "metadata": {},
   "source": [
    "**Q15 ANSWER:**"
   ]
  },
  {
   "cell_type": "markdown",
   "metadata": {},
   "source": [
    "$$f(\\mu) = \\frac{1}{2}\\mu^{\\top}GG^{\\top}\\mu-\\mu^{\\top} 1_n$$ <br>\n",
    "$$g(\\mu) = I_{[0,C]}(\\mu)$$ <br>\n",
    "$$\\nabla_{f}(\\mu) = GG^{\\top}\\mu-1_n $$"
   ]
  },
  {
   "cell_type": "markdown",
   "metadata": {},
   "source": [
    "The dual in the later form can be readily optimized using the methods that you have been studying in this class:\n",
    "\n",
    "- Proximal gradient method with and without acceleration\n",
    "- L-BFGS-B\n",
    "- Coordinate descent"
   ]
  },
  {
   "cell_type": "markdown",
   "metadata": {},
   "source": [
    "- Q16: Implement:\n",
    "\n",
    "   - your own version of proximal gradient with and without acceleration\n",
    "   - your own version of coordinate descent\n",
    "   - an L-BFGS-B solver using `scipy.optimize.fmin_l_bfgs_b`\n",
    "\n",
    "Note: We restrict ourselves to linear kernel here.\n",
    "\n",
    "Note: To handle separating hyperplanes which do not pass throw zero (due to abscence of intercept)\n",
    "you will add a column of ones to X. You can use something like this:\n",
    "\n",
    "`X = np.concatenate((X, np.ones((len(X), 1))), axis=1)`"
   ]
  },
  {
   "cell_type": "markdown",
   "metadata": {},
   "source": [
    "You will test your implementations on the Gaussian blobs and evaluate the performance of your implementations in terms of computation time on problems where the matrix $G G^\\top$ can fit in memory.\n",
    "\n",
    "You should reuse as much as possible the convergence evaluation code that you used during the labs.\n",
    "\n",
    "For a coordinate descent method to be fast you need to have smart updates. You're expected to\n",
    "come up with these smart updates in the problem at hand.\n",
    "\n",
    "BONUS : With a smart implementation of the coordinate descent you should be able to scale the optimization to tens of thousands of samples ie cases where $G G^\\top$ does not fit in memory anymore.\n",
    "\n",
    "**IMPORTANT : This question Q16 is the most important and will constitute half of the final grade on the project !**"
   ]
  },
  {
   "cell_type": "markdown",
   "metadata": {},
   "source": [
    "**Q16 Answer:**"
   ]
  },
  {
   "cell_type": "code",
   "execution_count": 22,
   "metadata": {
    "collapsed": true
   },
   "outputs": [],
   "source": [
    "def svm_solver_1(K, y, C=np.inf):\n",
    "    n = y.shape[0]\n",
    "    H = y[:,None]*K*y[None,:]  # GG.T = yi*yj*np.dot(xi,xj)\n",
    "    e = np.ones(n) \n",
    "    A = np.zeros(y.shape)\n",
    "    b = 0.\n",
    "    mu = qp(H, e, A, b, C, l=1e-8, verbose=False)\n",
    "    return mu"
   ]
  },
  {
   "cell_type": "code",
   "execution_count": 23,
   "metadata": {
    "collapsed": false
   },
   "outputs": [
    {
     "data": {
      "image/png": "[encoded data removed]",
      "text/plain": [
       "<matplotlib.figure.Figure at 0x7f2e83575310>"
      ]
     },
     "metadata": {},
     "output_type": "display_data"
    }
   ],
   "source": [
    "X, y = datasets(name='gaussian', n_points=300, sigma=1.7)\n",
    "plot_dataset(X, y)"
   ]
  },
  {
   "cell_type": "code",
   "execution_count": 24,
   "metadata": {
    "collapsed": false
   },
   "outputs": [],
   "source": [
    "n,p = X.shape\n",
    "\n",
    "C = 0.5\n",
    "K = kernel(X, X)"
   ]
  },
  {
   "cell_type": "code",
   "execution_count": 25,
   "metadata": {
    "collapsed": true
   },
   "outputs": [],
   "source": [
    "mu_support, idx_support = svm_solver(K, y, C)\n",
    "mu_true = svm_solver_1(K, y, C)[:,np.newaxis]\n",
    "b_true = compute_b(K, y, mu_support, idx_support)"
   ]
  },
  {
   "cell_type": "code",
   "execution_count": 26,
   "metadata": {
    "collapsed": true
   },
   "outputs": [],
   "source": [
    "y = np.array(y)[:,np.newaxis]\n",
    "mu0 = np.zeros(mu_true.shape)"
   ]
  },
  {
   "cell_type": "code",
   "execution_count": 27,
   "metadata": {
    "collapsed": true
   },
   "outputs": [],
   "source": [
    "def f(u):\n",
    "    return 1/2.*u.T.dot(y.T*K*y).dot(u)-np.sum(u)\n",
    "\n",
    "def grad_f(u):\n",
    "    return (y.T*K*y).dot(u)-np.ones(u.shape)\n",
    "\n",
    "def g(u):\n",
    "    for i in u:\n",
    "        if i > C:\n",
    "            return np.inf\n",
    "        if i < 0:\n",
    "            return np.inf\n",
    "    return 0\n",
    "\n",
    "def prox_g(u):\n",
    "    tmp = u.copy()\n",
    "    n = len(tmp)\n",
    "    for i in np.arange(n):\n",
    "        if tmp[i] < 0:\n",
    "            tmp[i] = 0\n",
    "        if tmp[i] > C:\n",
    "            tmp[i] = C\n",
    "    return tmp"
   ]
  },
  {
   "cell_type": "code",
   "execution_count": null,
   "metadata": {
    "collapsed": true
   },
   "outputs": [],
   "source": []
  },
  {
   "cell_type": "markdown",
   "metadata": {},
   "source": [
    "### 1.1 Proximal gradient without acceleration"
   ]
  },
  {
   "cell_type": "code",
   "execution_count": 28,
   "metadata": {
    "collapsed": false
   },
   "outputs": [],
   "source": [
    "from numpy import linalg as LA\n",
    "def lip_svm(y,K):\n",
    "    \"\"\"Lipschitz constant for linear squares loss\"\"\"  \n",
    "    tmp = y.T*K*y\n",
    "    w,v = LA.eig(tmp)\n",
    "    return max(w)\n",
    "    \n",
    "    \n",
    "def ista(mu0, f, grad_f, g, prox_g, step, n_iter=50,epsilon=0.1,\n",
    "         mu_true=mu_true, verbose=True):\n",
    "    \"\"\"Proximal gradient descent algorithm\n",
    "    \"\"\"\n",
    "    mu = mu0.copy()\n",
    "    mu_new = mu0.copy()\n",
    "    n_samples, n_features = X.shape\n",
    "    \n",
    "    f_min = f(mu_true)\n",
    "    # estimation error history\n",
    "    errors = []\n",
    "    # Current objective\n",
    "    obj = f(mu) + g(mu)\n",
    "    # Current estimation objectif error\n",
    "    err = LA.norm(obj - f_min) / LA.norm(f_min)\n",
    "    errors.append(err)\n",
    "\n",
    "    if verbose:\n",
    "        print \"Lauching ISTA solver...\"\n",
    "        print ' | '.join([name.center(8) for name in [\"it\", \"err\"]])\n",
    "    for k in range(n_iter + 1):\n",
    "\n",
    "        #### TODO ####\n",
    "        mu = prox_g(mu_new - step * grad_f(mu_new))\n",
    "        mu_new = mu.copy()\n",
    "        \n",
    "        obj = f(mu) + g(mu)\n",
    "        err = LA.norm(obj - f_min) / LA.norm(f_min)\n",
    "        errors.append(err)\n",
    "        if k % 100 == 0 and verbose:\n",
    "            print ' | '.join([(\"%d\" % k).rjust(8), \n",
    "                              (\"%.2e\" % err).rjust(8)])\n",
    "        if abs(err) < epsilon:\n",
    "            return mu,np.array(errors)\n",
    "    return mu, errors"
   ]
  },
  {
   "cell_type": "code",
   "execution_count": 29,
   "metadata": {
    "collapsed": false
   },
   "outputs": [
    {
     "name": "stdout",
     "output_type": "stream",
     "text": [
      "--- 4.86171388626 seconds ---\n"
     ]
    }
   ],
   "source": [
    "import time\n",
    "start_time = time.time()\n",
    "\n",
    "mu_final_ista,errs_ista=ista(mu0, f, grad_f, g, prox_g, 1./lip_svm(y,K), n_iter=1000, epsilon=0.01,\n",
    "         mu_true=mu_true, verbose=False)\n",
    "\n",
    "print(\"--- %s seconds ---\" % (time.time() - start_time))"
   ]
  },
  {
   "cell_type": "code",
   "execution_count": 30,
   "metadata": {
    "collapsed": false
   },
   "outputs": [
    {
     "name": "stdout",
     "output_type": "stream",
     "text": [
      "the error =  0.117162100265\n"
     ]
    }
   ],
   "source": [
    "print \"the error = \",errs_ista[-1]"
   ]
  },
  {
   "cell_type": "markdown",
   "metadata": {},
   "source": [
    "### 1.2 Proximal gradient with acceleration"
   ]
  },
  {
   "cell_type": "code",
   "execution_count": 31,
   "metadata": {
    "collapsed": true
   },
   "outputs": [],
   "source": [
    "def fista(mu0, f, grad_f, g, prox_g, step, n_iter=50,epsilon=0.1,\n",
    "         mu_true=mu_true, verbose=True):\n",
    "    \"\"\"Accelerated Proximal gradient descent algorithm\n",
    "    \"\"\"\n",
    "    mu = mu0.copy()\n",
    "    mu_new = mu0.copy()\n",
    "    # An extra variable is required for FISTA\n",
    "    z = mu0.copy()\n",
    "    n_samples, n_features = X.shape\n",
    "    \n",
    "    f_min = f(mu_true)\n",
    "    # estimation error history\n",
    "    errors = []\n",
    "    # Current objective\n",
    "    obj = f(mu) + g(mu)\n",
    "    # Current estimation objectif error\n",
    "    err = LA.norm(obj - f_min) / LA.norm(f_min)\n",
    "    errors.append(err)\n",
    "    \n",
    "    t = 1.\n",
    "    t_new = 1.    \n",
    "    if verbose:\n",
    "        print \"Lauching FISTA solver...\"\n",
    "        print ' | '.join([name.center(8) for name in [\"it\", \"err\"]])\n",
    "    for k in range(n_iter + 1):\n",
    "        # L is defined out of this fonction\n",
    "        mu_new=prox_g(z-step*grad_f(z))\n",
    "        t_new=(1+np.sqrt(1+4*t*t))/2\n",
    "        z=mu_new+(t-1)/t_new*(mu_new-mu)\n",
    "        \n",
    "        t=t_new.copy()\n",
    "        mu=mu_new.copy()\n",
    "\n",
    "        obj = f(mu) + g(mu)\n",
    "        err = LA.norm(obj - f_min) / LA.norm(f_min)\n",
    "        errors.append(err)\n",
    "        if k % 100 == 0 and verbose:\n",
    "            print ' | '.join([(\"%d\" % k).rjust(8), \n",
    "                              (\"%.2e\" % err).rjust(8)])\n",
    "        if abs(err) < epsilon:\n",
    "            return mu,np.array(errors)\n",
    "    return mu, np.array(errors)"
   ]
  },
  {
   "cell_type": "code",
   "execution_count": 32,
   "metadata": {
    "collapsed": false
   },
   "outputs": [
    {
     "name": "stdout",
     "output_type": "stream",
     "text": [
      "--- 0.638040065765 seconds ---\n"
     ]
    }
   ],
   "source": [
    "start_time = time.time()\n",
    "\n",
    "mu_final_fista,errs_fista=fista(mu0, f, grad_f, g, prox_g, 1./lip_svm(y,K), n_iter=1000,epsilon=0.01,\n",
    "         mu_true=mu_true, verbose=False)\n",
    "\n",
    "print(\"--- %s seconds ---\" % (time.time() - start_time))"
   ]
  },
  {
   "cell_type": "code",
   "execution_count": 33,
   "metadata": {
    "collapsed": false
   },
   "outputs": [
    {
     "name": "stdout",
     "output_type": "stream",
     "text": [
      "the error =  0.00903623669529\n"
     ]
    }
   ],
   "source": [
    "print \"the error = \",errs_fista[-1]"
   ]
  },
  {
   "cell_type": "markdown",
   "metadata": {
    "collapsed": true
   },
   "source": [
    "### 2 Cyclic coordinate descent \n"
   ]
  },
  {
   "cell_type": "code",
   "execution_count": 34,
   "metadata": {
    "collapsed": false
   },
   "outputs": [],
   "source": [
    "def prox_g_coor(u):\n",
    "    if u < 0:\n",
    "        return 0\n",
    "    if u > C:\n",
    "        return C\n",
    "    return u\n",
    "\n",
    "\n",
    "L=y.T*K*y\n",
    "\n",
    "def grad_coor(u,i):\n",
    "    return L[i].dot(u)-1"
   ]
  },
  {
   "cell_type": "code",
   "execution_count": 35,
   "metadata": {
    "collapsed": true
   },
   "outputs": [],
   "source": [
    "def coordinate_descend(mu0,f, g, prox_g, grad_coor, n_iter=50,epsilon=0.1,\n",
    "              mu_true=mu_true,  verbose=True):\n",
    "    \n",
    "    mu = mu0.copy()\n",
    "    mu_new = mu0.copy()\n",
    "    n_features = len(mu0)\n",
    "\n",
    "    f_min = f(mu_true)\n",
    "    # estimation error history\n",
    "    errors = []\n",
    "    # Current objective\n",
    "    obj = f(mu) + g(mu)\n",
    "    # Current estimation objectif error\n",
    "    err = LA.norm(obj - f_min) / LA.norm(f_min)\n",
    "    errors.append(err)\n",
    "\n",
    "    if verbose:\n",
    "        print \"Lauching Coordinate Descent solver...\"\n",
    "        print ' | '.join([name.center(8) for name in [\"it\", \"err\"]])\n",
    "\n",
    "    for k in range(n_iter + 1):\n",
    "\n",
    "        #### TODO ####\n",
    "        i = np.random.randint(n_features)\n",
    "        step = 1./LA.norm(L[i])\n",
    "        mu_new[i,0] = prox_g(mu[i,0]-step*grad_coor(mu,i))\n",
    "        mu[i,0]=mu_new[i,0]\n",
    "        \n",
    "        \n",
    "        obj = f(mu) + g(mu)\n",
    "        # Current estimation objectif error\n",
    "        err = LA.norm(obj - f_min) / LA.norm(f_min)\n",
    "        errors.append(err)\n",
    "        if k % 100 == 0 and verbose:\n",
    "            print ' | '.join([(\"%d\" % k).rjust(8), \n",
    "                              (\"%.2e\" % err).rjust(8)])\n",
    "        if abs(err) < epsilon:\n",
    "            return mu,errors\n",
    "    return mu,errors"
   ]
  },
  {
   "cell_type": "code",
   "execution_count": 36,
   "metadata": {
    "collapsed": false
   },
   "outputs": [
    {
     "name": "stdout",
     "output_type": "stream",
     "text": [
      "--- 24.286096096 seconds ---\n"
     ]
    }
   ],
   "source": [
    "start_time = time.time()\n",
    "mu_final_cd,errs_cd=coordinate_descend(mu0, f, g, prox_g_coor, grad_coor, n_iter=100000,epsilon=0.01,\n",
    "         mu_true=mu_true, verbose=False)\n",
    "print(\"--- %s seconds ---\" % (time.time() - start_time))"
   ]
  },
  {
   "cell_type": "code",
   "execution_count": 37,
   "metadata": {
    "collapsed": false
   },
   "outputs": [
    {
     "name": "stdout",
     "output_type": "stream",
     "text": [
      "the error =  0.00952514745103\n"
     ]
    }
   ],
   "source": [
    "print \"the error = \",errs_cd[-1]"
   ]
  },
  {
   "cell_type": "code",
   "execution_count": 38,
   "metadata": {
    "collapsed": false
   },
   "outputs": [],
   "source": [
    "errs_cd = np.array(errs_cd)[np.arange(0,len(errs_cd),len(mu0))]"
   ]
  },
  {
   "cell_type": "markdown",
   "metadata": {},
   "source": [
    "### 3 L-BFGS-B"
   ]
  },
  {
   "cell_type": "code",
   "execution_count": 39,
   "metadata": {
    "collapsed": false
   },
   "outputs": [],
   "source": [
    "from scipy.optimize import fmin_l_bfgs_b\n",
    "\n",
    "def loss(u):\n",
    "    return f(u)+g(u)\n",
    "\n",
    "mybounds = [(0, C)]*mu_true.size"
   ]
  },
  {
   "cell_type": "code",
   "execution_count": 40,
   "metadata": {
    "collapsed": false
   },
   "outputs": [
    {
     "name": "stdout",
     "output_type": "stream",
     "text": [
      "--- 0.147320985794 seconds ---\n"
     ]
    }
   ],
   "source": [
    "start_time = time.time()\n",
    "x_min, f_min, _ = fmin_l_bfgs_b(loss, mu0, grad_f,bounds=mybounds, pgtol=1e-20)\n",
    "print(\"--- %s seconds ---\" % (time.time() - start_time))"
   ]
  },
  {
   "cell_type": "code",
   "execution_count": 41,
   "metadata": {
    "collapsed": true
   },
   "outputs": [],
   "source": [
    "err = LA.norm(loss(mu_true) - f_min) / LA.norm(f_min)"
   ]
  },
  {
   "cell_type": "code",
   "execution_count": 42,
   "metadata": {
    "collapsed": false
   },
   "outputs": [
    {
     "name": "stdout",
     "output_type": "stream",
     "text": [
      " the error = 3.16e-02\n"
     ]
    }
   ],
   "source": [
    "print \" the error = %.2e\" %err"
   ]
  },
  {
   "cell_type": "code",
   "execution_count": 43,
   "metadata": {
    "collapsed": false
   },
   "outputs": [],
   "source": [
    "def inspector(loss_fun,verbose=False):\n",
    "    \"\"\"A closure called to update metrics after each iteration.\"\"\"\n",
    "    errors = []\n",
    "    it = [0] # This is a hack to be able to modify 'it' inside the closure.\n",
    "    def inspector_cl(xk):\n",
    "        err = LA.norm(loss(xk) - f(mu_true)) / LA.norm(f(mu_true))\n",
    "        errors.append(err)\n",
    "        if verbose == True:\n",
    "            if it[0] == 0:\n",
    "                print(' | '.join([name.center(8) for name in [\"it\", \"err\"]]))\n",
    "            if it[0] % (10) == 0:\n",
    "                print(' | '.join([(\"%d\" % it[0]).rjust(8), (\"%.2e\" % err).rjust(8)]))\n",
    "            it[0] += 1\n",
    "    inspector_cl.err = errors\n",
    "    return inspector_cl"
   ]
  },
  {
   "cell_type": "code",
   "execution_count": 44,
   "metadata": {
    "collapsed": false
   },
   "outputs": [
    {
     "name": "stdout",
     "output_type": "stream",
     "text": [
      "   it    |   err   \n",
      "       0 | 9.97e-01\n",
      "      10 | 4.43e-01\n",
      "      20 | 1.31e-01\n",
      "      30 | 6.55e-02\n",
      "      40 | 6.28e-03\n",
      "      50 | 1.56e-02\n",
      "      60 | 2.38e-02\n",
      "      70 | 2.91e-02\n",
      "      80 | 3.02e-02\n",
      "      90 | 3.10e-02\n",
      "     100 | 3.17e-02\n",
      "     110 | 3.23e-02\n",
      "     120 | 3.26e-02\n",
      "     130 | 3.26e-02\n"
     ]
    }
   ],
   "source": [
    "bfgs_inspector = inspector(loss, verbose=True)\n",
    "mu_bfgs, _, _ = fmin_l_bfgs_b(loss, mu0, grad_f,bounds=mybounds, pgtol=1e-3, maxiter=1000, callback=bfgs_inspector)"
   ]
  },
  {
   "cell_type": "code",
   "execution_count": 45,
   "metadata": {
    "collapsed": false
   },
   "outputs": [
    {
     "data": {
      "image/png": "[encoded data removed]",
      "text/plain": [
       "<matplotlib.figure.Figure at 0x7f2e80396990>"
      ]
     },
     "metadata": {},
     "output_type": "display_data"
    }
   ],
   "source": [
    "plt.plot(errs_ista,label='ISTA')\n",
    "plt.plot(errs_fista,label='FISTA')\n",
    "plt.plot(errs_cd,label='CD')\n",
    "plt.plot(bfgs_inspector.err, label=\"L-BFGS-B\")\n",
    "\n",
    "plt.xlabel(\"iteration\", fontsize=14)\n",
    "plt.ylabel(\"distance\", fontsize=14)\n",
    "plt.title(\"Loss\", fontsize=18)\n",
    "plt.yscale(\"log\")\n",
    "\n",
    "plt.legend();"
   ]
  },
  {
   "cell_type": "code",
   "execution_count": 46,
   "metadata": {
    "collapsed": false
   },
   "outputs": [
    {
     "ename": "SyntaxError",
     "evalue": "invalid syntax (<ipython-input-46-95caf0705fee>, line 1)",
     "output_type": "error",
     "traceback": [
      "\u001b[1;36m  File \u001b[1;32m\"<ipython-input-46-95caf0705fee>\"\u001b[1;36m, line \u001b[1;32m1\u001b[0m\n\u001b[1;33m    In conclusion:\u001b[0m\n\u001b[1;37m                ^\u001b[0m\n\u001b[1;31mSyntaxError\u001b[0m\u001b[1;31m:\u001b[0m invalid syntax\n"
     ]
    }
   ],
   "source": [
    "In conclusion: \n",
    "    - In terms of computational time: t(l-bfgs-b)<t()"
   ]
  }
 ],
 "metadata": {
  "kernelspec": {
   "display_name": "Python 2",
   "language": "python",
   "name": "python2"
  },
  "language_info": {
   "codemirror_mode": {
    "name": "ipython",
    "version": 2
   },
   "file_extension": ".py",
   "mimetype": "text/x-python",
   "name": "python",
   "nbconvert_exporter": "python",
   "pygments_lexer": "ipython2",
   "version": "2.7.12"
  }
 },
 "nbformat": 4,
 "nbformat_minor": 0
}
